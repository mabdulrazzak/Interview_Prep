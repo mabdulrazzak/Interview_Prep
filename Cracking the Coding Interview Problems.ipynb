{
 "cells": [
  {
   "cell_type": "markdown",
   "metadata": {},
   "source": [
    "## Cracking the Coding Interview Problems\n",
    "### Topics\n",
    "- Strings\n",
    "- Arrays\n",
    "- LinkedLists\n",
    "- Trees\n",
    "\n",
    "**Among algortihm questions, these are the ones you are most likely to encounter.**\n",
    "Use this notebook to record pointers, tips, and techniques. Doing these problems will give you a focused refresher on coding for interviews with the relevant data structures."
   ]
  },
  {
   "cell_type": "markdown",
   "metadata": {},
   "source": [
    "### Strings\n",
    "\n",
    "#### Pointers for String problems\n",
    "\n",
    "Use this space to record pointers for string problems\n",
    "\n",
    "- Sample pointer 1: Consider using a dictionary to keep character counts\n",
    "- Used set to handle character tracking: Also tried withArray, but Array is a list which increases execution time vs set which used map so the search is 0(1) i.e. faster\n",
    "- Char at a index in string: `string[index]` \n",
    "- Declaring set: nameofSet = `set()`\n",
    "- To check elem in set: `if (elem in nameOfSet)`\n",
    "- Adding element to set: `nameOfSet.add(elem)`\n",
    "- For true/false use `False True`\n",
    "- Range of ints: `range (low, high+1)`\n",
    "\n",
    "\n",
    "### Problem 1)\n",
    "\n",
    "**is_unique(string):** - Write a problem to return True or False for whether a passed string contains repeated characters\n",
    "\n",
    "For example: is_unique('the dog') => **True**; is_unique('apple') => **False** # Repeated char 'p'\n",
    "\n",
    "\n"
   ]
  },
  {
   "cell_type": "code",
   "execution_count": null,
   "metadata": {
    "scrolled": true
   },
   "outputs": [
    {
     "name": "stdout",
     "output_type": "stream",
     "text": [
      "Enter a string to test uniue test\n",
      " Testing the string  test\n",
      "\n",
      " isUnique result for  test   False\n"
     ]
    }
   ],
   "source": [
    "def is_unique(string):\n",
    "    '''\n",
    "    Implement your function here. Return True if the string contains no repeat chars, Return False otherwise\n",
    "    '''\n",
    "    # convert string to lower case\n",
    "    string = string.lower()\n",
    "    print (\" Testing the string \", string)\n",
    "    \n",
    "    chrArray = set()\n",
    "    \n",
    "    for x in range (len(string)):\n",
    "        if (string[x] in chrArray):\n",
    "            return False\n",
    "        else: \n",
    "            chrArray.add(string[x])\n",
    "    return True\n",
    "\n",
    "\n",
    "while (1):\n",
    "    st = input (\"Enter a string to test uniue \")\n",
    "    print ('\\n isUnique result for ',st, ' ', is_unique (st))\n",
    "\n"
   ]
  },
  {
   "cell_type": "markdown",
   "metadata": {},
   "source": [
    "#### Tests for is_unique "
   ]
  },
  {
   "cell_type": "code",
   "execution_count": 25,
   "metadata": {},
   "outputs": [],
   "source": [
    "'''\n",
    "Run this cell after you complete the function above\n",
    "If all test cases pass, there will be no output\n",
    "Else, there will be an assertion error\n",
    "'''\n",
    "assert( is_unique('apple') == False )\n",
    "assert( is_unique('bAnana') == False )\n",
    "assert( is_unique('table') ==  True )"
   ]
  },
  {
   "cell_type": "markdown",
   "metadata": {},
   "source": [
    "### Problem 2)\n",
    "\n",
    "**check_perm (str_1, str_2):** - Write a problem to return True or False for whether a passed string 1 is the permutation of the second string; Trim white space and case insensitive; \n",
    "\n",
    "For example: check_perm (\"abcd\", \"cbad\") => **True**; check_perm (\"abcd\", \"aabcd\") => **False** Additional char a\n"
   ]
  },
  {
   "cell_type": "code",
   "execution_count": 10,
   "metadata": {},
   "outputs": [
    {
     "data": {
      "text/plain": [
       "False"
      ]
     },
     "execution_count": 10,
     "metadata": {},
     "output_type": "execute_result"
    }
   ],
   "source": [
    "def check_perm  (str_1, str_2):\n",
    "    \n",
    "    # Case same case\n",
    "    str_1 = str_1.lower()\n",
    "    str_2 = str_2.lower()\n",
    "    \n",
    "    # if lengths are not equal return false\n",
    "    \n",
    "    if (not(len(str_1) ==  len(str_2))):\n",
    "        return False\n",
    "    \n",
    "    # create map for the first string\n",
    "    char_count_map = {}\n",
    "    \n",
    "    for x in range (len(str_1)):\n",
    "        char = str_1[x]\n",
    "        if (char in char_count_map):\n",
    "            char_count_map[char] = char_count_map[char] + 1\n",
    "        else: # For each duplicate char, increment the count\n",
    "            char_count_map[char] = 1\n",
    "    \n",
    "    ## checking the perms\n",
    "    # Iterate the second string and start reducing the count and if count goes to 0 remove the elem\n",
    "    for x in range(len(str_2)):\n",
    "        char = str_2[x]\n",
    "        if (not(char in char_count_map)):\n",
    "            return False\n",
    "        else:\n",
    "            if (char_count_map[char] == 1):\n",
    "                del char_count_map[char]\n",
    "            else:\n",
    "                char_count_map[char] = char_count_map[char]-1\n",
    "                \n",
    "    # if the map does not have the char return false\n",
    "    return (len(char_count_map)==0)\n",
    "\n",
    "check_perm (\"aabcjcd\", \"bedftgr\")\n",
    "    \n",
    "    "
   ]
  },
  {
   "cell_type": "code",
   "execution_count": 11,
   "metadata": {},
   "outputs": [],
   "source": [
    "'''\n",
    "Run this cell after you complete the function above\n",
    "If all test cases pass, there will be no output\n",
    "Else, there will be an assertion error\n",
    "'''\n",
    "assert( check_perm (\"aabcjcd\", \"bedftgr\") == False )\n",
    "assert( check_perm (\"aabcjcd\", \"baaaccd\") == False )\n",
    "assert( check_perm (\"aabbcccdddde\", \"ebabacdcdcdd\") ==  True )"
   ]
  },
  {
   "cell_type": "markdown",
   "metadata": {},
   "source": [
    "### Problem 3)\n",
    "\n",
    "**reverse_c_style_string (string):** - Write a problem to reverse a C style string. Clue: C style strings has NULL charatcer at the end\n",
    "\n",
    "For example: creverse_c_style_string (\"abcd\\0\") => **dcba**; "
   ]
  },
  {
   "cell_type": "code",
   "execution_count": 26,
   "metadata": {},
   "outputs": [
    {
     "data": {
      "text/plain": [
       "'dcba'"
      ]
     },
     "execution_count": 26,
     "metadata": {},
     "output_type": "execute_result"
    }
   ],
   "source": [
    "def reverse_c_style_string (string):\n",
    "    str_2 = \"\"\n",
    "    for x in range(len(string)):\n",
    "        char = string[x]\n",
    "        str_2 =  char + str_2\n",
    "    return str_2\n",
    "\n",
    "reverse_c_style_string (\"abcd\")"
   ]
  },
  {
   "cell_type": "code",
   "execution_count": 28,
   "metadata": {},
   "outputs": [],
   "source": [
    "'''\n",
    "Run this cell after you complete the function above\n",
    "If all test cases pass, there will be no output\n",
    "Else, there will be an assertion error\n",
    "'''\n",
    "assert(reverse_c_style_string (\"abcdefg\") == \"gfedcba\" )\n",
    "assert(reverse_c_style_string (\"4321ba\") == \"ab1234\")\n"
   ]
  },
  {
   "cell_type": "markdown",
   "metadata": {},
   "source": [
    "### Problem 4)\n",
    "\n",
    "**reverse_in_place (list):** - Reverse the elements of list in place in O(n) time\n",
    "\n",
    "For example: `reverse_in_place ( ['a', 'b', 'c', 'd', 'e'] ) == ['e', 'd', 'c', 'b', 'a']`"
   ]
  },
  {
   "cell_type": "code",
   "execution_count": 47,
   "metadata": {},
   "outputs": [
    {
     "name": "stdout",
     "output_type": "stream",
     "text": [
      "['e', 'd', 'c', 'b', 'a']\n"
     ]
    }
   ],
   "source": [
    "def reverse_in_place( lst ):\n",
    "    \n",
    "    #get the list lenght\n",
    "    list_len = len(lst)\n",
    "    \n",
    "    if (list_len == 1):\n",
    "        return lst\n",
    "    \n",
    "    head_index = 0\n",
    "    tail_index = list_len - 1\n",
    "    \n",
    "    while (head_index < tail_index):\n",
    "        tmp = lst[head_index]\n",
    "        lst[head_index] = lst[tail_index]\n",
    "        lst[tail_index] = tmp\n",
    "        head_index=head_index + 1\n",
    "        tail_index = tail_index - 1\n",
    "    return lst\n",
    "        \n",
    "lst =  ['a', 'b', 'c', 'd', 'e']\n",
    "lst = reverse_in_place ( lst )\n",
    "print (lst)"
   ]
  },
  {
   "cell_type": "code",
   "execution_count": 42,
   "metadata": {},
   "outputs": [],
   "source": [
    "'''\n",
    "Run these tests after defining the function above\n",
    "'''\n",
    "assert ( ''.join( reverse_in_place( ['a','b','c','d'] ) ) == 'dcba')"
   ]
  },
  {
   "cell_type": "markdown",
   "metadata": {},
   "source": [
    "### Problem 5)\n",
    "\n",
    "**URL_stringify (list):** - URLify a string represented as a char array, where every space is replaced in the following manner\n",
    "\n",
    "`' ' => '%', '2', '0'`. The original array has enough elements at the end of the list to accomodate for these added chars \n",
    "\n",
    "For example: `URL_stringify ( ['a', ' ', 'b', ' ', 'c', 'd', ' ', ' ', ' ', ' '] ) == ['a', '%', '2', '0', 'b', '%', '2', '0', 'c', 'd']`"
   ]
  },
  {
   "cell_type": "code",
   "execution_count": 49,
   "metadata": {},
   "outputs": [],
   "source": [
    "def URL_stringify( list ):\n",
    "\n",
    "    # find the length of the list\n",
    "    len_list = len(list)\n",
    "    write_index = len_list -1\n",
    "    alpha_tracker = write_index\n",
    "\n",
    "    # find the last alpha charater in the list\n",
    "    while (list[alpha_tracker] == \" \"):\n",
    "        aplha_tracker = alpha_tracker-1\n",
    "        \n",
    "    # copy the last alpha to last;\n",
    "    while (alpha_tracker > 0):\n",
    "        if (not (list[apha_tracker] == \" \")):\n",
    "            list[write_index] = list[apha_tracker]\n",
    "            write_index = write_index - 1\n",
    "            alpha_tracker = alpha_tracker - 1\n",
    "        else:  \n",
    "            list[write_index] = '0'\n",
    "            list[write_index-1] = '2'\n",
    "            list[write_index-2] = '%'\n",
    "            write_index = write_index - 3\n",
    "            alpha_tracker = alpha_tracker - 1    \n",
    "    \n",
    "    return list\n",
    "\n"
   ]
  },
  {
   "cell_type": "code",
   "execution_count": null,
   "metadata": {},
   "outputs": [],
   "source": [
    "'''\n",
    "Run these tests after defining the function above to accomodate for the extra characters\n",
    "'''\n",
    "assert( ''.join(URL_stringify(['a', ' ', 'b', ' ', 'c', 'd', ' ', ' ', ' ', ' '])) == 'a%20b%20cd' )\n"
   ]
  },
  {
   "cell_type": "markdown",
   "metadata": {},
   "source": [
    "###  Problem 6\n",
    "**rotate_list ( list, k ):** - Rotate an array in place by k elements.\n",
    "\n",
    "`rotate_list( [1,2,3,4], 2 ) == [3,4,1,2]`"
   ]
  },
  {
   "cell_type": "code",
   "execution_count": 1,
   "metadata": {},
   "outputs": [],
   "source": [
    "def rotate_list( list, k ):\n",
    "    \n",
    "    # sanitize the rotation\n",
    "    rotator = k - len(list)\n",
    "    \n",
    "    return"
   ]
  },
  {
   "cell_type": "code",
   "execution_count": 2,
   "metadata": {},
   "outputs": [
    {
     "ename": "TypeError",
     "evalue": "can only join an iterable",
     "output_type": "error",
     "traceback": [
      "\u001b[1;31m---------------------------------------------------------------------------\u001b[0m",
      "\u001b[1;31mTypeError\u001b[0m                                 Traceback (most recent call last)",
      "\u001b[1;32m<ipython-input-2-091b54fffd89>\u001b[0m in \u001b[0;36m<module>\u001b[1;34m\u001b[0m\n\u001b[0;32m      2\u001b[0m \u001b[0mRun\u001b[0m \u001b[0mthese\u001b[0m \u001b[0mtests\u001b[0m \u001b[0mafter\u001b[0m \u001b[0mdefining\u001b[0m \u001b[0mthe\u001b[0m \u001b[0mfunction\u001b[0m \u001b[0mabove\u001b[0m\u001b[1;33m\u001b[0m\u001b[1;33m\u001b[0m\u001b[0m\n\u001b[0;32m      3\u001b[0m '''\n\u001b[1;32m----> 4\u001b[1;33m \u001b[1;32massert\u001b[0m \u001b[1;33m(\u001b[0m \u001b[1;34m''\u001b[0m\u001b[1;33m.\u001b[0m\u001b[0mjoin\u001b[0m\u001b[1;33m(\u001b[0m\u001b[0mrotate_list\u001b[0m\u001b[1;33m(\u001b[0m \u001b[1;33m[\u001b[0m\u001b[1;36m1\u001b[0m\u001b[1;33m,\u001b[0m\u001b[1;36m2\u001b[0m\u001b[1;33m,\u001b[0m\u001b[1;36m3\u001b[0m\u001b[1;33m,\u001b[0m\u001b[1;36m4\u001b[0m\u001b[1;33m]\u001b[0m\u001b[1;33m,\u001b[0m \u001b[1;36m2\u001b[0m \u001b[1;33m)\u001b[0m\u001b[1;33m)\u001b[0m \u001b[1;33m==\u001b[0m \u001b[1;34m'3412'\u001b[0m \u001b[1;33m)\u001b[0m\u001b[1;33m\u001b[0m\u001b[1;33m\u001b[0m\u001b[0m\n\u001b[0m",
      "\u001b[1;31mTypeError\u001b[0m: can only join an iterable"
     ]
    }
   ],
   "source": [
    "'''\n",
    "Run these tests after defining the function above\n",
    "'''\n",
    "assert ( ''.join(rotate_list( [1,2,3,4], 2 )) == '3412' )"
   ]
  },
  {
   "cell_type": "code",
   "execution_count": 11,
   "metadata": {},
   "outputs": [
    {
     "name": "stdout",
     "output_type": "stream",
     "text": [
      "'' was not found in history, as a file, url, nor in the user namespace.\n",
      "On branch master\n",
      "Your branch is up to date with 'origin/master'.\n",
      "\n",
      "Changes not staged for commit:\n",
      "  (use \"git add/rm <file>...\" to update what will be committed)\n",
      "  (use \"git checkout -- <file>...\" to discard changes in working directory)\n",
      "\n",
      "\tdeleted:    Cracking the Coding Interview Problems.ipynb\n",
      "\n",
      "Untracked files:\n",
      "  (use \"git add <file>...\" to include in what will be committed)\n",
      "\n",
      "\tctci.ipynb\n",
      "\n",
      "no changes added to commit (use \"git add\" and/or \"git commit -a\")\n"
     ]
    },
    {
     "name": "stderr",
     "output_type": "stream",
     "text": [
      "warning: LF will be replaced by CRLF in ctci.ipynb.\n",
      "The file will have its original line endings in your working directory\n"
     ]
    },
    {
     "name": "stdout",
     "output_type": "stream",
     "text": [
      "[master d74f1ba] progress commit\n",
      " Committer: Mohammed Abdul-Razzak <mabdulra@ss8.com>\n",
      "Your name and email address were configured automatically based\n",
      "on your username and hostname. Please check that they are accurate.\n",
      "You can suppress this message by setting them explicitly. Run the\n",
      "following command and follow the instructions in your editor to edit\n",
      "your configuration file:\n",
      "\n",
      "    git config --global --edit\n",
      "\n",
      "After doing this, you may fix the identity used for this commit with:\n",
      "\n",
      "    git commit --amend --reset-author\n",
      "\n",
      " 1 file changed, 4 insertions(+), 18 deletions(-)\n",
      " rename Cracking the Coding Interview Problems.ipynb => ctci.ipynb (96%)\n",
      "Branch 'master' set up to track remote branch 'master' from 'origin'.\n"
     ]
    },
    {
     "name": "stderr",
     "output_type": "stream",
     "text": [
      "To https://github.com/mabdulrazzak/Interview_Prep.git\n",
      "   994ed91..d74f1ba  master -> master\n"
     ]
    }
   ],
   "source": [
    "# Saves and commits the code\n",
    "! git status\n",
    "! git add .\n",
    "! git commit -m \"progress commit\"\n",
    "! git push -u origin master"
   ]
  },
  {
   "cell_type": "code",
   "execution_count": null,
   "metadata": {},
   "outputs": [],
   "source": []
  }
 ],
 "metadata": {
  "kernelspec": {
   "display_name": "Python 3",
   "language": "python",
   "name": "python3"
  },
  "language_info": {
   "codemirror_mode": {
    "name": "ipython",
    "version": 3
   },
   "file_extension": ".py",
   "mimetype": "text/x-python",
   "name": "python",
   "nbconvert_exporter": "python",
   "pygments_lexer": "ipython3",
   "version": "3.7.2"
  }
 },
 "nbformat": 4,
 "nbformat_minor": 2
}
