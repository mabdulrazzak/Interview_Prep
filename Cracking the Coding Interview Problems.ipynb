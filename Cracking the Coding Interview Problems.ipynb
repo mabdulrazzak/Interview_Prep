{
 "cells": [
  {
   "cell_type": "markdown",
   "metadata": {},
   "source": [
    "## Cracking the Coding Interview Problems\n",
    "### Topics\n",
    "- Strings\n",
    "- Arrays\n",
    "- LinkedLists\n",
    "- Trees\n",
    "\n",
    "**Among algortihm questions, these are the ones you are most likely to encounter.**\n",
    "Use this notebook to record pointers, tips, and techniques. Doing these problems will give you a focused refresher on coding for interviews with the relevant data structures."
   ]
  },
  {
   "cell_type": "markdown",
   "metadata": {},
   "source": [
    "### Strings\n",
    "\n",
    "#### Pointers for String problems\n",
    "\n",
    "Use this space to record pointers for string problems\n",
    "\n",
    "- Sample pointer 1: Consider using a dictionary to keep character counts\n",
    "- Used set to handle character tracking: Also tried withArray, but Array is a list which increases execution time vs set which used map so the search is 0(1) i.e. faster\n",
    "- Char at a index in string: `string[index]` \n",
    "- Declaring set: nameofSet = `set()`\n",
    "- To check elem in set: `if (elem in nameOfSet)`\n",
    "- Adding element to set: `nameOfSet.add(elem)`\n",
    "- For true/false use `False True`\n",
    "- Range of ints: `range (low, high+1)`\n",
    "\n",
    "\n",
    "### Problem 1)\n",
    "\n",
    "**is_unique(string):** - Write a problem to return True or False for whether a passed string contains repeated characters\n",
    "\n",
    "For example: is_unique('the dog') => **True**; is_unique('apple') => **False** # Repeated char 'p'\n",
    "\n",
    "\n"
   ]
  },
  {
   "cell_type": "code",
   "execution_count": null,
   "metadata": {
    "scrolled": true
   },
   "outputs": [
    {
     "name": "stdout",
     "output_type": "stream",
     "text": [
      "Enter a string to test uniue test\n",
      " Testing the string  test\n",
      "\n",
      " isUnique result for  test   False\n"
     ]
    }
   ],
   "source": [
    "def is_unique(string):\n",
    "    '''\n",
    "    Implement your function here. Return True if the string contains no repeat chars, Return False otherwise\n",
    "    '''\n",
    "    # convert string to lower case\n",
    "    string = string.lower()\n",
    "    print (\" Testing the string \", string)\n",
    "    \n",
    "    chrArray = set()\n",
    "    \n",
    "    for x in range (len(string)):\n",
    "        if (string[x] in chrArray):\n",
    "            return False\n",
    "        else: \n",
    "            chrArray.add(string[x])\n",
    "    return True\n",
    "\n",
    "\n",
    "while (1):\n",
    "    st = input (\"Enter a string to test uniue \")\n",
    "    print ('\\n isUnique result for ',st, ' ', is_unique (st))\n",
    "\n"
   ]
  },
  {
   "cell_type": "markdown",
   "metadata": {},
   "source": [
    "#### Tests for is_unique "
   ]
  },
  {
   "cell_type": "code",
   "execution_count": 25,
   "metadata": {},
   "outputs": [],
   "source": [
    "'''\n",
    "Run this cell after you complete the function above\n",
    "If all test cases pass, there will be no output\n",
    "Else, there will be an assertion error\n",
    "'''\n",
    "assert( is_unique('apple') == False )\n",
    "assert( is_unique('bAnana') == False )\n",
    "assert( is_unique('table') ==  True )"
   ]
  },
  {
   "cell_type": "markdown",
   "metadata": {},
   "source": [
    "### Problem 2)\n",
    "\n",
    "**check_perm (str_1, str_2):** - Write a problem to return True or False for whether a passed string 1 is the permutation of the second string; Trim white space and case insensitive; \n",
    "\n",
    "For example: check_perm (\"abcd\", \"cbad\") => **True**; check_perm (\"abcd\", \"aabcd\") => **False** Additional char a\n"
   ]
  },
  {
   "cell_type": "code",
   "execution_count": 10,
   "metadata": {},
   "outputs": [
    {
     "data": {
      "text/plain": [
       "False"
      ]
     },
     "execution_count": 10,
     "metadata": {},
     "output_type": "execute_result"
    }
   ],
   "source": [
    "def check_perm  (str_1, str_2):\n",
    "    \n",
    "    # Case same case\n",
    "    str_1 = str_1.lower()\n",
    "    str_2 = str_2.lower()\n",
    "    \n",
    "    # if lengths are not equal return false\n",
    "    \n",
    "    if (not(len(str_1) ==  len(str_2))):\n",
    "        return False\n",
    "    \n",
    "    # create map for the first string\n",
    "    char_count_map = {}\n",
    "    \n",
    "    for x in range (len(str_1)):\n",
    "        char = str_1[x]\n",
    "        if (char in char_count_map):\n",
    "            char_count_map[char] = char_count_map[char] + 1\n",
    "        else: # For each duplicate char, increment the count\n",
    "            char_count_map[char] = 1\n",
    "    \n",
    "    ## checking the perms\n",
    "    # Iterate the second string and start reducing the count and if count goes to 0 remove the elem\n",
    "    for x in range(len(str_2)):\n",
    "        char = str_2[x]\n",
    "        if (not(char in char_count_map)):\n",
    "            return False\n",
    "        else:\n",
    "            if (char_count_map[char] == 1):\n",
    "                del char_count_map[char]\n",
    "            else:\n",
    "                char_count_map[char] = char_count_map[char]-1\n",
    "                \n",
    "    # if the map does not have the char return false\n",
    "    return (len(char_count_map)==0)\n",
    "\n",
    "check_perm (\"aabcjcd\", \"bedftgr\")\n",
    "    \n",
    "    "
   ]
  },
  {
   "cell_type": "code",
   "execution_count": 11,
   "metadata": {},
   "outputs": [],
   "source": [
    "'''\n",
    "Run this cell after you complete the function above\n",
    "If all test cases pass, there will be no output\n",
    "Else, there will be an assertion error\n",
    "'''\n",
    "assert( check_perm (\"aabcjcd\", \"bedftgr\") == False )\n",
    "assert( check_perm (\"aabcjcd\", \"baaaccd\") == False )\n",
    "assert( check_perm (\"aabbcccdddde\", \"ebabacdcdcdd\") ==  True )"
   ]
  },
  {
   "cell_type": "markdown",
   "metadata": {},
   "source": [
    "### Problem 3)\n",
    "\n",
    "**reverse_c_style_string (string):** - Write a problem to reverse a C style string. Clue: C style strings has NULL charatcer at the end\n",
    "\n",
    "For example: creverse_c_style_string (\"abcd\\0\") => **dcba**; "
   ]
  },
  {
   "cell_type": "code",
   "execution_count": 26,
   "metadata": {},
   "outputs": [
    {
     "data": {
      "text/plain": [
       "'dcba'"
      ]
     },
     "execution_count": 26,
     "metadata": {},
     "output_type": "execute_result"
    }
   ],
   "source": [
    "def reverse_c_style_string (string):\n",
    "    str_2 = \"\"\n",
    "    for x in range(len(string)):\n",
    "        char = string[x]\n",
    "        str_2 =  char + str_2\n",
    "    return str_2\n",
    "\n",
    "reverse_c_style_string (\"abcd\")"
   ]
  },
  {
   "cell_type": "code",
   "execution_count": 28,
   "metadata": {},
   "outputs": [],
   "source": [
    "'''\n",
    "Run this cell after you complete the function above\n",
    "If all test cases pass, there will be no output\n",
    "Else, there will be an assertion error\n",
    "'''\n",
    "assert(reverse_c_style_string (\"abcdefg\") == \"gfedcba\" )\n",
    "assert(reverse_c_style_string (\"4321ba\") == \"ab1234\")\n"
   ]
  },
  {
   "cell_type": "markdown",
   "metadata": {},
   "source": [
    "### Problem 4)\n",
    "\n",
    "**reverse_in_place (list):** - Reverse the elements of list in place in O(n) time\n",
    "\n",
    "For example: `reverse_in_place ( ['a', 'b', 'c', 'd', 'e'] ) == ['e', 'd', 'c', 'b', 'a']`"
   ]
  },
  {
   "cell_type": "code",
   "execution_count": 47,
   "metadata": {},
   "outputs": [
    {
     "name": "stdout",
     "output_type": "stream",
     "text": [
      "['e', 'd', 'c', 'b', 'a']\n"
     ]
    }
   ],
   "source": [
    "def reverse_in_place( lst ):\n",
    "    \n",
    "    #get the list lenght\n",
    "    list_len = len(lst)\n",
    "    \n",
    "    if (list_len == 1):\n",
    "        return lst\n",
    "    \n",
    "    head_index = 0\n",
    "    tail_index = list_len - 1\n",
    "    \n",
    "    while (head_index < tail_index):\n",
    "        tmp = lst[head_index]\n",
    "        lst[head_index] = lst[tail_index]\n",
    "        lst[tail_index] = tmp\n",
    "        head_index=head_index + 1\n",
    "        tail_index = tail_index - 1\n",
    "    return lst\n",
    "        \n",
    "lst =  ['a', 'b', 'c', 'd', 'e']\n",
    "lst = reverse_in_place ( lst )\n",
    "print (lst)"
   ]
  },
  {
   "cell_type": "code",
   "execution_count": 42,
   "metadata": {},
   "outputs": [],
   "source": [
    "'''\n",
    "Run these tests after defining the function above\n",
    "'''\n",
    "assert ( ''.join( reverse_in_place( ['a','b','c','d'] ) ) == 'dcba')"
   ]
  },
  {
   "cell_type": "markdown",
   "metadata": {},
   "source": [
    "### Problem 5)\n",
    "\n",
    "**URL_stringify (list):** - URLify a string represented as a char array, where every space is replaced in the following manner\n",
    "\n",
    "`' ' => '%', '2', '0'`. The original array has enough elements at the end of the list to accomodate for these added chars \n",
    "\n",
    "For example: `URL_stringify ( ['a', ' ', 'b', ' ', 'c', 'd', ' ', ' ', ' ', ' '] ) == ['a', '%', '2', '0', 'b', '%', '2', '0', 'c', 'd']`"
   ]
  },
  {
   "cell_type": "code",
   "execution_count": 49,
   "metadata": {},
   "outputs": [],
   "source": [
    "def URL_stringify( list ):\n",
    "\n",
    "    # find the length of the list\n",
    "    len_list = len(list)\n",
    "    write_index = len_list -1\n",
    "    alpha_tracker = write_index\n",
    "\n",
    "    # find the last alpha charater in the list\n",
    "    while (list[alpha_tracker] == \" \"):\n",
    "        aplha_tracker = alpha_tracker-1\n",
    "        \n",
    "    # copy the last alpha to last;\n",
    "    while (alpha_tracker > 0):\n",
    "        if (not (list[apha_tracker] == \" \")):\n",
    "            list[write_index] = list[apha_tracker]\n",
    "            write_index = write_index - 1\n",
    "            alpha_tracker = alpha_tracker - 1\n",
    "        else:  \n",
    "            list[write_index] = '0'\n",
    "            list[write_index-1] = '2'\n",
    "            list[write_index-2] = '%'\n",
    "            write_index = write_index - 3\n",
    "            alpha_tracker = alpha_tracker - 1    \n",
    "    \n",
    "    return list\n",
    "\n"
   ]
  },
  {
   "cell_type": "code",
   "execution_count": null,
   "metadata": {},
   "outputs": [],
   "source": [
    "'''\n",
    "Run these tests after defining the function above to accomodate for the extra characters\n",
    "'''\n",
    "assert( ''.join(URL_stringify(['a', ' ', 'b', ' ', 'c', 'd', ' ', ' ', ' ', ' '])) == 'a%20b%20cd' )\n"
   ]
  },
  {
   "cell_type": "markdown",
   "metadata": {},
   "source": [
    "# Check matching brackets\n",
    "\n",
    "        This function matches the bracket matching patter in the sting.\n",
    "        Even start bracket must match with the end bracket and must work for nested apttern\n",
    "\n",
    "        For example: A patter like the following \"( if x in range (1, 10):)\" must\n",
    "        return True;\n",
    "\n",
    "        The following should return false\n",
    "\n",
    "        if (x = y){\n",
    "\n",
    "            # comment\n",
    "            # comment\n",
    "            for (x in range (1, 10):\n",
    "        return\n"
   ]
  },
  {
   "cell_type": "code",
   "execution_count": 18,
   "metadata": {},
   "outputs": [],
   "source": [
    "def match_brackets (string, start_char,  end_char ):\n",
    "    '''\n",
    "        This function matches the bracket matching patter in the sting.\n",
    "        Even start bracket must match with the end bracket and must work for nested apttern\n",
    "\n",
    "        For example: A patter like the following \"( if x in range (1, 10):)\" must\n",
    "        return True;\n",
    "\n",
    "        The following should return false\n",
    "\n",
    "        if (x = y){\n",
    "\n",
    "            # comment\n",
    "            # comment\n",
    "            for (x in range (1, 10):\n",
    "        return\n",
    "    '''\n",
    "    bracket_tracker = []\n",
    "    for x in string:\n",
    "\n",
    "        if x == start_char:\n",
    "            bracket_tracker.append(start_char)\n",
    "        else:\n",
    "            if x == end_char:\n",
    "                if (len(bracket_tracker)):\n",
    "                    y= bracket_tracker.pop()\n",
    "                else:\n",
    "                    return False\n",
    "\n",
    "    if (len(bracket_tracker)):\n",
    "        return False\n",
    "    else:\n",
    "        return True"
   ]
  },
  {
   "cell_type": "code",
   "execution_count": 19,
   "metadata": {},
   "outputs": [],
   "source": [
    "\n",
    "assert (match_brackets (\"((jkhy)jkjk)abdfh(sdf(sdf()))\",'(', ')') ==  True)\n",
    "assert (match_brackets (\"((jkhy)jkjk)abdfh(sdf(sdf())))\",'(', ')') ==  False)\n",
    "assert (match_brackets (\"((jkhy)jkjk)abdfh(sdf(sdf())\",'(', ')') ==  False)\n",
    "assert (match_brackets (\"        if (x = y){ \\\n",
    "\\\n",
    "            # comment\\\n",
    "            # comment\\\n",
    "            for (x in range (1, 10):\\\n",
    "        return\", '(', ')') ==  False)     "
   ]
  },
  {
   "cell_type": "markdown",
   "metadata": {},
   "source": [
    "###  Problem 6\n",
    "**rotate_list ( list, k ):** - Rotate an array in place by k elements.\n",
    "\n",
    "`rotate_list( [1,2,3,4], 2 ) == [3,4,1,2]`"
   ]
  },
  {
   "cell_type": "code",
   "execution_count": 35,
   "metadata": {},
   "outputs": [
    {
     "name": "stdout",
     "output_type": "stream",
     "text": [
      "Enter an integer15\n",
      "Enter the rotator size3\n",
      "Input list : [0, 1, 2, 3, 4, 5, 6, 7, 8, 9, 10, 11, 12, 13, 14]\n",
      "Rotated list ** : [12, 13, 14, 0, 1, 2, 3, 4, 5, 6, 7, 8, 9, 10, 11]\n"
     ]
    }
   ],
   "source": [
    "import random\n",
    "def rotate_list( list, rotator ):\n",
    "    \n",
    "    # sanitize the rotation\n",
    "    k = rotator % len(list)\n",
    "    \n",
    "    # Check for the 0\n",
    "    if ((k==0) or (len(list) == 0)):\n",
    "        return list\n",
    "    \n",
    "    # read the first element\n",
    "    list_len = len(list)\n",
    "    item_to_move = list[0];\n",
    "    tmp = list[0]\n",
    "    index =0\n",
    "    \n",
    "    # tracking the indexes within the rotator range\n",
    "    # for certain combinations, the moved index is revisited. \n",
    "    # this listtracks the visited elements with in 0 to rotator range to avoid errors\n",
    "    trackerList = []\n",
    "    \n",
    "    # Start moving the elements one at a time\n",
    "    for x in range(len(list)):\n",
    "\n",
    "        # if index is less than rotator check if already moved \n",
    "        #if not move otherwise move to next till an unmoved items is found\n",
    "        # check if already in trackerList\n",
    "        while ((index in trackerList) and (index <k)):\n",
    "            index +=1\n",
    "            tmp = list[index]\n",
    "        \n",
    "        # Add index to trackerList\n",
    "        trackerList.append(index)\n",
    "\n",
    "        # Move the items\n",
    "        index_to_move = (index + k) % list_len    \n",
    "        item_to_move = list[index_to_move]\n",
    "        list[index_to_move] = tmp\n",
    "        index = index_to_move\n",
    "        tmp = item_to_move\n",
    "        \n",
    "        \n",
    "    print (\"Rotated list ** :\", list)\n",
    "\n",
    "    return\n",
    "\n",
    "# create a random very big list\n",
    "list_size = input ('Enter an integer')\n",
    "list = []\n",
    "\n",
    "for x in range(int(list_size)):\n",
    "    list.append(x)\n",
    "         \n",
    "rotr = input ('Enter the rotator size')\n",
    "print (\"Input list :\", list)\n",
    "rotate_list (list, int(rotr))\n"
   ]
  },
  {
   "cell_type": "code",
   "execution_count": 39,
   "metadata": {},
   "outputs": [
    {
     "name": "stdout",
     "output_type": "stream",
     "text": [
      "Rotated list ** : [3, 4, 1, 2]\n"
     ]
    },
    {
     "ename": "TypeError",
     "evalue": "can only join an iterable",
     "output_type": "error",
     "traceback": [
      "\u001b[1;31m---------------------------------------------------------------------------\u001b[0m",
      "\u001b[1;31mTypeError\u001b[0m                                 Traceback (most recent call last)",
      "\u001b[1;32m<ipython-input-39-587c5226b713>\u001b[0m in \u001b[0;36m<module>\u001b[1;34m\u001b[0m\n\u001b[0;32m      2\u001b[0m \u001b[0mRun\u001b[0m \u001b[0mthese\u001b[0m \u001b[0mtests\u001b[0m \u001b[0mafter\u001b[0m \u001b[0mdefining\u001b[0m \u001b[0mthe\u001b[0m \u001b[0mfunction\u001b[0m \u001b[0mabove\u001b[0m\u001b[1;33m\u001b[0m\u001b[1;33m\u001b[0m\u001b[0m\n\u001b[0;32m      3\u001b[0m '''\n\u001b[1;32m----> 4\u001b[1;33m \u001b[1;32massert\u001b[0m \u001b[1;33m(\u001b[0m \u001b[1;34m''\u001b[0m\u001b[1;33m.\u001b[0m\u001b[0mjoin\u001b[0m\u001b[1;33m(\u001b[0m\u001b[0mrotate_list\u001b[0m\u001b[1;33m(\u001b[0m \u001b[1;33m[\u001b[0m\u001b[1;36m1\u001b[0m\u001b[1;33m,\u001b[0m\u001b[1;36m2\u001b[0m\u001b[1;33m,\u001b[0m\u001b[1;36m3\u001b[0m\u001b[1;33m,\u001b[0m\u001b[1;36m4\u001b[0m\u001b[1;33m]\u001b[0m\u001b[1;33m,\u001b[0m \u001b[1;36m2\u001b[0m \u001b[1;33m)\u001b[0m\u001b[1;33m)\u001b[0m \u001b[1;33m==\u001b[0m \u001b[1;34m'3412'\u001b[0m \u001b[1;33m)\u001b[0m\u001b[1;33m\u001b[0m\u001b[1;33m\u001b[0m\u001b[0m\n\u001b[0m\u001b[0;32m      5\u001b[0m \u001b[1;32massert\u001b[0m \u001b[1;33m(\u001b[0m \u001b[1;34m''\u001b[0m\u001b[1;33m.\u001b[0m\u001b[0mjoin\u001b[0m\u001b[1;33m(\u001b[0m\u001b[0mrotate_list\u001b[0m\u001b[1;33m(\u001b[0m \u001b[1;33m[\u001b[0m\u001b[1;34m'1'\u001b[0m\u001b[1;33m,\u001b[0m\u001b[1;34m'2'\u001b[0m\u001b[1;33m,\u001b[0m\u001b[1;34m'3'\u001b[0m\u001b[1;33m,\u001b[0m\u001b[1;34m'4'\u001b[0m\u001b[1;33m,\u001b[0m\u001b[1;34m'5'\u001b[0m\u001b[1;33m,\u001b[0m\u001b[1;34m'6'\u001b[0m\u001b[1;33m]\u001b[0m\u001b[1;33m,\u001b[0m \u001b[1;36m3\u001b[0m \u001b[1;33m)\u001b[0m\u001b[1;33m)\u001b[0m \u001b[1;33m==\u001b[0m \u001b[1;34m'456123'\u001b[0m \u001b[1;33m)\u001b[0m\u001b[1;33m\u001b[0m\u001b[1;33m\u001b[0m\u001b[0m\n",
      "\u001b[1;31mTypeError\u001b[0m: can only join an iterable"
     ]
    }
   ],
   "source": [
    "'''\n",
    "Run these tests after defining the function above\n",
    "'''\n",
    "assert ( ''.join(rotate_list( [1,2,3,4], 2 )) == '3412' )\n",
    "assert ( ''.join(rotate_list( ['1','2','3','4','5','6'], 3 )) == '456123' )"
   ]
  },
  {
   "cell_type": "markdown",
   "metadata": {},
   "source": [
    "### 7. String Compression\n",
    "- Compress the string and return only if compression saves space\n",
    "- `str_compression( 'aaabbcbdd' ) returns 'a3b2c1b1d2'`\n",
    "- `str_compression( 'aaabbb' ) returns 'a3b3'`"
   ]
  },
  {
   "cell_type": "code",
   "execution_count": 92,
   "metadata": {},
   "outputs": [],
   "source": [
    "def compress_string( string ):\n",
    "    compressed_str = ''\n",
    "    # Your code here\n",
    "    last_char = ''\n",
    "    char_count=0\n",
    "    st =  ''\n",
    "    for x in  range(len(string)):\n",
    "        if ((last_char == string[x]) or (last_char == '')):\n",
    "            last_char=string[x]\n",
    "            char_count+=1\n",
    "        else:\n",
    "            st = st + last_char + str(char_count)\n",
    "            char_count =1;\n",
    "            last_char=string[x]\n",
    "     \n",
    "    st=st+ last_char + str(char_count)\n",
    "        \n",
    "    if (len(st) <= len(string)):\n",
    "        compressed_str = st\n",
    "    else:\n",
    "        compressed_str = string\n",
    "    print (compressed_str)    \n",
    "    return compressed_str"
   ]
  },
  {
   "cell_type": "code",
   "execution_count": 93,
   "metadata": {},
   "outputs": [
    {
     "name": "stdout",
     "output_type": "stream",
     "text": [
      "a2b1c5a1\n"
     ]
    }
   ],
   "source": [
    "# Tests\n",
    "assert( compress_string('aabccccca') == 'a2b1c5a1' )"
   ]
  },
  {
   "cell_type": "markdown",
   "metadata": {},
   "source": [
    "Remove consequetive charatcters from  a string\n",
    "\n",
    "Write a function that takes two parameters, a string and an integer.\n",
    "The function will return another string that is similar to the input\n",
    "string, but with certain characters removed. It's going to remove\n",
    "characters from consecutive runs of the same character, where the\n",
    "length of the run is greater than the input parameter.\n",
    "\n",
    "Ex: \"aaab\", 2 => \"aab\"\n",
    "Ex: \"aabb\", 1 => \"ab\"\n",
    "Ex: \"aabbaa\", 1 => \"aba\""
   ]
  },
  {
   "cell_type": "code",
   "execution_count": null,
   "metadata": {},
   "outputs": [
    {
     "name": "stdout",
     "output_type": "stream",
     "text": [
      " Enter string : aaaabbaaaccc 2\n",
      "Enter repeat threshold :2\n",
      "aabbaacc 2\n"
     ]
    }
   ],
   "source": [
    "def remove_consecutive_chars ( string, consec_threshold):\n",
    "\n",
    "    # Check for emtry string\n",
    "    if (string == None):\n",
    "        return None\n",
    "    # Check if the threshold is greater then string len.\n",
    "    if (len(string)<= consec_threshold):\n",
    "        return string\n",
    "\n",
    "    # Look till the end of input sting.\n",
    "    # Keep track of first character before entering the loop\n",
    "    prev = ''\n",
    "    repeat_count = 0\n",
    "    output = ''\n",
    "    for x in string:\n",
    "\n",
    "        # check the current char in string.\n",
    "        # if different than prev, point prev to current\n",
    "        # else increment repeat_count\n",
    "        if not(prev == x):\n",
    "            prev = x\n",
    "            output+=x\n",
    "            repeat_count = 1\n",
    "        else:\n",
    "            repeat_count +=1\n",
    "            #if it exceeded the threshold then skip the char to next\n",
    "            #else copy the char to the output\n",
    "            if (repeat_count <= consec_threshold):\n",
    "                output+=x\n",
    "    return output\n",
    "\n",
    "while 1:\n",
    "    input_str = input (\" Enter string : \")\n",
    "    repeat_thrs = int(input (\"Enter repeat threshold :\" ))\n",
    "    print (remove_consecutive_chars (input_str, repeat_thrs))"
   ]
  },
  {
   "cell_type": "markdown",
   "metadata": {},
   "source": [
    "## LinkedList Problems\n",
    "\n",
    "### Implementation of a LinkedList\n",
    "\n",
    "- The goal of this excercise is to understand how LinkedLists can be implemented in Python"
   ]
  },
  {
   "cell_type": "code",
   "execution_count": 66,
   "metadata": {},
   "outputs": [],
   "source": [
    "\n",
    "class Linked_List_Node:\n",
    "    \n",
    "    # Constructor for LinkedListNode\n",
    "    def __init__(self, value, next_node=None):\n",
    "        '''\n",
    "        Every Node in a LinkedList should have a value and a pointer to the next Node\n",
    "        '''\n",
    "        self.value = value\n",
    "        self.next = next_node\n",
    "        \n",
    "    # Think of this as the toString() function of Python\n",
    "    # When you call print on a Linked_List_Node it will print the value instead of printing the reference\n",
    "    def __repr__(self):\n",
    "        return str( self.value )\n"
   ]
  },
  {
   "cell_type": "markdown",
   "metadata": {},
   "source": [
    "The implementation above is really all you need to create a LinkedList. You can use this class in the following manner. Note that there is no new keyword in Python:"
   ]
  },
  {
   "cell_type": "code",
   "execution_count": 69,
   "metadata": {},
   "outputs": [],
   "source": [
    "root = Linked_List_Node( 11, Linked_List_Node( 22, Linked_List_Node(33) ) )"
   ]
  },
  {
   "cell_type": "markdown",
   "metadata": {},
   "source": [
    "In memory this looks like this:\n",
    "\n",
    "`11 -> 22 -> 23 -> None`"
   ]
  },
  {
   "cell_type": "code",
   "execution_count": 70,
   "metadata": {},
   "outputs": [
    {
     "name": "stdout",
     "output_type": "stream",
     "text": [
      "11\n",
      "22\n",
      "33\n",
      "None\n"
     ]
    }
   ],
   "source": [
    "print(root)\n",
    "print(root.next)\n",
    "print(root.next.next)\n",
    "print(root.next.next.next)"
   ]
  },
  {
   "cell_type": "markdown",
   "metadata": {},
   "source": [
    "Another way to create a list from the above class is to initiate and add node one at a time!!"
   ]
  },
  {
   "cell_type": "code",
   "execution_count": 83,
   "metadata": {},
   "outputs": [],
   "source": [
    "class Node:\n",
    "    def __init__ (self, val, next=None):\n",
    "        self.data = val\n",
    "        self.next_node = next\n",
    "        \n",
    "    def get_next (self):\n",
    "        return self.next_node\n",
    "    \n",
    "    def set_next (self, val):\n",
    "        self.next_node = val\n",
    "        \n",
    "        \n",
    "class L_List_Node:\n",
    "    \n",
    "    # Constructor for LinkedListNode\n",
    "    def __init__(self, value=None):\n",
    "        '''\n",
    "        Every Node in a LinkedList should have a value and a pointer to the next Node\n",
    "        '''\n",
    "        self.head = value\n",
    "        self.tail = value\n",
    "        \n",
    "    def add_node (self, val, next_n=None):\n",
    "        node = Node (val, next_n)\n",
    "        if (self.head == None):\n",
    "            self.head = node\n",
    "            self.tail = node\n",
    "        else: \n",
    "            self.tail.set_next(node)\n",
    "            self.tail=node\n",
    "        \n",
    "    def print_list (self):\n",
    "        itr = self.head\n",
    "        while (itr):\n",
    "            print (itr.data)\n",
    "            itr = itr.get_next ()\n",
    "    \n",
    "    # Think of this as the toString() function of Python\n",
    "    # When you call print on a Linked_List_Node it will print the value instead of printing the reference\n",
    "    def __repr__(self):\n",
    "        return str ( self.value )"
   ]
  },
  {
   "cell_type": "code",
   "execution_count": 84,
   "metadata": {},
   "outputs": [
    {
     "name": "stdout",
     "output_type": "stream",
     "text": [
      "1\n",
      "2\n",
      "3\n"
     ]
    }
   ],
   "source": [
    "\n",
    "myList = L_List_Node ()\n",
    "myList.add_node (1)\n",
    "myList.add_node (2)\n",
    "myList.add_node (3)\n",
    "myList.print_list()\n"
   ]
  },
  {
   "cell_type": "markdown",
   "metadata": {},
   "source": [
    "### 1. Linked_List class\n",
    "- Using the definition of the Linked_List_Node above, finish the Linked_List wrapper class that completes the following functions described below. This wrapper class will allow us to make Linked_Lists from regular lists and will also have a useful print_list method."
   ]
  },
  {
   "cell_type": "code",
   "execution_count": 1,
   "metadata": {},
   "outputs": [],
   "source": [
    "class Node:\n",
    "    def __init__ (self, val, nxt = None):\n",
    "        self.data = val\n",
    "        self.next = nxt\n",
    "        \n",
    "    def set_next (self, nxt):\n",
    "        self.next = nxt\n",
    "        \n",
    "    def get_next (self):\n",
    "        return self.next\n",
    "        \n",
    "class Linked_List:\n",
    "    # Initialize a LinkedList from a list\n",
    "    def __init__(self, value_list):\n",
    "        '''\n",
    "        Take a regular python list (value_list) and convert it to a Linked_List using the Linked_List_Node class you defined above\n",
    "        Be sure to call set_head with a pointer to the head node of the list\n",
    "        '''\n",
    "        self.head = None\n",
    "        last = None\n",
    "        for x in value_list:\n",
    "            nd = Node (x)\n",
    "            if (self.head == None):\n",
    "                self.head = nd\n",
    "            else:\n",
    "                last.next = nd\n",
    "                \n",
    "            last = nd\n",
    "                \n",
    "        # DONT FORGET TO CALL SET_HEAD WITH YOUR HEAD NODE\n",
    "        # YOUR CODE HERE\n",
    "            \n",
    "    # Helper function to print the Linked_List\n",
    "    def print_list(self):\n",
    "        '''\n",
    "        Define this function to print the Linked_List when invoked in the following format:\n",
    "        1 -> 2 -> 3 -> None\n",
    "        '''\n",
    "        # YOUR CODE HERE\n",
    "        itr = self.head\n",
    "        while (itr):\n",
    "            print (itr.data, \"->\", end=\" \", flush=True)\n",
    "            itr = itr.get_next() \n",
    "        print (\"None\")\n",
    "        \n",
    "    # Retrive head of the list\n",
    "    def get_head(self):\n",
    "        return self.head\n",
    "    \n",
    "\n",
    "    # Appoint a new head to the list\n",
    "    def set_head(self, new_head):\n",
    "        self.head = new_head"
   ]
  },
  {
   "cell_type": "code",
   "execution_count": 2,
   "metadata": {},
   "outputs": [
    {
     "name": "stdout",
     "output_type": "stream",
     "text": [
      "1 -> 2 -> 3 -> None\n"
     ]
    }
   ],
   "source": [
    "# Run these tests\n",
    "ll_1 = Linked_List( [1,2,3] )\n",
    "\n",
    "# Checking to see if the Linked_List was constructed properly\n",
    "assert( ll_1.get_head().data == 1 )\n",
    "assert( ll_1.get_head().next.data == 2 )\n",
    "assert( ll_1.get_head().next.next.data == 3 )\n",
    "assert( ll_1.get_head().next.next.next == None )\n",
    "\n",
    "# Manually Verify: \n",
    "ll_1.print_list()\n",
    "\n",
    "# Should print\n",
    "# 1 -> 2 -> 3 -> None"
   ]
  },
  {
   "cell_type": "markdown",
   "metadata": {},
   "source": [
    "### 2. Reverse Linked_List\n",
    "- Define a function that takes in a Linked_List and reverses it in place\n",
    "- Be sure to change the head pointer of the Linked_List to the last node in the original list using `linked_list.set_head(...)`\n",
    "- A Linked_List that looks like this in memory:\n",
    "\n",
    "`1 -> 2 -> 3 -> None` should look like this `3 -> 2 -> 1 -> None`\n"
   ]
  },
  {
   "cell_type": "code",
   "execution_count": 8,
   "metadata": {},
   "outputs": [],
   "source": [
    "def reverse_in_place( linked_list ):\n",
    "    \n",
    "    cur_node = linked_list.get_head()\n",
    "    \n",
    "    if (not(cur_node)):\n",
    "        return \n",
    "    \n",
    "    # find the new head\n",
    "    new_head = cur_node\n",
    "    \n",
    "    #next_2_newhead = new_head.get_next()\n",
    "    while (not(new_head.get_next() == None)):\n",
    "        new_head = new_head.get_next()\n",
    "    \n",
    "\n",
    "    while (not(cur_node == new_head)):\n",
    "        \n",
    "        # Track the  item next to current\n",
    "        next_to_cur = cur_node.get_next()\n",
    "        \n",
    "        # Insert after the new head\n",
    "        cur_node.set_next(new_head.get_next())\n",
    "        \n",
    "        # set the new head to point to the cur_node\n",
    "        new_head.set_next(cur_node)\n",
    "        \n",
    "        #work on the next \n",
    "        cur_node = next_to_cur\n",
    "        \n",
    "    linked_list.set_head(new_head)\n",
    "    \n",
    "    return "
   ]
  },
  {
   "cell_type": "code",
   "execution_count": 9,
   "metadata": {},
   "outputs": [
    {
     "name": "stdout",
     "output_type": "stream",
     "text": [
      "3 -> 2 -> 1 -> None\n"
     ]
    }
   ],
   "source": [
    "'''\n",
    "Run this piece of code after you define reverse_in_place\n",
    "'''\n",
    "\n",
    "# Run these tests\n",
    "ll_1 = Linked_List( [1,2,3] )\n",
    "reverse_in_place( ll_1 )\n",
    "\n",
    "# Checking to see if the Linked_List was constructed properly\n",
    "# It will be reversed\n",
    "\n",
    "# Manually Verify: \n",
    "ll_1.print_list()\n",
    "\n",
    "# Should print\n",
    "# 3 -> 2 -> 1 -> None"
   ]
  },
  {
   "cell_type": "markdown",
   "metadata": {},
   "source": [
    "### 3. Delete the kth element in a list\n",
    "- Define a function that deletes the kth element from the start in the Linked_List in place\n",
    "- A Linked_List that looks like this in memory. After delete_k(ll_1, 2 ):\n",
    "\n",
    "    `1 -> 2 -> 3 -> None` should look like this `1 -> 3 -> None`"
   ]
  },
  {
   "cell_type": "code",
   "execution_count": 48,
   "metadata": {},
   "outputs": [],
   "source": [
    "def delete_k( linked_list, k ):\n",
    "    \n",
    "    itr_index = 1\n",
    "    itr = linked_list.get_head()\n",
    "    while (itr):\n",
    "        \n",
    "        \n",
    "        # if first element handle it appropruately\n",
    "        if ((k==1) and not(itr.get_next()== None)):\n",
    "            link_list.set_head(itr.get_next())\n",
    "            return\n",
    "        else:\n",
    "            # ok check if the next to itr is K; if yes then manipulate\n",
    "            if (k==itr_index+1):\n",
    "                item_to_delete = itr.get_next()\n",
    "                itr.set_next(item_to_delete.get_next())\n",
    "                item_to_delete.set_next(None)\n",
    "                return\n",
    "            else:\n",
    "                itr_index +=1\n",
    "                itr = itr.get_next()\n"
   ]
  },
  {
   "cell_type": "code",
   "execution_count": 4,
   "metadata": {},
   "outputs": [
    {
     "ename": "NameError",
     "evalue": "name 'Linked_List' is not defined",
     "output_type": "error",
     "traceback": [
      "\u001b[1;31m---------------------------------------------------------------------------\u001b[0m",
      "\u001b[1;31mNameError\u001b[0m                                 Traceback (most recent call last)",
      "\u001b[1;32m<ipython-input-4-4795ccee9a8f>\u001b[0m in \u001b[0;36m<module>\u001b[1;34m\u001b[0m\n\u001b[0;32m      4\u001b[0m \u001b[1;33m\u001b[0m\u001b[0m\n\u001b[0;32m      5\u001b[0m \u001b[1;31m# Run these tests\u001b[0m\u001b[1;33m\u001b[0m\u001b[1;33m\u001b[0m\u001b[1;33m\u001b[0m\u001b[0m\n\u001b[1;32m----> 6\u001b[1;33m \u001b[0mll_1\u001b[0m \u001b[1;33m=\u001b[0m \u001b[0mLinked_List\u001b[0m\u001b[1;33m(\u001b[0m \u001b[1;33m[\u001b[0m\u001b[1;36m1\u001b[0m\u001b[1;33m,\u001b[0m\u001b[1;36m2\u001b[0m\u001b[1;33m,\u001b[0m\u001b[1;36m3\u001b[0m\u001b[1;33m]\u001b[0m \u001b[1;33m)\u001b[0m\u001b[1;33m\u001b[0m\u001b[1;33m\u001b[0m\u001b[0m\n\u001b[0m\u001b[0;32m      7\u001b[0m \u001b[0mdelete_k\u001b[0m\u001b[1;33m(\u001b[0m \u001b[0mll_1\u001b[0m\u001b[1;33m,\u001b[0m \u001b[1;36m2\u001b[0m \u001b[1;33m)\u001b[0m \u001b[1;31m#\u001b[0m\u001b[1;33m\u001b[0m\u001b[1;33m\u001b[0m\u001b[0m\n\u001b[0;32m      8\u001b[0m \u001b[1;33m\u001b[0m\u001b[0m\n",
      "\u001b[1;31mNameError\u001b[0m: name 'Linked_List' is not defined"
     ]
    }
   ],
   "source": [
    "'''\n",
    "Run this piece of code after you define delete_k\n",
    "'''\n",
    "\n",
    "# Run these tests\n",
    "ll_1 = Linked_List( [1,2,3] )\n",
    "delete_k( ll_1, 2 ) #\n",
    "\n",
    "# Manually Verify: \n",
    "ll_1.print_list()\n",
    "\n",
    "# Should print\n",
    "# 1 -> 3 -> None"
   ]
  },
  {
   "cell_type": "markdown",
   "metadata": {},
   "source": [
    "### 4. Delete the kth from last element in a Linked_List\n",
    "- Define a function that deletes the kth element from the end in the Linked_List in place\n",
    "- A Linked_List that looks like this in memory. After `delete_k_from_last(ll_1, 2 )`:\n",
    "\n",
    "    `1 -> 2 -> 3 -> 4 -> 5 -> None` should look like this `1 -> 2 -> 3 -> 5 -> None` Element 4 is deleted since it is the second from the last element in the list"
   ]
  },
  {
   "cell_type": "code",
   "execution_count": 121,
   "metadata": {},
   "outputs": [],
   "source": [
    "def delete_k_from_last( linked_list, k ):\n",
    "    # YOUR CODE HERE/ BE SURE TO CALL SET_HEAD TO THE APPROPRIATE NODE IF YOU DELETE THE START NODE\n",
    "    # DO THIS IN PLACE\n",
    "    \n",
    "    # Assuming sanitized inout!\n",
    "    \n",
    "    itr = linked_list.get_head()\n",
    "    lead_itr=itr\n",
    "    # offset to the kth index; Check\n",
    "    offset=0;\n",
    "    while (offset < k-1) and not(lead_itr.get_next()== None):\n",
    "        lead_itr = lead_itr.get_next()\n",
    "        offset+=1\n",
    "        \n",
    "    #Remove the first element and reset the head\n",
    "    if (lead_itr.get_next()==None):\n",
    "        linked_list.set_head(itr.get_next())\n",
    "\n",
    "    print (\"Item to delete\", lead_itr.data)\n",
    "    \n",
    "    while lead_itr.get_next().get_next():\n",
    "        itr=itr.get_next()\n",
    "        lead_itr= lead_itr.get_next()\n",
    "        \n",
    "    # reached the end. Now set the pointers\n",
    "    item_to_delete = itr.get_next()\n",
    "    itr.set_next(item_to_delete.get_next())\n",
    "\n",
    "    \n",
    "        \n",
    "        \n",
    "    "
   ]
  },
  {
   "cell_type": "code",
   "execution_count": 122,
   "metadata": {},
   "outputs": [
    {
     "name": "stdout",
     "output_type": "stream",
     "text": [
      "Item to delete 2\n",
      "Item to delete 4\n",
      "1 -> 2 -> 3 -> 5 -> None\n"
     ]
    }
   ],
   "source": [
    "'''\n",
    "Run this piece of code after you define delete_k_from_last\n",
    "'''\n",
    "\n",
    "# Run these tests\n",
    "ll_1 = Linked_List( [1,2,3,4,5] )\n",
    "delete_k_from_last( ll_1, 2 ) #\n",
    "\n",
    "# Manually Verify: \n",
    "ll_1.print_list()\n",
    "\n",
    "# Should print\n",
    "# 1 -> 2 -> 3 -> 5 -> None"
   ]
  },
  {
   "cell_type": "markdown",
   "metadata": {},
   "source": [
    "### 5. Return the midpoint of a LinkedList\n",
    "- Define a function that returns a pointer to the middle of the Linked_List\n",
    "- If the list is of even length, return pointer to n/2 element\n",
    "- `1 -> 2 -> 3 -> 4 -> 5 -> None` should return a pointer to the Node with the value of 3"
   ]
  },
  {
   "cell_type": "code",
   "execution_count": 10,
   "metadata": {},
   "outputs": [],
   "source": [
    "def middle( linked_list):\n",
    "\n",
    "    # YOUR CODE HERE\n",
    "    \n",
    "    itr = linked_list.get_head()\n",
    "    \n",
    "    ll_len = 0\n",
    "    while (itr):\n",
    "        ll_len +=1\n",
    "        itr = itr.get_next()\n",
    "        \n",
    "    midpoint = int(ll_len/2)+ (ll_len % 2)\n",
    "    itr = linked_list.get_head()\n",
    "    for x in range (midpoint-1):\n",
    "        itr = itr.get_next()\n",
    "        \n",
    "    # returning the middle node\n",
    "    \n",
    "    print (\"mid point index is \", midpoint, \"mid point node \", itr.data)\n",
    "    return itr\n",
    "  "
   ]
  },
  {
   "cell_type": "code",
   "execution_count": 11,
   "metadata": {},
   "outputs": [
    {
     "name": "stdout",
     "output_type": "stream",
     "text": [
      "mid point index is  3 mid point node  3\n"
     ]
    }
   ],
   "source": [
    "'''\n",
    "Run this piece of code after you define middle\n",
    "'''\n",
    "\n",
    "# Run these tests\n",
    "ll_1 = Linked_List( [1,2,3,4,5] )\n",
    "middle_node = middle( ll_1) #\n",
    "\n",
    "assert( middle_node.data == 3 )"
   ]
  },
  {
   "cell_type": "markdown",
   "metadata": {},
   "source": [
    "# Add two integers represented in a linked list\n",
    "\n",
    "Take two linked list representing the integer as digits per node in the reverse order. Return another list which is the sum of the two lists.  \n",
    "\n",
    "Example: \n",
    "\n",
    "321 is represented as l1 : 1->2->3\n",
    "54321 is represented as l2:1->2->3->4->5\n",
    "\n",
    "The returned list is 2->4->6->4->5. The sum is 54642\n"
   ]
  },
  {
   "cell_type": "code",
   "execution_count": 5,
   "metadata": {},
   "outputs": [
    {
     "name": "stdout",
     "output_type": "stream",
     "text": [
      "2 -> 4 -> 6 -> 4 -> 5 -> None\n"
     ]
    }
   ],
   "source": [
    "def add_and_return_sum_carry (int1, int2, carry):\n",
    "    val = int1 + int2+carry\n",
    "        \n",
    "    # check if the value is single digit or two digit. If two digit start keepign the carry digit\n",
    "    if (val > 9):\n",
    "        # split it into two\n",
    "        val = val/10\n",
    "        carry = (val%10 )\n",
    "    else:  \n",
    "        carry =  0    \n",
    "    return val, carry\n",
    "\n",
    "\n",
    "def add_two_list (list_1, list_2):\n",
    "    \n",
    "    list_1_itr = list_1.get_head()\n",
    "    list_2_itr =  list_2.get_head()\n",
    "               \n",
    "    # Check if any of the list is empty\n",
    "    if not (list_1_itr and list_2_itr):\n",
    "        \n",
    "        # find the empty list and return the other list as return item\n",
    "        if (list_1_itr):\n",
    "            return list_1\n",
    "        else:\n",
    "            return list_2\n",
    "    \n",
    "    # create the list and the iterator of the new list\n",
    "    added_list = None\n",
    "    added_list_itr =  None\n",
    "    \n",
    "    carry_over =0\n",
    "    # Add the lists\n",
    "    while list_1_itr and list_2_itr:\n",
    "\n",
    "        (val, carry_over) = add_and_return_sum_carry (list_1_itr.data, list_2_itr.data, carry_over)\n",
    "        \n",
    "        # handle the first element differently\n",
    "        if (added_list == None):\n",
    "            added_list = Linked_List([val])\n",
    "            added_list_itr = added_list.get_head()\n",
    "        else:  \n",
    "            node = Node (val)            \n",
    "            added_list_itr.set_next(node)\n",
    "            added_list_itr = node\n",
    "        \n",
    "        # move to the next element in each of the list\n",
    "        list_1_itr = list_1_itr.get_next()\n",
    "        list_2_itr = list_2_itr.get_next()\n",
    "        \n",
    "        #printing the resulting list in while loop\n",
    "        #added_list.print_list()\n",
    "    \n",
    "    # Out of the loop.  Check which list is still remaining? Also check \n",
    "    # if there is carry over and copy the rest of the remmaining list to the result\n",
    "    if (list_1_itr):\n",
    "        list_to_itr = list_1_itr\n",
    "    else: \n",
    "        list_to_itr = list_2_itr\n",
    "        \n",
    "    # Ok copy the remaining list and the carry_over\n",
    "    while (list_to_itr):\n",
    "        \n",
    "        (val, carry_over) = add_and_return_sum_carry (0, list_to_itr.data, carry_over)\n",
    "        node = Node (val)            \n",
    "        added_list_itr.set_next(node)\n",
    "        added_list_itr = node\n",
    "        list_to_itr = list_to_itr.get_next()\n",
    "\n",
    "    # if there is carry for above add as the last element to the list\n",
    "    if (carry_over >0):\n",
    "        node = Node (carry_over)            \n",
    "        added_list_itr.set_next(node)\n",
    "        \n",
    "    return added_list\n",
    "\n",
    "l1 =  Linked_List([1,2,3])\n",
    "l2 = Linked_List ([1,2,3,4,5])\n",
    "l3 =  add_two_list (l1, l2)\n",
    "l3.print_list()\n",
    "        "
   ]
  },
  {
   "cell_type": "markdown",
   "metadata": {},
   "source": [
    "# Define a function that takes a list and sorts the data using quick sort method\n",
    "\n"
   ]
  },
  {
   "cell_type": "code",
   "execution_count": null,
   "metadata": {},
   "outputs": [],
   "source": [
    "import random\n",
    "\n",
    "# Function to create a randomized number list for test purposes\n",
    "def create_list (size):\n",
    "    lst =[]\n",
    "    for x in range(1,size):\n",
    "        lst.append(random.randint (10, 100000))\n",
    "\n",
    "    return lst\n",
    "    \n",
    "# Quick sort function\n",
    "def quick_sort ( list ):\n",
    "\n",
    "    if (len(list) <1):\n",
    "        return list\n",
    "    \n",
    "    pivot = list.pop(0)\n",
    "    \n",
    "    l_list =[]\n",
    "    r_list = []\n",
    "\n",
    "    while (len(list)):\n",
    "        tmp = list.pop(0)\n",
    "        if ( tmp <= pivot):\n",
    "            l_list.append(tmp)\n",
    "        else:\n",
    "            r_list.append(tmp)\n",
    "    \n",
    "    s_l_list = quick_sort(l_list)\n",
    "    r_l_list = quick_sort(r_list)\n",
    "\n",
    "    sort_list = []\n",
    "    if (not(s_l_list == None)):\n",
    "        sort_list = s_l_list\n",
    "    if (not(pivot == None)):\n",
    "        sort_list.append(pivot)\n",
    "    if (not(r_l_list == None)):\n",
    "        sort_list +=r_l_list\n",
    "\n",
    "    return sort_list\n",
    "\n",
    "size_of_list = input (\"Enter the list to create :\")\n",
    "main_list = create_list(int(size_of_list))\n",
    "print (\" List to sort \", main_list)\n",
    "print (\" Sort list is :\", quick_sort(main_list))\n",
    "\n",
    "\n"
   ]
  },
  {
   "cell_type": "markdown",
   "metadata": {},
   "source": [
    "# Binary Search python example\n",
    "\n",
    "A function to find an element using binary search in a sorted list\n",
    "\n",
    "For example: list_1 =  [11,13,15,19, 21,25,29, 33, 35, 38, 41, 45, 100]"
   ]
  },
  {
   "cell_type": "code",
   "execution_count": 10,
   "metadata": {},
   "outputs": [],
   "source": [
    "\n",
    "def binary_search (elem,  lst, low,  high):\n",
    "    \n",
    "    if (low > high):\n",
    "        return False\n",
    "    \n",
    "    mid = int(low+high/2)\n",
    "    if elem == lst[mid] : \n",
    "        return True\n",
    "    else: \n",
    "        if elem < lst[mid]:\n",
    "            high = mid-1\n",
    "        else: \n",
    "            low = mid+1\n",
    "        return binary_search (elem,  lst, low,  high)\n",
    "        \n"
   ]
  },
  {
   "cell_type": "code",
   "execution_count": 11,
   "metadata": {},
   "outputs": [],
   "source": [
    "'''\n",
    "Run this piece of code after you define middle\n",
    "'''\n",
    "\n",
    "# Run these tests\n",
    "ll_1 =  [11,13,15,19, 21,25,29, 33, 35, 38, 41, 45, 100] \n",
    "\n",
    "\n",
    "assert( binary_search(29, ll_1, 0, len(ll_1)) == True )\n",
    "assert( binary_search(-1, ll_1, 0, len(ll_1)) == False )"
   ]
  },
  {
   "cell_type": "markdown",
   "metadata": {},
   "source": [
    "# Binary Tree - Creation and traversal\n"
   ]
  },
  {
   "cell_type": "code",
   "execution_count": 11,
   "metadata": {},
   "outputs": [],
   "source": [
    "class Node:\n",
    "\n",
    "    def __init__ (self, data, leftN=None, rightN=None):\n",
    "        self.data = data\n",
    "        self.left = leftN\n",
    "        self.right = rightN\n",
    "\n",
    "    def getData (self):\n",
    "        return self.data\n",
    "\n",
    "    def getLeft (self):\n",
    "        return self.left\n",
    "\n",
    "    def getRight (self):\n",
    "        return self.right\n",
    "\n",
    "    def setData (self, val):\n",
    "        self.data = val\n",
    "\n",
    "    def setLeft (self, nd):\n",
    "        self.left =  nd\n",
    "\n",
    "    def setRight(self, nd):\n",
    "        self.right = nd\n",
    "\n",
    "\n",
    "class binaryTree:\n",
    "    def __init__ (self, lst):\n",
    "        self.head =  None\n",
    "        for x in lst:\n",
    "            nd = Node(x)\n",
    "            self.addNode(nd)\n",
    "        return\n",
    "\n",
    "    def addNode(self, node):\n",
    "        print (\"adding node \",  node.getData())\n",
    "        # find the spot to insert in tree\n",
    "\n",
    "        \n",
    "        # check for empty tree\n",
    "        if (self.head == None):\n",
    "            self.head = node\n",
    "            return\n",
    "\n",
    "        # Tree is not empty. Find the right spot to insert\n",
    "        itr = self.head\n",
    "        inserted = False\n",
    "\n",
    "        while not inserted:\n",
    "\n",
    "            # insert at left\n",
    "            if itr.getData() > node.getData():\n",
    "                \n",
    "                if (itr.getLeft()):\n",
    "                    itr =  itr.getLeft()\n",
    "                else:\n",
    "                    itr.setLeft (node)\n",
    "                    return\n",
    "            else:\n",
    "\n",
    "                if (itr.getRight()):\n",
    "                    itr = itr.getRight()\n",
    "                else:\n",
    "                    itr.setRight(node)\n",
    "                    return\n",
    "\n",
    "    def print_in_order (self, node):\n",
    "\n",
    "        tmp_tree = node\n",
    "\n",
    "        # go left as until end\n",
    "        if (node.getLeft()):\n",
    "            self.print_in_order (node.getLeft())\n",
    "\n",
    "        # print root\n",
    "        print (node.getData(), end=\" \")\n",
    "\n",
    "        # print the right tree\n",
    "        if (node.getRight()):\n",
    "            self.print_in_order (node.getRight())\n",
    "            \n",
    "\n",
    "    def print_tree (self, order):\n",
    "\n",
    "        # in order\n",
    "        if not(self.head):\n",
    "            print (\"Empty tree\")\n",
    "\n",
    "        # in order traversal\n",
    "        if (order == 0):\n",
    "            print (\" In order traversal : \", end=\" \")\n",
    "            self.print_in_order(self.head)\n",
    "\n",
    "        return\n",
    "\n",
    "\n"
   ]
  },
  {
   "cell_type": "code",
   "execution_count": 12,
   "metadata": {},
   "outputs": [
    {
     "name": "stdout",
     "output_type": "stream",
     "text": [
      "adding node  5\n",
      "adding node  3\n",
      "adding node  7\n",
      "adding node  2\n",
      "adding node  4\n",
      "adding node  3\n",
      "adding node  7\n",
      "adding node  9\n",
      "adding node  11\n",
      "adding node  12\n",
      " In order traversal :  2 3 3 4 5 7 7 9 11 12 "
     ]
    }
   ],
   "source": [
    "# Test for the above program\n",
    "\n",
    "tr =  binaryTree([5,3,7,2,4,3,7,9,11,12])\n",
    "\n",
    "tr.print_tree(0)"
   ]
  },
  {
   "cell_type": "markdown",
   "metadata": {},
   "source": [
    "# Developing your own hash map using list\n",
    "\n"
   ]
  },
  {
   "cell_type": "code",
   "execution_count": 6,
   "metadata": {},
   "outputs": [
    {
     "name": "stdout",
     "output_type": "stream",
     "text": [
      " Printing dictionary\n",
      "Bucket = \n",
      "helpful,   1  |  diaeresis   12  |  aa   1  |  semicolon   1  |  \n",
      "Bucket = \n",
      "graphical   1  |  as   1  |  quotation   3  |  ring   2  |  d3   1  |  5b   1  |  \n",
      "Bucket = \n",
      "exclamation   2  |  ac   1  |  c   4  |  eth   2  |  \n",
      "Bucket = \n",
      "7d   1  |  \n",
      "Bucket = \n",
      "stop   1  |  degree   1  |  c0   1  |  6c   1  |  \n",
      "Bucket = \n",
      "ae   3  |  f   2  |  59   1  |  6f   1  |  \n",
      "Bucket = \n",
      "are   1  |  should   1  |  apostrophe   1  |  (icelandic)   4  |  \n",
      "Bucket = \n",
      "a   15  |  a7   1  |  47   1  |  t   2  |  da   1  |  \n",
      "Bucket = \n",
      "aren't   1  |  c2   1  |  \n",
      "Bucket = \n",
      "a8   1  |  curly   2  |  \n",
      "Bucket = \n",
      "do   1  |  feminine   1  |  o   14  |  \n",
      "Bucket = \n",
      "indicator   2  |  one   4  |  df   1  |  division   1  |  \n",
      "Bucket = \n",
      "same   1  |  af   1  |  31   1  |  dot   1  |  \n",
      "Bucket = \n",
      "q   2  |  \n",
      "Bucket = \n",
      "2b   1  |  hyphen   1  |  d6   1  |  \n",
      "Bucket = \n",
      "but   1  |  \n",
      "Bucket = \n",
      "equals   1  |  40   1  |  d4   1  |  55   1  |  79   1  |  \n",
      "Bucket = \n",
      "39   1  |  e9   1  |  75   1  |  \n",
      "Bucket = \n",
      "file   1  |  illustrating   1  |  available   1  |  21   1  |  ab   1  |  45   1  |  66   1  |  fa   1  |  \n",
      "Bucket = \n",
      "descriptions   1  |  be   2  |  full   1  |  36   1  |  commercial   1  |  c3   1  |  \n",
      "Bucket = \n",
      "yen   1  |  \n",
      "Bucket = \n",
      "dollar   1  |  b0   1  |  42   1  |  c4   1  |  h   2  |  d0   1  |  67   1  |  \n",
      "Bucket = \n",
      "hyphen-minus   1  |  b   2  |  \n",
      "Bucket = \n",
      "question   2  |  w   2  |  \n",
      "Bucket = \n",
      "from   1  |  a4   1  |  b1   1  |  five   1  |  capital   56  |  circumflex   11  |  ce   1  |  54   1  |  stroke   2  |  (german)   1  |  \n",
      "Bucket = \n",
      "28   1  |  b7   1  |  c1   1  |  5d   1  |  \n",
      "Bucket = \n",
      "following   1  |  d   2  |  76   1  |  \n",
      "Bucket = \n",
      "3b   1  |  \n",
      "Bucket = \n",
      "(1987).   1  |  left   3  |  ed   1  |  ff   1  |  \n",
      "Bucket = \n",
      "three   3  |  b9   1  |  small   58  |  7c   1  |  \n",
      "Bucket = \n",
      "number   1  |  bar   1  |  a9   1  |  65   1  |  e7   1  |  \n",
      "Bucket = \n",
      "mark   7  |  22   1  |  23   1  |  i   10  |  5f   1  |  e0   1  |  \n",
      "Bucket = \n",
      "20   1  |  sign   21  |  56   1  |  v   2  |  f2   1  |  \n",
      "Bucket = \n",
      "space   1  |  30   1  |  masculine   1  |  41   1  |  52   1  |  \n",
      "Bucket = \n",
      "that   1  |  zero   1  |  cedilla   3  |  63   1  |  7b   1  |  \n",
      "Bucket = \n",
      "2e   1  |  e6   1  |  eb   1  |  6d   1  |  \n",
      "Bucket = \n",
      "e4   1  |  \n",
      "Bucket = \n",
      "copyright   1  |  d9   1  |  f0   1  |  f7   1  |  7e   1  |  \n",
      "Bucket = \n",
      "parenthesis   2  |  \n",
      "Bucket = \n",
      "32   1  |  38   1  |  greater-than   1  |  letter   114  |  61   1  |  \n",
      "Bucket = \n",
      "2d   1  |  50   1  |  \n",
      "Bucket = \n",
      "(non-control)   1  |  2f   1  |  4a   1  |  cd   1  |  \n",
      "Bucket = \n",
      "34   1  |  quarter   1  |  4b   1  |  e2   1  |  68   1  |  \n",
      "Bucket = \n",
      "they're   1  |  \n",
      "Bucket = \n",
      "a3   1  |  j   2  |  \n",
      "Bucket = \n",
      "cent   1  |  fraction   3  |  p   2  |  r   2  |  \n",
      "Bucket = \n",
      "right   3  |  c7   1  |  s   3  |  6a   1  |  \n",
      "Bucket = \n",
      "4f   1  |  \n",
      "Bucket = \n",
      "in   2  |  with   55  |  \n",
      "Bucket = \n",
      "seven   1  |  right-pointing   1  |  vulgar   3  |  e   10  |  71   1  |  \n",
      "Bucket = \n",
      "asterisk   1  |  37   1  |  d2   1  |  77   1  |  \n",
      "Bucket = \n",
      "iso   1  |  4c   1  |  d8   1  |  f8   1  |  \n",
      "Bucket = \n",
      "left-pointing   1  |  f1   1  |  \n",
      "Bucket = \n",
      "description   2  |  ordinal   2  |  b2   1  |  m   2  |  \n",
      "Bucket = \n",
      "3d   1  |  cb   1  |  cc   1  |  57   1  |  64   1  |  \n",
      "Bucket = \n",
      "a5   1  |  section   1  |  double   2  |  ba   1  |  5a   1  |  \n",
      "Bucket = \n",
      "b8   1  |  78   1  |  \n",
      "Bucket = \n",
      "this   1  |  bc   1  |  de   1  |  thorn   2  |  60   1  |  fe   1  |  \n",
      "Bucket = \n",
      "registered   1  |  44   1  |  4e   1  |  u   10  |  dc   1  |  line   2  |  \n",
      "Bucket = \n",
      "file.   1  |  soft   1  |  \n",
      "Bucket = \n",
      "cf   1  |  reverse   1  |  f6   1  |  \n",
      "Bucket = \n",
      "graphics   1  |  3a   1  |  e3   1  |  f5   1  |  \n",
      "Bucket = \n",
      "percent   1  |  grave   11  |  n   4  |  ef   1  |  \n",
      "Bucket = \n",
      "25   1  |  quarters   1  |  \n",
      "Bucket = \n",
      "digit   10  |  two   2  |  51   1  |  square   2  |  72   1  |  74   1  |  \n",
      "Bucket = \n",
      "solidus   2  |  3c   1  |  43   1  |  \n",
      "Bucket = \n",
      "a2   1  |  currency   1  |  \n",
      "Bucket = \n",
      "46   1  |  \n",
      "Bucket = \n",
      "49   1  |  \n",
      "Bucket = \n",
      "2a   1  |  b3   1  |  d1   1  |  69   1  |  vertical   1  |  \n",
      "Bucket = \n",
      "text.   1  |  ampersand   1  |  not   1  |  superscript   3  |  four   1  |  pilcrow   1  |  4d   1  |  db   1  |  \n",
      "Bucket = \n",
      "six   1  |  bb   1  |  y   5  |  \n",
      "Bucket = \n",
      "26   1  |  b5   1  |  b6   1  |  7a   1  |  \n",
      "Bucket = \n",
      "comma   1  |  70   1  |  \n",
      "Bucket = \n",
      "all   1  |  plus   1  |  e1   1  |  6b   1  |  f3   1  |  \n",
      "Bucket = \n",
      "3f   1  |  \n",
      "Bucket = \n",
      "29   1  |  at   1  |  53   1  |  ee   1  |  \n",
      "Bucket = \n",
      "z   2  |  \n",
      "Bucket = \n",
      "24   1  |  \n",
      "Bucket = \n",
      "character   1  |  above   2  |  d5   1  |  \n",
      "Bucket = \n",
      "by   1  |  c9   1  |  \n",
      "Bucket = \n",
      "e5   1  |  \n",
      "Bucket = \n",
      "less-than   1  |  5c   1  |  f9   1  |  \n",
      "Bucket = \n",
      "can   1  |  2c   1  |  d7   1  |  e8   1  |  \n",
      "Bucket = \n",
      "inverted   2  |  a6   1  |  middle   1  |  c6   1  |  ca   1  |  l   2  |  58   1  |  \n",
      "Bucket = \n",
      "archive   1  |  pound   1  |  plus-minus   1  |  \n",
      "Bucket = \n",
      "nine   1  |  73   1  |  \n",
      "Bucket = \n",
      "characters   1  |  accent   3  |  3e   1  |  tilde   7  |  5e   1  |  \n",
      "Bucket = \n",
      "words   1  |  low   1  |  \n",
      "Bucket = \n",
      "a1   1  |  angle   2  |  ad   1  |  half   1  |  62   1  |  \n",
      "Bucket = \n",
      "defined   1  |  8859-1   1  |  33   1  |  bf   1  |  fb   1  |  \n",
      "Bucket = \n",
      "broken   1  |  eight   1  |  c5   1  |  48   1  |  multiplication   1  |  sharp   1  |  \n",
      "Bucket = \n",
      "the   5  |  acute   13  |  micro   1  |  bd   1  |  c8   1  |  bracket   4  |  6e   1  |  \n",
      "Bucket = \n",
      "27   1  |  g   2  |  x   2  |  ea   1  |  fd   1  |  \n",
      "Bucket = \n",
      "best   1  |  we   1  |  \n",
      "Bucket = \n",
      "hex   2  |  overline   1  |  ec   1  |  f4   1  |  \n",
      "Bucket = \n",
      "b4   1  |  colon   1  |  k   2  |  \n",
      "Bucket = \n",
      "set   1  |  35   1  |  fc   1  |  \n",
      "Bucket = \n",
      "dd   1  |  \n"
     ]
    }
   ],
   "source": [
    "import random\n",
    "'''\n",
    " A Hash table program to be used as a dictionary or a map table;\n",
    " Initial functions is to search and insert!\n",
    " \n",
    "'''\n",
    "class hashNode:\n",
    "\n",
    "    def __init__ (self,  key, value):\n",
    "        self.key = key\n",
    "        self.value = value\n",
    "\n",
    "    def getKey (self):\n",
    "        return self.key\n",
    "\n",
    "    def getValue (self):\n",
    "        return self.value\n",
    "\n",
    "    def setValue (self, val):\n",
    "        self.value = val\n",
    "\n",
    "\n",
    "# Bucket in the map\n",
    "class hashBucket:\n",
    "    def __init__ (self, hNode=None):\n",
    "        hashNode = []\n",
    "        self.value = hashNode\n",
    "        if hNode:\n",
    "            self.value = hashNode.append(hNode)\n",
    "    \n",
    "    def add_node (self, hNode):\n",
    "        (self.value).append (hNode)\n",
    "\n",
    "    def find (self, key):\n",
    "        for x in self.value:\n",
    "            if (x.getKey() == key):\n",
    "                return x\n",
    "        return None\n",
    "\n",
    "    # updates the value if the node is present!\n",
    "    def add (self, key, val):\n",
    "        nd_found =  self.find (key)\n",
    "        if not nd_found:\n",
    "            nd = hashNode(key, val)\n",
    "            (self.value).append (nd)\n",
    "        else:\n",
    "            nd_found.setValue(val)\n",
    "\n",
    "    def print_bucket(self):\n",
    "        if not (self.value):\n",
    "            return # return if the bucket is empty\n",
    "        print (\"Bucket = \")\n",
    "        for x in self.value:\n",
    "            if x: # make sure the bucket has values otherwise move to next\n",
    "                print ( x.getKey(), \" \", x.getValue(), \" | \", end=\" \")\n",
    "        print ()\n",
    "        \n",
    "\n",
    "class hashTable:\n",
    "\n",
    "    def __init__(self, size):\n",
    "        self.hashTable = [hashBucket() for i in range (size)]\n",
    "        self.size = size\n",
    "        \n",
    "    def add (self, key, value):\n",
    "        index = hash(key)% self.size\n",
    "        #print (\" Index : \",index)\n",
    "        self.hashTable[index].add (key, value)\n",
    "\n",
    "    def find (self, key):\n",
    "        index = hash(key)% self.size\n",
    "        # print (\" index in find :\", index)\n",
    "        return self.hashTable[index].find(key)\n",
    "        \n",
    "    def print_hashT (self):\n",
    "        for x in self.hashTable:\n",
    "            x.print_bucket()\n",
    "\n",
    "            \n",
    "def count_words_frequency_in_file (filename):\n",
    "    '''\n",
    "    This function takes a filename and counts the word frequency in the file.  \n",
    "    '''\n",
    "    ht = hashTable(100)\n",
    "    \n",
    "    with open (filename) as f:\n",
    "\n",
    "        for line in f:\n",
    "            words = line.split()\n",
    "            for x in words:\n",
    "                \n",
    "                x = x.lower()\n",
    "                \n",
    "                # Check if the word is already in the map. If so increment the count otherwise insert and set value to 1\n",
    "                bucket_nd = ht.find(x)\n",
    "                if bucket_nd:\n",
    "                    ht.add (x, bucket_nd.getValue()+1)\n",
    "                else:\n",
    "                    ht.add(x, 1)\n",
    "    print (\" Printing dictionary\")\n",
    "    ht.print_hashT()\n",
    "\n",
    "if __name__ == '__main__':\n",
    "\n",
    "    # Word frequency in a file\n",
    "    count_words_frequency_in_file (\"sample-text.txt\")\n",
    "\n",
    "    "
   ]
  },
  {
   "cell_type": "code",
   "execution_count": 4,
   "metadata": {},
   "outputs": [
    {
     "ename": "NameError",
     "evalue": "name 'hashTable' is not defined",
     "output_type": "error",
     "traceback": [
      "\u001b[1;31m---------------------------------------------------------------------------\u001b[0m",
      "\u001b[1;31mNameError\u001b[0m                                 Traceback (most recent call last)",
      "\u001b[1;32m<ipython-input-4-6bbb0a76e5c7>\u001b[0m in \u001b[0;36m<module>\u001b[1;34m\u001b[0m\n\u001b[0;32m      2\u001b[0m \u001b[1;33m\u001b[0m\u001b[0m\n\u001b[0;32m      3\u001b[0m \u001b[1;31m## Test 1 - Create a map of randon key and values and test if values are present\u001b[0m\u001b[1;33m\u001b[0m\u001b[1;33m\u001b[0m\u001b[1;33m\u001b[0m\u001b[0m\n\u001b[1;32m----> 4\u001b[1;33m \u001b[0mht\u001b[0m \u001b[1;33m=\u001b[0m \u001b[0mhashTable\u001b[0m \u001b[1;33m(\u001b[0m\u001b[1;36m20\u001b[0m\u001b[1;33m)\u001b[0m\u001b[1;33m\u001b[0m\u001b[1;33m\u001b[0m\u001b[0m\n\u001b[0m\u001b[0;32m      5\u001b[0m \u001b[1;32mfor\u001b[0m \u001b[0mi\u001b[0m \u001b[1;32min\u001b[0m \u001b[0mrange\u001b[0m \u001b[1;33m(\u001b[0m\u001b[1;36m1\u001b[0m\u001b[1;33m,\u001b[0m\u001b[1;36m100\u001b[0m\u001b[1;33m)\u001b[0m\u001b[1;33m:\u001b[0m\u001b[1;33m\u001b[0m\u001b[1;33m\u001b[0m\u001b[0m\n\u001b[0;32m      6\u001b[0m     \u001b[0mht\u001b[0m\u001b[1;33m.\u001b[0m\u001b[0madd\u001b[0m\u001b[1;33m(\u001b[0m\u001b[0mi\u001b[0m\u001b[1;33m+\u001b[0m\u001b[1;36m10\u001b[0m\u001b[1;33m,\u001b[0m \u001b[0mrandom\u001b[0m\u001b[1;33m.\u001b[0m\u001b[0mrandint\u001b[0m\u001b[1;33m(\u001b[0m\u001b[1;36m100\u001b[0m\u001b[1;33m,\u001b[0m\u001b[1;36m1000\u001b[0m\u001b[1;33m)\u001b[0m\u001b[1;33m)\u001b[0m\u001b[1;33m\u001b[0m\u001b[1;33m\u001b[0m\u001b[0m\n",
      "\u001b[1;31mNameError\u001b[0m: name 'hashTable' is not defined"
     ]
    }
   ],
   "source": [
    "''' Test for the above hash map'''\n",
    "\n",
    "## Test 1 - Create a map of randon key and values and test if values are present    \n",
    "ht = hashTable (20)\n",
    "for i in range (1,100):\n",
    "    ht.add(i+10, random.randint(100,1000)) \n",
    "    \n",
    "ht.print_hashT()\n",
    "\n",
    "    #  loop to test if elements are in the map\n",
    "for x in range (1, 30):            \n",
    "    val =  ht.find (int(x))\n",
    "    if (val):              \n",
    "        print (\"Value = \", val.getValue(), \" for key \",  x) \n",
    "    else: \n",
    "        print (\"Key \", x, \"not found\")"
   ]
  },
  {
   "cell_type": "markdown",
   "metadata": {},
   "source": [
    "## set operations:\n",
    "\n",
    "1. To update a set by adding another set. use update() or |=\n",
    "2. To intersect_update i.e keep only elements that are intersecting use intersect_update() or &=\n",
    "3. To difference_update i.e. to remove elements from the first set that are found in the second set, use difference_update or -=\n",
    "4. To symmetric_updatei.e. keep elements in either but not in both, use symmetric_difference_update() or ^="
   ]
  },
  {
   "cell_type": "code",
   "execution_count": null,
   "metadata": {},
   "outputs": [],
   "source": [
    "# A sample on the set operations\n",
    "\n",
    "\n",
    "input()\n",
    "\n",
    "A = set(input().split())\n",
    "opr_count = int(input())\n",
    "\n",
    "for i in range (opr_count):\n",
    "    opr = (input().split())[0]\n",
    "    s_tmp = set(input().split())\n",
    "\n",
    "    if (opr == \"intersection_update\"):\n",
    "        A.intersection_update(s_tmp)\n",
    "    else: \n",
    "        if (opr == \"update\"):\n",
    "            A.update(s_tmp)\n",
    "        else: \n",
    "            if (opr == \"symmetric_difference_update\"):\n",
    "                A.symmetric_difference_update(s_tmp)\n",
    "            else: \n",
    "                if (opr == \"difference_update\"):\n",
    "                    A.difference_update(s_tmp)\n",
    "\n",
    "print (sum(map(int,A)))"
   ]
  },
  {
   "cell_type": "markdown",
   "metadata": {},
   "source": [
    "# String Operations"
   ]
  },
  {
   "cell_type": "code",
   "execution_count": 25,
   "metadata": {},
   "outputs": [
    {
     "name": "stdout",
     "output_type": "stream",
     "text": [
      "BANANA\n",
      "A\n",
      "3\n"
     ]
    }
   ],
   "source": [
    "# the user enters a string and a substring. \n",
    "# Output shall print the number of times that the substring occurs in the given string. \n",
    "\n",
    "def count_substring_1(string, sub_string):\n",
    "    ret_count=0\n",
    "    index =0;\n",
    "    for i in range (0, len(string)):\n",
    "        #print (string[index:].find(sub_string))\n",
    "        if not (string[index:].find(sub_string))==-1 and (len(string[index:])>=len(sub_string)):\n",
    "            #print (st[index:],\" \", sub_str, st[index:].find(sub_str), count )\n",
    "            ret_count +=1\n",
    "            index+=(string[index:].find(sub_string))+1\n",
    "            \n",
    "    #print (ret_count)\n",
    "    return ret_count\n",
    "\n",
    "def count_substring(st, sub_str):\n",
    "    index =0\n",
    "    count=0\n",
    "    while (not (st[index:].find(sub_str) == -1)) and (len(sub_str) <= len(st[index:])):\n",
    "        #print (st[index:],\" \", sub_str, st[index:].find(sub_str), count )\n",
    "        count +=1\n",
    "        index +=(st[index:].find(sub_str))+1\n",
    "    #print (\"** \", st[index:], \" \", sub_str, \" \", count)\n",
    "    return count\n",
    "\n",
    "if __name__ == '__main__':\n",
    "    string = input().strip()\n",
    "    sub_string = input().strip()\n",
    "    \n",
    "    count = count_substring(string, sub_string)\n",
    "    print(count)\n",
    "    "
   ]
  },
  {
   "attachments": {},
   "cell_type": "markdown",
   "metadata": {},
   "source": [
    "## The Minion Gate\n",
    "\n",
    "Kevin and Stuart want to play the 'The Minion Game'.\n",
    "\n",
    "Game Rules\n",
    "\n",
    "Both players are given the same string, S .\n",
    "Both players have to make substrings using the letters of the string S.\n",
    "Stuart has to make words starting with consonants.\n",
    "Kevin has to make words starting with vowels. \n",
    "The game ends when both players have made all possible substrings. \n",
    "\n",
    "Scoring\n",
    "A player gets +1 point for each occurrence of the substring in the string S.\n",
    "\n",
    "For Example:\n",
    "String  = BANANA\n",
    "Kevin's vowel beginning word = ANA\n",
    "Here, ANA occurs twice in BANANA. Hence, Kevin will get 2 Points. \n",
    "\n",
    "For S = Banana: \n",
    "\n",
    "Struat: \n",
    "\n"
   ]
  },
  {
   "cell_type": "code",
   "execution_count": 30,
   "metadata": {},
   "outputs": [
    {
     "name": "stdout",
     "output_type": "stream",
     "text": [
      "A\n",
      "String with vowel count  1\n",
      "String with consonents count  0\n"
     ]
    }
   ],
   "source": [
    "\n",
    "#Define a fucntion to find subsrtrings\n",
    "\n",
    "def count_substring(st, sub_str):\n",
    "    index =0\n",
    "    count=0\n",
    "    while (not (st[index:].find(sub_str) == -1)) and (len(sub_str) <= len(st[index:])):\n",
    "        #print (st[index:],\" \", sub_str, st[index:].find(sub_str), count )\n",
    "        count +=1\n",
    "        index +=(st[index:].find(sub_str))+1\n",
    "    #print (\"** \", st[index:], \" \", sub_str, \" \", count)\n",
    "    return count                                                     \n",
    "\n",
    "#Main function:\n",
    "#    1. Start two nested loop where \n",
    "#vowels = ['a', 'e', 'i', 'o', 'u']\n",
    "#sub_str =[]\n",
    "\n",
    "def string_with_vowels (S, vowel_flag):   \n",
    "    #print (S)\n",
    "    vowels = ['a', 'e', 'i', 'o', 'u']\n",
    "    sub_str =[]\n",
    "    \n",
    "    count = 0\n",
    "    # count the substring that start with vowels\n",
    "    for i in range(len(S)):\n",
    "        \n",
    "        # Following check if the search is for vowel or consonents\n",
    "        if ((S[i] in vowels) == vowel_flag):\n",
    "            #print (\"Testing \", S[i:], count)\n",
    "            Sj = S[i:]\n",
    "            for j in range (1, len(Sj)+1):\n",
    "                s_str = Sj[:j]\n",
    "                #print (Sj, s_str, \"Score = \", count)\n",
    "                if (s_str not in sub_str):\n",
    "                    #print (S[i:], S[i:j], \"Score = \", count)\n",
    "                    sub_str.append(s_str)\n",
    "                    count += count_substring(Sj, s_str)\n",
    "                else: \n",
    "                     None\n",
    "                    #print (s_str, \" already checked. Skipping\") \n",
    "                    \n",
    "    #print (count)\n",
    "    return count\n",
    "\n",
    "\n",
    "\n",
    "if __name__ == \"__main__\":\n",
    " \n",
    "    S = input ()\n",
    "    \n",
    "    print (\"String with vowel count \", string_with_vowels (S.lower(), True))\n",
    "    print (\"String with consonents count \", string_with_vowels (S.lower(), False))\n"
   ]
  },
  {
   "cell_type": "code",
   "execution_count": null,
   "metadata": {},
   "outputs": [],
   "source": []
  },
  {
   "cell_type": "code",
   "execution_count": 29,
   "metadata": {},
   "outputs": [
    {
     "name": "stdout",
     "output_type": "stream",
     "text": [
      "On branch master\n",
      "Your branch is up to date with 'origin/master'.\n",
      "\n",
      "Changes not staged for commit:\n",
      "  (use \"git add <file>...\" to update what will be committed)\n",
      "  (use \"git checkout -- <file>...\" to discard changes in working directory)\n",
      "\n",
      "\tmodified:   .ipynb_checkpoints/Cracking the Coding Interview Problems-checkpoint.ipynb\n",
      "\tmodified:   Cracking the Coding Interview Problems.ipynb\n",
      "\n",
      "no changes added to commit (use \"git add\" and/or \"git commit -a\")\n"
     ]
    },
    {
     "name": "stderr",
     "output_type": "stream",
     "text": [
      "warning: LF will be replaced by CRLF in .ipynb_checkpoints/Cracking the Coding Interview Problems-checkpoint.ipynb.\n",
      "The file will have its original line endings in your working directory\n",
      "warning: LF will be replaced by CRLF in Cracking the Coding Interview Problems.ipynb.\n",
      "The file will have its original line endings in your working directory\n"
     ]
    },
    {
     "name": "stdout",
     "output_type": "stream",
     "text": [
      "[master b19cf97] progress commit\n",
      " 2 files changed, 103 insertions(+), 84 deletions(-)\n",
      "Branch 'master' set up to track remote branch 'master' from 'origin'.\n"
     ]
    },
    {
     "name": "stderr",
     "output_type": "stream",
     "text": [
      "To https://github.com/mabdulrazzak/Python-and-Pyspark.git\n",
      "   e0ca0e8..b19cf97  master -> master\n"
     ]
    }
   ],
   "source": [
    "# Saves and commits the code\n",
    "! git status\n",
    "! git add .\n",
    "! git commit -m \"progress commit\"\n",
    "! git push -u origin master"
   ]
  },
  {
   "cell_type": "code",
   "execution_count": null,
   "metadata": {},
   "outputs": [],
   "source": []
  }
 ],
 "metadata": {
  "kernelspec": {
   "display_name": "Python 3",
   "language": "python",
   "name": "python3"
  },
  "language_info": {
   "codemirror_mode": {
    "name": "ipython",
    "version": 3
   },
   "file_extension": ".py",
   "mimetype": "text/x-python",
   "name": "python",
   "nbconvert_exporter": "python",
   "pygments_lexer": "ipython3",
   "version": "3.7.1"
  }
 },
 "nbformat": 4,
 "nbformat_minor": 2
}
