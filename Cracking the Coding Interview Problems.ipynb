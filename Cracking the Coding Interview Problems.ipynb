{
 "cells": [
  {
   "cell_type": "markdown",
   "metadata": {},
   "source": [
    "## Cracking the Coding Interview Problems\n",
    "### Topics\n",
    "- Strings\n",
    "- Arrays\n",
    "- LinkedLists\n",
    "- Trees\n",
    "\n",
    "**Among algortihm questions, these are the ones you are most likely to encounter.**\n",
    "Use this notebook to record pointers, tips, and techniques. Doing these problems will give you a focused refresher on coding for interviews with the relevant data structures."
   ]
  },
  {
   "cell_type": "markdown",
   "metadata": {},
   "source": [
    "### Strings\n",
    "\n",
    "#### Pointers for String problems\n",
    "\n",
    "Use this space to record pointers for string problems\n",
    "\n",
    "- Sample pointer 1: Consider using a dictionary to keep character counts\n",
    "- Used set to handle character tracking: Also tried withArray, but Array is a list which increases execution time vs set which used map so the search is 0(1) i.e. faster\n",
    "- Char at a index in string: `string[index]` \n",
    "- Declaring set: nameofSet = `set()`\n",
    "- To check elem in set: `if (elem in nameOfSet)`\n",
    "- Adding element to set: `nameOfSet.add(elem)`\n",
    "- For true/false use `False True`\n",
    "- Range of ints: `range (low, high+1)`\n",
    "\n",
    "\n",
    "### Problem 1)\n",
    "\n",
    "**is_unique(string):** - Write a problem to return True or False for whether a passed string contains repeated characters\n",
    "\n",
    "For example: is_unique('the dog') => **True**; is_unique('apple') => **False** # Repeated char 'p'\n",
    "\n",
    "\n"
   ]
  },
  {
   "cell_type": "code",
   "execution_count": null,
   "metadata": {
    "scrolled": true
   },
   "outputs": [
    {
     "name": "stdout",
     "output_type": "stream",
     "text": [
      "Enter a string to test uniue test\n",
      " Testing the string  test\n",
      "\n",
      " isUnique result for  test   False\n"
     ]
    }
   ],
   "source": [
    "def is_unique(string):\n",
    "    '''\n",
    "    Implement your function here. Return True if the string contains no repeat chars, Return False otherwise\n",
    "    '''\n",
    "    # convert string to lower case\n",
    "    string = string.lower()\n",
    "    print (\" Testing the string \", string)\n",
    "    \n",
    "    chrArray = set()\n",
    "    \n",
    "    for x in range (len(string)):\n",
    "        if (string[x] in chrArray):\n",
    "            return False\n",
    "        else: \n",
    "            chrArray.add(string[x])\n",
    "    return True\n",
    "\n",
    "\n",
    "while (1):\n",
    "    st = input (\"Enter a string to test uniue \")\n",
    "    print ('\\n isUnique result for ',st, ' ', is_unique (st))\n",
    "\n"
   ]
  },
  {
   "cell_type": "markdown",
   "metadata": {},
   "source": [
    "#### Tests for is_unique "
   ]
  },
  {
   "cell_type": "code",
   "execution_count": 25,
   "metadata": {},
   "outputs": [],
   "source": [
    "'''\n",
    "Run this cell after you complete the function above\n",
    "If all test cases pass, there will be no output\n",
    "Else, there will be an assertion error\n",
    "'''\n",
    "assert( is_unique('apple') == False )\n",
    "assert( is_unique('bAnana') == False )\n",
    "assert( is_unique('table') ==  True )"
   ]
  },
  {
   "cell_type": "markdown",
   "metadata": {},
   "source": [
    "### Problem 2)\n",
    "\n",
    "**check_perm (str_1, str_2):** - Write a problem to return True or False for whether a passed string 1 is the permutation of the second string; Trim white space and case insensitive; \n",
    "\n",
    "For example: check_perm (\"abcd\", \"cbad\") => **True**; check_perm (\"abcd\", \"aabcd\") => **False** Additional char a\n"
   ]
  },
  {
   "cell_type": "code",
   "execution_count": 10,
   "metadata": {},
   "outputs": [
    {
     "data": {
      "text/plain": [
       "False"
      ]
     },
     "execution_count": 10,
     "metadata": {},
     "output_type": "execute_result"
    }
   ],
   "source": [
    "def check_perm  (str_1, str_2):\n",
    "    \n",
    "    # Case same case\n",
    "    str_1 = str_1.lower()\n",
    "    str_2 = str_2.lower()\n",
    "    \n",
    "    # if lengths are not equal return false\n",
    "    \n",
    "    if (not(len(str_1) ==  len(str_2))):\n",
    "        return False\n",
    "    \n",
    "    # create map for the first string\n",
    "    char_count_map = {}\n",
    "    \n",
    "    for x in range (len(str_1)):\n",
    "        char = str_1[x]\n",
    "        if (char in char_count_map):\n",
    "            char_count_map[char] = char_count_map[char] + 1\n",
    "        else: # For each duplicate char, increment the count\n",
    "            char_count_map[char] = 1\n",
    "    \n",
    "    ## checking the perms\n",
    "    # Iterate the second string and start reducing the count and if count goes to 0 remove the elem\n",
    "    for x in range(len(str_2)):\n",
    "        char = str_2[x]\n",
    "        if (not(char in char_count_map)):\n",
    "            return False\n",
    "        else:\n",
    "            if (char_count_map[char] == 1):\n",
    "                del char_count_map[char]\n",
    "            else:\n",
    "                char_count_map[char] = char_count_map[char]-1\n",
    "                \n",
    "    # if the map does not have the char return false\n",
    "    return (len(char_count_map)==0)\n",
    "\n",
    "check_perm (\"aabcjcd\", \"bedftgr\")\n",
    "    \n",
    "    "
   ]
  },
  {
   "cell_type": "code",
   "execution_count": 11,
   "metadata": {},
   "outputs": [],
   "source": [
    "'''\n",
    "Run this cell after you complete the function above\n",
    "If all test cases pass, there will be no output\n",
    "Else, there will be an assertion error\n",
    "'''\n",
    "assert( check_perm (\"aabcjcd\", \"bedftgr\") == False )\n",
    "assert( check_perm (\"aabcjcd\", \"baaaccd\") == False )\n",
    "assert( check_perm (\"aabbcccdddde\", \"ebabacdcdcdd\") ==  True )"
   ]
  },
  {
   "cell_type": "markdown",
   "metadata": {},
   "source": [
    "### Problem 3)\n",
    "\n",
    "**reverse_c_style_string (string):** - Write a problem to reverse a C style string. Clue: C style strings has NULL charatcer at the end\n",
    "\n",
    "For example: creverse_c_style_string (\"abcd\\0\") => **dcba**; "
   ]
  },
  {
   "cell_type": "code",
   "execution_count": 26,
   "metadata": {},
   "outputs": [
    {
     "data": {
      "text/plain": [
       "'dcba'"
      ]
     },
     "execution_count": 26,
     "metadata": {},
     "output_type": "execute_result"
    }
   ],
   "source": [
    "def reverse_c_style_string (string):\n",
    "    str_2 = \"\"\n",
    "    for x in range(len(string)):\n",
    "        char = string[x]\n",
    "        str_2 =  char + str_2\n",
    "    return str_2\n",
    "\n",
    "reverse_c_style_string (\"abcd\")"
   ]
  },
  {
   "cell_type": "code",
   "execution_count": 28,
   "metadata": {},
   "outputs": [],
   "source": [
    "'''\n",
    "Run this cell after you complete the function above\n",
    "If all test cases pass, there will be no output\n",
    "Else, there will be an assertion error\n",
    "'''\n",
    "assert(reverse_c_style_string (\"abcdefg\") == \"gfedcba\" )\n",
    "assert(reverse_c_style_string (\"4321ba\") == \"ab1234\")\n"
   ]
  },
  {
   "cell_type": "markdown",
   "metadata": {},
   "source": [
    "### Problem 4)\n",
    "\n",
    "**reverse_in_place (list):** - Reverse the elements of list in place in O(n) time\n",
    "\n",
    "For example: `reverse_in_place ( ['a', 'b', 'c', 'd', 'e'] ) == ['e', 'd', 'c', 'b', 'a']`"
   ]
  },
  {
   "cell_type": "code",
   "execution_count": 47,
   "metadata": {},
   "outputs": [
    {
     "name": "stdout",
     "output_type": "stream",
     "text": [
      "['e', 'd', 'c', 'b', 'a']\n"
     ]
    }
   ],
   "source": [
    "def reverse_in_place( lst ):\n",
    "    \n",
    "    #get the list lenght\n",
    "    list_len = len(lst)\n",
    "    \n",
    "    if (list_len == 1):\n",
    "        return lst\n",
    "    \n",
    "    head_index = 0\n",
    "    tail_index = list_len - 1\n",
    "    \n",
    "    while (head_index < tail_index):\n",
    "        tmp = lst[head_index]\n",
    "        lst[head_index] = lst[tail_index]\n",
    "        lst[tail_index] = tmp\n",
    "        head_index=head_index + 1\n",
    "        tail_index = tail_index - 1\n",
    "    return lst\n",
    "        \n",
    "lst =  ['a', 'b', 'c', 'd', 'e']\n",
    "lst = reverse_in_place ( lst )\n",
    "print (lst)"
   ]
  },
  {
   "cell_type": "code",
   "execution_count": 42,
   "metadata": {},
   "outputs": [],
   "source": [
    "'''\n",
    "Run these tests after defining the function above\n",
    "'''\n",
    "assert ( ''.join( reverse_in_place( ['a','b','c','d'] ) ) == 'dcba')"
   ]
  },
  {
   "cell_type": "markdown",
   "metadata": {},
   "source": [
    "### Problem 5)\n",
    "\n",
    "**URL_stringify (list):** - URLify a string represented as a char array, where every space is replaced in the following manner\n",
    "\n",
    "`' ' => '%', '2', '0'`. The original array has enough elements at the end of the list to accomodate for these added chars \n",
    "\n",
    "For example: `URL_stringify ( ['a', ' ', 'b', ' ', 'c', 'd', ' ', ' ', ' ', ' '] ) == ['a', '%', '2', '0', 'b', '%', '2', '0', 'c', 'd']`"
   ]
  },
  {
   "cell_type": "code",
   "execution_count": 49,
   "metadata": {},
   "outputs": [],
   "source": [
    "def URL_stringify( list ):\n",
    "\n",
    "    # find the length of the list\n",
    "    len_list = len(list)\n",
    "    write_index = len_list -1\n",
    "    alpha_tracker = write_index\n",
    "\n",
    "    # find the last alpha charater in the list\n",
    "    while (list[alpha_tracker] == \" \"):\n",
    "        aplha_tracker = alpha_tracker-1\n",
    "        \n",
    "    # copy the last alpha to last;\n",
    "    while (alpha_tracker > 0):\n",
    "        if (not (list[apha_tracker] == \" \")):\n",
    "            list[write_index] = list[apha_tracker]\n",
    "            write_index = write_index - 1\n",
    "            alpha_tracker = alpha_tracker - 1\n",
    "        else:  \n",
    "            list[write_index] = '0'\n",
    "            list[write_index-1] = '2'\n",
    "            list[write_index-2] = '%'\n",
    "            write_index = write_index - 3\n",
    "            alpha_tracker = alpha_tracker - 1    \n",
    "    \n",
    "    return list\n",
    "\n"
   ]
  },
  {
   "cell_type": "code",
   "execution_count": null,
   "metadata": {},
   "outputs": [],
   "source": [
    "'''\n",
    "Run these tests after defining the function above to accomodate for the extra characters\n",
    "'''\n",
    "assert( ''.join(URL_stringify(['a', ' ', 'b', ' ', 'c', 'd', ' ', ' ', ' ', ' '])) == 'a%20b%20cd' )\n"
   ]
  },
  {
   "cell_type": "markdown",
   "metadata": {},
   "source": [
    "###  Problem 6\n",
    "**rotate_list ( list, k ):** - Rotate an array in place by k elements.\n",
    "\n",
    "`rotate_list( [1,2,3,4], 2 ) == [3,4,1,2]`"
   ]
  },
  {
   "cell_type": "code",
   "execution_count": 35,
   "metadata": {},
   "outputs": [
    {
     "name": "stdout",
     "output_type": "stream",
     "text": [
      "Enter an integer15\n",
      "Enter the rotator size3\n",
      "Input list : [0, 1, 2, 3, 4, 5, 6, 7, 8, 9, 10, 11, 12, 13, 14]\n",
      "Rotated list ** : [12, 13, 14, 0, 1, 2, 3, 4, 5, 6, 7, 8, 9, 10, 11]\n"
     ]
    }
   ],
   "source": [
    "import random\n",
    "def rotate_list( list, rotator ):\n",
    "    \n",
    "    # sanitize the rotation\n",
    "    k = rotator % len(list)\n",
    "    \n",
    "    # Check for the 0\n",
    "    if ((k==0) or (len(list) == 0)):\n",
    "        return list\n",
    "    \n",
    "    # read the first element\n",
    "    list_len = len(list)\n",
    "    item_to_move = list[0];\n",
    "    tmp = list[0]\n",
    "    index =0\n",
    "    \n",
    "    # tracking the indexes within the rotator range\n",
    "    # for certain combinations, the moved index is revisited. \n",
    "    # this listtracks the visited elements with in 0 to rotator range to avoid errors\n",
    "    trackerList = []\n",
    "    \n",
    "    # Start moving the elements one at a time\n",
    "    for x in range(len(list)):\n",
    "\n",
    "        # if index is less than rotator check if already moved \n",
    "        #if not move otherwise move to next till an unmoved items is found\n",
    "        # check if already in trackerList\n",
    "        while ((index in trackerList) and (index <k)):\n",
    "            index +=1\n",
    "            tmp = list[index]\n",
    "        \n",
    "        # Add index to trackerList\n",
    "        trackerList.append(index)\n",
    "\n",
    "        # Move the items\n",
    "        index_to_move = (index + k) % list_len    \n",
    "        item_to_move = list[index_to_move]\n",
    "        list[index_to_move] = tmp\n",
    "        index = index_to_move\n",
    "        tmp = item_to_move\n",
    "        \n",
    "        \n",
    "    print (\"Rotated list ** :\", list)\n",
    "\n",
    "    return\n",
    "\n",
    "# create a random very big list\n",
    "list_size = input ('Enter an integer')\n",
    "list = []\n",
    "\n",
    "for x in range(int(list_size)):\n",
    "    list.append(x)\n",
    "         \n",
    "rotr = input ('Enter the rotator size')\n",
    "print (\"Input list :\", list)\n",
    "rotate_list (list, int(rotr))\n"
   ]
  },
  {
   "cell_type": "code",
   "execution_count": 73,
   "metadata": {},
   "outputs": [
    {
     "name": "stdout",
     "output_type": "stream",
     "text": [
      " Move #  0   ['1', '2', '1', '4']\n",
      " Move #  1   ['3', '2', '1', '4']\n",
      " Move #  2   ['3', '2', '1', '2']\n",
      " Move #  3   ['3', '4', '1', '2']\n",
      "Rotated list ** : ['3', '4', '1', '2']\n",
      " Move #  0   ['1', '2', '3', '1', '5', '6']\n",
      " Move #  1   ['4', '2', '3', '1', '5', '6']\n",
      " Move #  2   ['4', '2', '3', '1', '2', '6']\n",
      " Move #  3   ['4', '5', '3', '1', '2', '6']\n",
      " Move #  4   ['4', '5', '3', '1', '2', '3']\n",
      " Move #  5   ['4', '5', '6', '1', '2', '3']\n",
      "Rotated list ** : ['4', '5', '6', '1', '2', '3']\n"
     ]
    }
   ],
   "source": [
    "'''\n",
    "Run these tests after defining the function above\n",
    "'''\n",
    "assert ( ''.join(rotate_list( ['1','2','3','4'], 2 )) == '3412' )\n",
    "assert ( ''.join(rotate_list( ['1','2','3','4','5','6'], 3 )) == '456123' )"
   ]
  },
  {
   "cell_type": "code",
   "execution_count": 29,
   "metadata": {},
   "outputs": [
    {
     "name": "stdout",
     "output_type": "stream",
     "text": [
      "On branch master\n",
      "Your branch is up to date with 'origin/master'.\n",
      "\n",
      "Changes not staged for commit:\n",
      "  (use \"git add <file>...\" to update what will be committed)\n",
      "  (use \"git checkout -- <file>...\" to discard changes in working directory)\n",
      "\n",
      "\tmodified:   .ipynb_checkpoints/Cracking the Coding Interview Problems-checkpoint.ipynb\n",
      "\n",
      "Untracked files:\n",
      "  (use \"git add <file>...\" to include in what will be committed)\n",
      "\n",
      "\tCracking the Coding Interview Problems.ipynb\n",
      "\n",
      "no changes added to commit (use \"git add\" and/or \"git commit -a\")\n"
     ]
    },
    {
     "name": "stderr",
     "output_type": "stream",
     "text": [
      "warning: LF will be replaced by CRLF in .ipynb_checkpoints/Cracking the Coding Interview Problems-checkpoint.ipynb.\n",
      "The file will have its original line endings in your working directory\n",
      "warning: LF will be replaced by CRLF in Cracking the Coding Interview Problems.ipynb.\n",
      "The file will have its original line endings in your working directory\n"
     ]
    },
    {
     "name": "stdout",
     "output_type": "stream",
     "text": [
      "[master f0774d1] progress commit\n",
      " Committer: Mohammed Abdul-Razzak <mabdulra@ss8.com>\n",
      "Your name and email address were configured automatically based\n",
      "on your username and hostname. Please check that they are accurate.\n",
      "You can suppress this message by setting them explicitly. Run the\n",
      "following command and follow the instructions in your editor to edit\n",
      "your configuration file:\n",
      "\n",
      "    git config --global --edit\n",
      "\n",
      "After doing this, you may fix the identity used for this commit with:\n",
      "\n",
      "    git commit --amend --reset-author\n",
      "\n",
      " 2 files changed, 561 insertions(+), 40 deletions(-)\n",
      " create mode 100644 Cracking the Coding Interview Problems.ipynb\n",
      "Branch 'master' set up to track remote branch 'master' from 'origin'.\n"
     ]
    },
    {
     "name": "stderr",
     "output_type": "stream",
     "text": [
      "To https://github.com/mabdulrazzak/Interview_Prep.git\n",
      "   cd5fcac..f0774d1  master -> master\n"
     ]
    }
   ],
   "source": [
    "# Saves and commits the code\n",
    "! git status\n",
    "! git add .\n",
    "! git commit -m \"progress commit\"\n",
    "! git push -u origin master"
   ]
  },
  {
   "cell_type": "code",
   "execution_count": null,
   "metadata": {},
   "outputs": [],
   "source": []
  }
 ],
 "metadata": {
  "kernelspec": {
   "display_name": "Python 3",
   "language": "python",
   "name": "python3"
  },
  "language_info": {
   "codemirror_mode": {
    "name": "ipython",
    "version": 3
   },
   "file_extension": ".py",
   "mimetype": "text/x-python",
   "name": "python",
   "nbconvert_exporter": "python",
   "pygments_lexer": "ipython3",
   "version": "3.7.2"
  }
 },
 "nbformat": 4,
 "nbformat_minor": 2
}
