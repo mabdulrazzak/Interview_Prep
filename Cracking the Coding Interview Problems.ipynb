{
 "cells": [
  {
   "cell_type": "markdown",
   "metadata": {},
   "source": [
    "## Cracking the Coding Interview Problems\n",
    "### Topics\n",
    "- Strings\n",
    "- Arrays\n",
    "- LinkedLists\n",
    "- Trees\n",
    "\n",
    "**Among algortihm questions, these are the ones you are most likely to encounter.**\n",
    "Use this notebook to record pointers, tips, and techniques. Doing these problems will give you a focused refresher on coding for interviews with the relevant data structures."
   ]
  },
  {
   "cell_type": "markdown",
   "metadata": {},
   "source": [
    "### Strings\n",
    "\n",
    "#### Pointers for String problems\n",
    "\n",
    "Use this space to record pointers for string problems\n",
    "\n",
    "- Sample pointer 1: Consider using a dictionary to keep character counts\n",
    "- Used set to handle character tracking: Also tried withArray, but Array is a list which increases execution time vs set which used map so the search is 0(1) i.e. faster\n",
    "- Char at a index in string: `string[index]` \n",
    "- Declaring set: nameofSet = `set()`\n",
    "- To check elem in set: `if (elem in nameOfSet)`\n",
    "- Adding element to set: `nameOfSet.add(elem)`\n",
    "- For true/false use `False True`\n",
    "- Range of ints: `range (low, high+1)`\n",
    "\n",
    "\n",
    "### Problem 1)\n",
    "\n",
    "**is_unique(string):** - Write a problem to return True or False for whether a passed string contains repeated characters\n",
    "\n",
    "For example: is_unique('the dog') => **True**; is_unique('apple') => **False** # Repeated char 'p'\n",
    "\n",
    "\n"
   ]
  },
  {
   "cell_type": "code",
   "execution_count": null,
   "metadata": {
    "scrolled": true
   },
   "outputs": [
    {
     "name": "stdout",
     "output_type": "stream",
     "text": [
      "Enter a string to test uniue test\n",
      " Testing the string  test\n",
      "\n",
      " isUnique result for  test   False\n"
     ]
    }
   ],
   "source": [
    "def is_unique(string):\n",
    "    '''\n",
    "    Implement your function here. Return True if the string contains no repeat chars, Return False otherwise\n",
    "    '''\n",
    "    # convert string to lower case\n",
    "    string = string.lower()\n",
    "    print (\" Testing the string \", string)\n",
    "    \n",
    "    chrArray = set()\n",
    "    \n",
    "    for x in range (len(string)):\n",
    "        if (string[x] in chrArray):\n",
    "            return False\n",
    "        else: \n",
    "            chrArray.add(string[x])\n",
    "    return True\n",
    "\n",
    "\n",
    "while (1):\n",
    "    st = input (\"Enter a string to test uniue \")\n",
    "    print ('\\n isUnique result for ',st, ' ', is_unique (st))\n",
    "\n"
   ]
  },
  {
   "cell_type": "markdown",
   "metadata": {},
   "source": [
    "#### Tests for is_unique "
   ]
  },
  {
   "cell_type": "code",
   "execution_count": 25,
   "metadata": {},
   "outputs": [],
   "source": [
    "'''\n",
    "Run this cell after you complete the function above\n",
    "If all test cases pass, there will be no output\n",
    "Else, there will be an assertion error\n",
    "'''\n",
    "assert( is_unique('apple') == False )\n",
    "assert( is_unique('bAnana') == False )\n",
    "assert( is_unique('table') ==  True )"
   ]
  },
  {
   "cell_type": "markdown",
   "metadata": {},
   "source": [
    "### Problem 2)\n",
    "\n",
    "**check_perm (str_1, str_2):** - Write a problem to return True or False for whether a passed string 1 is the permutation of the second string; Trim white space and case insensitive; \n",
    "\n",
    "For example: check_perm (\"abcd\", \"cbad\") => **True**; check_perm (\"abcd\", \"aabcd\") => **False** Additional char a\n"
   ]
  },
  {
   "cell_type": "code",
   "execution_count": 10,
   "metadata": {},
   "outputs": [
    {
     "data": {
      "text/plain": [
       "False"
      ]
     },
     "execution_count": 10,
     "metadata": {},
     "output_type": "execute_result"
    }
   ],
   "source": [
    "def check_perm  (str_1, str_2):\n",
    "    \n",
    "    # Case same case\n",
    "    str_1 = str_1.lower()\n",
    "    str_2 = str_2.lower()\n",
    "    \n",
    "    # if lengths are not equal return false\n",
    "    \n",
    "    if (not(len(str_1) ==  len(str_2))):\n",
    "        return False\n",
    "    \n",
    "    # create map for the first string\n",
    "    char_count_map = {}\n",
    "    \n",
    "    for x in range (len(str_1)):\n",
    "        char = str_1[x]\n",
    "        if (char in char_count_map):\n",
    "            char_count_map[char] = char_count_map[char] + 1\n",
    "        else: # For each duplicate char, increment the count\n",
    "            char_count_map[char] = 1\n",
    "    \n",
    "    ## checking the perms\n",
    "    # Iterate the second string and start reducing the count and if count goes to 0 remove the elem\n",
    "    for x in range(len(str_2)):\n",
    "        char = str_2[x]\n",
    "        if (not(char in char_count_map)):\n",
    "            return False\n",
    "        else:\n",
    "            if (char_count_map[char] == 1):\n",
    "                del char_count_map[char]\n",
    "            else:\n",
    "                char_count_map[char] = char_count_map[char]-1\n",
    "                \n",
    "    # if the map does not have the char return false\n",
    "    return (len(char_count_map)==0)\n",
    "\n",
    "check_perm (\"aabcjcd\", \"bedftgr\")\n",
    "    \n",
    "    "
   ]
  },
  {
   "cell_type": "code",
   "execution_count": 11,
   "metadata": {},
   "outputs": [],
   "source": [
    "'''\n",
    "Run this cell after you complete the function above\n",
    "If all test cases pass, there will be no output\n",
    "Else, there will be an assertion error\n",
    "'''\n",
    "assert( check_perm (\"aabcjcd\", \"bedftgr\") == False )\n",
    "assert( check_perm (\"aabcjcd\", \"baaaccd\") == False )\n",
    "assert( check_perm (\"aabbcccdddde\", \"ebabacdcdcdd\") ==  True )"
   ]
  },
  {
   "cell_type": "markdown",
   "metadata": {},
   "source": [
    "### Problem 3)\n",
    "\n",
    "**reverse_c_style_string (string):** - Write a problem to reverse a C style string. Clue: C style strings has NULL charatcer at the end\n",
    "\n",
    "For example: creverse_c_style_string (\"abcd\\0\") => **dcba**; "
   ]
  },
  {
   "cell_type": "code",
   "execution_count": 26,
   "metadata": {},
   "outputs": [
    {
     "data": {
      "text/plain": [
       "'dcba'"
      ]
     },
     "execution_count": 26,
     "metadata": {},
     "output_type": "execute_result"
    }
   ],
   "source": [
    "def reverse_c_style_string (string):\n",
    "    str_2 = \"\"\n",
    "    for x in range(len(string)):\n",
    "        char = string[x]\n",
    "        str_2 =  char + str_2\n",
    "    return str_2\n",
    "\n",
    "reverse_c_style_string (\"abcd\")"
   ]
  },
  {
   "cell_type": "code",
   "execution_count": 28,
   "metadata": {},
   "outputs": [],
   "source": [
    "'''\n",
    "Run this cell after you complete the function above\n",
    "If all test cases pass, there will be no output\n",
    "Else, there will be an assertion error\n",
    "'''\n",
    "assert(reverse_c_style_string (\"abcdefg\") == \"gfedcba\" )\n",
    "assert(reverse_c_style_string (\"4321ba\") == \"ab1234\")\n"
   ]
  },
  {
   "cell_type": "markdown",
   "metadata": {},
   "source": [
    "### Problem 4)\n",
    "\n",
    "**reverse_in_place (list):** - Reverse the elements of list in place in O(n) time\n",
    "\n",
    "For example: `reverse_in_place ( ['a', 'b', 'c', 'd', 'e'] ) == ['e', 'd', 'c', 'b', 'a']`"
   ]
  },
  {
   "cell_type": "code",
   "execution_count": 47,
   "metadata": {},
   "outputs": [
    {
     "name": "stdout",
     "output_type": "stream",
     "text": [
      "['e', 'd', 'c', 'b', 'a']\n"
     ]
    }
   ],
   "source": [
    "def reverse_in_place( lst ):\n",
    "    \n",
    "    #get the list lenght\n",
    "    list_len = len(lst)\n",
    "    \n",
    "    if (list_len == 1):\n",
    "        return lst\n",
    "    \n",
    "    head_index = 0\n",
    "    tail_index = list_len - 1\n",
    "    \n",
    "    while (head_index < tail_index):\n",
    "        tmp = lst[head_index]\n",
    "        lst[head_index] = lst[tail_index]\n",
    "        lst[tail_index] = tmp\n",
    "        head_index=head_index + 1\n",
    "        tail_index = tail_index - 1\n",
    "    return lst\n",
    "        \n",
    "lst =  ['a', 'b', 'c', 'd', 'e']\n",
    "lst = reverse_in_place ( lst )\n",
    "print (lst)"
   ]
  },
  {
   "cell_type": "code",
   "execution_count": 42,
   "metadata": {},
   "outputs": [],
   "source": [
    "'''\n",
    "Run these tests after defining the function above\n",
    "'''\n",
    "assert ( ''.join( reverse_in_place( ['a','b','c','d'] ) ) == 'dcba')"
   ]
  },
  {
   "cell_type": "markdown",
   "metadata": {},
   "source": [
    "### Problem 5)\n",
    "\n",
    "**URL_stringify (list):** - URLify a string represented as a char array, where every space is replaced in the following manner\n",
    "\n",
    "`' ' => '%', '2', '0'`. The original array has enough elements at the end of the list to accomodate for these added chars \n",
    "\n",
    "For example: `URL_stringify ( ['a', ' ', 'b', ' ', 'c', 'd', ' ', ' ', ' ', ' '] ) == ['a', '%', '2', '0', 'b', '%', '2', '0', 'c', 'd']`"
   ]
  },
  {
   "cell_type": "code",
   "execution_count": 49,
   "metadata": {},
   "outputs": [],
   "source": [
    "def URL_stringify( list ):\n",
    "\n",
    "    # find the length of the list\n",
    "    len_list = len(list)\n",
    "    write_index = len_list -1\n",
    "    alpha_tracker = write_index\n",
    "\n",
    "    # find the last alpha charater in the list\n",
    "    while (list[alpha_tracker] == \" \"):\n",
    "        aplha_tracker = alpha_tracker-1\n",
    "        \n",
    "    # copy the last alpha to last;\n",
    "    while (alpha_tracker > 0):\n",
    "        if (not (list[apha_tracker] == \" \")):\n",
    "            list[write_index] = list[apha_tracker]\n",
    "            write_index = write_index - 1\n",
    "            alpha_tracker = alpha_tracker - 1\n",
    "        else:  \n",
    "            list[write_index] = '0'\n",
    "            list[write_index-1] = '2'\n",
    "            list[write_index-2] = '%'\n",
    "            write_index = write_index - 3\n",
    "            alpha_tracker = alpha_tracker - 1    \n",
    "    \n",
    "    return list\n",
    "\n"
   ]
  },
  {
   "cell_type": "code",
   "execution_count": null,
   "metadata": {},
   "outputs": [],
   "source": [
    "'''\n",
    "Run these tests after defining the function above to accomodate for the extra characters\n",
    "'''\n",
    "assert( ''.join(URL_stringify(['a', ' ', 'b', ' ', 'c', 'd', ' ', ' ', ' ', ' '])) == 'a%20b%20cd' )\n"
   ]
  },
  {
   "cell_type": "markdown",
   "metadata": {},
   "source": [
    "###  Problem 6\n",
    "**rotate_list ( list, k ):** - Rotate an array in place by k elements.\n",
    "\n",
    "`rotate_list( [1,2,3,4], 2 ) == [3,4,1,2]`"
   ]
  },
  {
   "cell_type": "code",
   "execution_count": 35,
   "metadata": {},
   "outputs": [
    {
     "name": "stdout",
     "output_type": "stream",
     "text": [
      "Enter an integer15\n",
      "Enter the rotator size3\n",
      "Input list : [0, 1, 2, 3, 4, 5, 6, 7, 8, 9, 10, 11, 12, 13, 14]\n",
      "Rotated list ** : [12, 13, 14, 0, 1, 2, 3, 4, 5, 6, 7, 8, 9, 10, 11]\n"
     ]
    }
   ],
   "source": [
    "import random\n",
    "def rotate_list( list, rotator ):\n",
    "    \n",
    "    # sanitize the rotation\n",
    "    k = rotator % len(list)\n",
    "    \n",
    "    # Check for the 0\n",
    "    if ((k==0) or (len(list) == 0)):\n",
    "        return list\n",
    "    \n",
    "    # read the first element\n",
    "    list_len = len(list)\n",
    "    item_to_move = list[0];\n",
    "    tmp = list[0]\n",
    "    index =0\n",
    "    \n",
    "    # tracking the indexes within the rotator range\n",
    "    # for certain combinations, the moved index is revisited. \n",
    "    # this listtracks the visited elements with in 0 to rotator range to avoid errors\n",
    "    trackerList = []\n",
    "    \n",
    "    # Start moving the elements one at a time\n",
    "    for x in range(len(list)):\n",
    "\n",
    "        # if index is less than rotator check if already moved \n",
    "        #if not move otherwise move to next till an unmoved items is found\n",
    "        # check if already in trackerList\n",
    "        while ((index in trackerList) and (index <k)):\n",
    "            index +=1\n",
    "            tmp = list[index]\n",
    "        \n",
    "        # Add index to trackerList\n",
    "        trackerList.append(index)\n",
    "\n",
    "        # Move the items\n",
    "        index_to_move = (index + k) % list_len    \n",
    "        item_to_move = list[index_to_move]\n",
    "        list[index_to_move] = tmp\n",
    "        index = index_to_move\n",
    "        tmp = item_to_move\n",
    "        \n",
    "        \n",
    "    print (\"Rotated list ** :\", list)\n",
    "\n",
    "    return\n",
    "\n",
    "# create a random very big list\n",
    "list_size = input ('Enter an integer')\n",
    "list = []\n",
    "\n",
    "for x in range(int(list_size)):\n",
    "    list.append(x)\n",
    "         \n",
    "rotr = input ('Enter the rotator size')\n",
    "print (\"Input list :\", list)\n",
    "rotate_list (list, int(rotr))\n"
   ]
  },
  {
   "cell_type": "code",
   "execution_count": 39,
   "metadata": {},
   "outputs": [
    {
     "name": "stdout",
     "output_type": "stream",
     "text": [
      "Rotated list ** : [3, 4, 1, 2]\n"
     ]
    },
    {
     "ename": "TypeError",
     "evalue": "can only join an iterable",
     "output_type": "error",
     "traceback": [
      "\u001b[1;31m---------------------------------------------------------------------------\u001b[0m",
      "\u001b[1;31mTypeError\u001b[0m                                 Traceback (most recent call last)",
      "\u001b[1;32m<ipython-input-39-587c5226b713>\u001b[0m in \u001b[0;36m<module>\u001b[1;34m\u001b[0m\n\u001b[0;32m      2\u001b[0m \u001b[0mRun\u001b[0m \u001b[0mthese\u001b[0m \u001b[0mtests\u001b[0m \u001b[0mafter\u001b[0m \u001b[0mdefining\u001b[0m \u001b[0mthe\u001b[0m \u001b[0mfunction\u001b[0m \u001b[0mabove\u001b[0m\u001b[1;33m\u001b[0m\u001b[1;33m\u001b[0m\u001b[0m\n\u001b[0;32m      3\u001b[0m '''\n\u001b[1;32m----> 4\u001b[1;33m \u001b[1;32massert\u001b[0m \u001b[1;33m(\u001b[0m \u001b[1;34m''\u001b[0m\u001b[1;33m.\u001b[0m\u001b[0mjoin\u001b[0m\u001b[1;33m(\u001b[0m\u001b[0mrotate_list\u001b[0m\u001b[1;33m(\u001b[0m \u001b[1;33m[\u001b[0m\u001b[1;36m1\u001b[0m\u001b[1;33m,\u001b[0m\u001b[1;36m2\u001b[0m\u001b[1;33m,\u001b[0m\u001b[1;36m3\u001b[0m\u001b[1;33m,\u001b[0m\u001b[1;36m4\u001b[0m\u001b[1;33m]\u001b[0m\u001b[1;33m,\u001b[0m \u001b[1;36m2\u001b[0m \u001b[1;33m)\u001b[0m\u001b[1;33m)\u001b[0m \u001b[1;33m==\u001b[0m \u001b[1;34m'3412'\u001b[0m \u001b[1;33m)\u001b[0m\u001b[1;33m\u001b[0m\u001b[1;33m\u001b[0m\u001b[0m\n\u001b[0m\u001b[0;32m      5\u001b[0m \u001b[1;32massert\u001b[0m \u001b[1;33m(\u001b[0m \u001b[1;34m''\u001b[0m\u001b[1;33m.\u001b[0m\u001b[0mjoin\u001b[0m\u001b[1;33m(\u001b[0m\u001b[0mrotate_list\u001b[0m\u001b[1;33m(\u001b[0m \u001b[1;33m[\u001b[0m\u001b[1;34m'1'\u001b[0m\u001b[1;33m,\u001b[0m\u001b[1;34m'2'\u001b[0m\u001b[1;33m,\u001b[0m\u001b[1;34m'3'\u001b[0m\u001b[1;33m,\u001b[0m\u001b[1;34m'4'\u001b[0m\u001b[1;33m,\u001b[0m\u001b[1;34m'5'\u001b[0m\u001b[1;33m,\u001b[0m\u001b[1;34m'6'\u001b[0m\u001b[1;33m]\u001b[0m\u001b[1;33m,\u001b[0m \u001b[1;36m3\u001b[0m \u001b[1;33m)\u001b[0m\u001b[1;33m)\u001b[0m \u001b[1;33m==\u001b[0m \u001b[1;34m'456123'\u001b[0m \u001b[1;33m)\u001b[0m\u001b[1;33m\u001b[0m\u001b[1;33m\u001b[0m\u001b[0m\n",
      "\u001b[1;31mTypeError\u001b[0m: can only join an iterable"
     ]
    }
   ],
   "source": [
    "'''\n",
    "Run these tests after defining the function above\n",
    "'''\n",
    "assert ( ''.join(rotate_list( [1,2,3,4], 2 )) == '3412' )\n",
    "assert ( ''.join(rotate_list( ['1','2','3','4','5','6'], 3 )) == '456123' )"
   ]
  },
  {
   "cell_type": "markdown",
   "metadata": {},
   "source": [
    "### 7. String Compression\n",
    "- Compress the string and return only if compression saves space\n",
    "- `str_compression( 'aaabbcbdd' ) returns 'a3b2c1b1d2'`\n",
    "- `str_compression( 'aaabbb' ) returns 'a3b3'`"
   ]
  },
  {
   "cell_type": "code",
   "execution_count": 92,
   "metadata": {},
   "outputs": [],
   "source": [
    "def compress_string( string ):\n",
    "    compressed_str = ''\n",
    "    # Your code here\n",
    "    last_char = ''\n",
    "    char_count=0\n",
    "    st =  ''\n",
    "    for x in  range(len(string)):\n",
    "        if ((last_char == string[x]) or (last_char == '')):\n",
    "            last_char=string[x]\n",
    "            char_count+=1\n",
    "        else:\n",
    "            st = st + last_char + str(char_count)\n",
    "            char_count =1;\n",
    "            last_char=string[x]\n",
    "     \n",
    "    st=st+ last_char + str(char_count)\n",
    "        \n",
    "    if (len(st) <= len(string)):\n",
    "        compressed_str = st\n",
    "    else:\n",
    "        compressed_str = string\n",
    "    print (compressed_str)    \n",
    "    return compressed_str"
   ]
  },
  {
   "cell_type": "code",
   "execution_count": 93,
   "metadata": {},
   "outputs": [
    {
     "name": "stdout",
     "output_type": "stream",
     "text": [
      "a2b1c5a1\n"
     ]
    }
   ],
   "source": [
    "# Tests\n",
    "assert( compress_string('aabccccca') == 'a2b1c5a1' )"
   ]
  },
  {
   "cell_type": "markdown",
   "metadata": {},
   "source": [
    "Remove consequetive charatcters from  a string\n",
    "\n",
    "Write a function that takes two parameters, a string and an integer.\n",
    "The function will return another string that is similar to the input\n",
    "string, but with certain characters removed. It's going to remove\n",
    "characters from consecutive runs of the same character, where the\n",
    "length of the run is greater than the input parameter.\n",
    "\n",
    "Ex: \"aaab\", 2 => \"aab\"\n",
    "Ex: \"aabb\", 1 => \"ab\"\n",
    "Ex: \"aabbaa\", 1 => \"aba\""
   ]
  },
  {
   "cell_type": "code",
   "execution_count": null,
   "metadata": {},
   "outputs": [
    {
     "name": "stdout",
     "output_type": "stream",
     "text": [
      " Enter string : aaaabbaaaccc 2\n",
      "Enter repeat threshold :2\n",
      "aabbaacc 2\n"
     ]
    }
   ],
   "source": [
    "def remove_consecutive_chars ( string, consec_threshold):\n",
    "\n",
    "    # Check for emtry string\n",
    "    if (string == None):\n",
    "        return None\n",
    "    # Check if the threshold is greater then string len.\n",
    "    if (len(string)<= consec_threshold):\n",
    "        return string\n",
    "\n",
    "    # Look till the end of input sting.\n",
    "    # Keep track of first character before entering the loop\n",
    "    prev = ''\n",
    "    repeat_count = 0\n",
    "    output = ''\n",
    "    for x in string:\n",
    "\n",
    "        # check the current char in string.\n",
    "        # if different than prev, point prev to current\n",
    "        # else increment repeat_count\n",
    "        if not(prev == x):\n",
    "            prev = x\n",
    "            output+=x\n",
    "            repeat_count = 1\n",
    "        else:\n",
    "            repeat_count +=1\n",
    "            #if it exceeded the threshold then skip the char to next\n",
    "            #else copy the char to the output\n",
    "            if (repeat_count <= consec_threshold):\n",
    "                output+=x\n",
    "    return output\n",
    "\n",
    "while 1:\n",
    "    input_str = input (\" Enter string : \")\n",
    "    repeat_thrs = int(input (\"Enter repeat threshold :\" ))\n",
    "    print (remove_consecutive_chars (input_str, repeat_thrs))"
   ]
  },
  {
   "cell_type": "markdown",
   "metadata": {},
   "source": [
    "## LinkedList Problems\n",
    "\n",
    "### Implementation of a LinkedList\n",
    "\n",
    "- The goal of this excercise is to understand how LinkedLists can be implemented in Python"
   ]
  },
  {
   "cell_type": "code",
   "execution_count": 66,
   "metadata": {},
   "outputs": [],
   "source": [
    "\n",
    "class Linked_List_Node:\n",
    "    \n",
    "    # Constructor for LinkedListNode\n",
    "    def __init__(self, value, next_node=None):\n",
    "        '''\n",
    "        Every Node in a LinkedList should have a value and a pointer to the next Node\n",
    "        '''\n",
    "        self.value = value\n",
    "        self.next = next_node\n",
    "        \n",
    "    # Think of this as the toString() function of Python\n",
    "    # When you call print on a Linked_List_Node it will print the value instead of printing the reference\n",
    "    def __repr__(self):\n",
    "        return str( self.value )\n"
   ]
  },
  {
   "cell_type": "markdown",
   "metadata": {},
   "source": [
    "The implementation above is really all you need to create a LinkedList. You can use this class in the following manner. Note that there is no new keyword in Python:"
   ]
  },
  {
   "cell_type": "code",
   "execution_count": 69,
   "metadata": {},
   "outputs": [],
   "source": [
    "root = Linked_List_Node( 11, Linked_List_Node( 22, Linked_List_Node(33) ) )"
   ]
  },
  {
   "cell_type": "markdown",
   "metadata": {},
   "source": [
    "In memory this looks like this:\n",
    "\n",
    "`11 -> 22 -> 23 -> None`"
   ]
  },
  {
   "cell_type": "code",
   "execution_count": 70,
   "metadata": {},
   "outputs": [
    {
     "name": "stdout",
     "output_type": "stream",
     "text": [
      "11\n",
      "22\n",
      "33\n",
      "None\n"
     ]
    }
   ],
   "source": [
    "print(root)\n",
    "print(root.next)\n",
    "print(root.next.next)\n",
    "print(root.next.next.next)"
   ]
  },
  {
   "cell_type": "markdown",
   "metadata": {},
   "source": [
    "Another way to create a list from the above class is to initiate and add node one at a time!!"
   ]
  },
  {
   "cell_type": "code",
   "execution_count": 83,
   "metadata": {},
   "outputs": [],
   "source": [
    "class Node:\n",
    "    def __init__ (self, val, next=None):\n",
    "        self.data = val\n",
    "        self.next_node = next\n",
    "        \n",
    "    def get_next (self):\n",
    "        return self.next_node\n",
    "    \n",
    "    def set_next (self, val):\n",
    "        self.next_node = val\n",
    "        \n",
    "        \n",
    "class L_List_Node:\n",
    "    \n",
    "    # Constructor for LinkedListNode\n",
    "    def __init__(self, value=None):\n",
    "        '''\n",
    "        Every Node in a LinkedList should have a value and a pointer to the next Node\n",
    "        '''\n",
    "        self.head = value\n",
    "        self.tail = value\n",
    "        \n",
    "    def add_node (self, val, next_n=None):\n",
    "        node = Node (val, next_n)\n",
    "        if (self.head == None):\n",
    "            self.head = node\n",
    "            self.tail = node\n",
    "        else: \n",
    "            self.tail.set_next(node)\n",
    "            self.tail=node\n",
    "        \n",
    "    def print_list (self):\n",
    "        itr = self.head\n",
    "        while (itr):\n",
    "            print (itr.data)\n",
    "            itr = itr.get_next ()\n",
    "    \n",
    "    # Think of this as the toString() function of Python\n",
    "    # When you call print on a Linked_List_Node it will print the value instead of printing the reference\n",
    "    def __repr__(self):\n",
    "        return str ( self.value )"
   ]
  },
  {
   "cell_type": "code",
   "execution_count": 84,
   "metadata": {},
   "outputs": [
    {
     "name": "stdout",
     "output_type": "stream",
     "text": [
      "1\n",
      "2\n",
      "3\n"
     ]
    }
   ],
   "source": [
    "\n",
    "myList = L_List_Node ()\n",
    "myList.add_node (1)\n",
    "myList.add_node (2)\n",
    "myList.add_node (3)\n",
    "myList.print_list()\n"
   ]
  },
  {
   "cell_type": "markdown",
   "metadata": {},
   "source": [
    "### 1. Linked_List class\n",
    "- Using the definition of the Linked_List_Node above, finish the Linked_List wrapper class that completes the following functions described below. This wrapper class will allow us to make Linked_Lists from regular lists and will also have a useful print_list method."
   ]
  },
  {
   "cell_type": "code",
   "execution_count": 1,
   "metadata": {},
   "outputs": [],
   "source": [
    "class Node:\n",
    "    def __init__ (self, val, nxt = None):\n",
    "        self.data = val\n",
    "        self.next = nxt\n",
    "        \n",
    "    def set_next (self, nxt):\n",
    "        self.next = nxt\n",
    "        \n",
    "    def get_next (self):\n",
    "        return self.next\n",
    "        \n",
    "class Linked_List:\n",
    "    # Initialize a LinkedList from a list\n",
    "    def __init__(self, value_list):\n",
    "        '''\n",
    "        Take a regular python list (value_list) and convert it to a Linked_List using the Linked_List_Node class you defined above\n",
    "        Be sure to call set_head with a pointer to the head node of the list\n",
    "        '''\n",
    "        self.head = None\n",
    "        last = None\n",
    "        for x in value_list:\n",
    "            nd = Node (x)\n",
    "            if (self.head == None):\n",
    "                self.head = nd\n",
    "            else:\n",
    "                last.next = nd\n",
    "                \n",
    "            last = nd\n",
    "                \n",
    "        # DONT FORGET TO CALL SET_HEAD WITH YOUR HEAD NODE\n",
    "        # YOUR CODE HERE\n",
    "            \n",
    "    # Helper function to print the Linked_List\n",
    "    def print_list(self):\n",
    "        '''\n",
    "        Define this function to print the Linked_List when invoked in the following format:\n",
    "        1 -> 2 -> 3 -> None\n",
    "        '''\n",
    "        # YOUR CODE HERE\n",
    "        itr = self.head\n",
    "        while (itr):\n",
    "            print (itr.data, \"->\", end=\" \", flush=True)\n",
    "            itr = itr.get_next() \n",
    "        print (\"None\")\n",
    "        \n",
    "    # Retrive head of the list\n",
    "    def get_head(self):\n",
    "        return self.head\n",
    "    \n",
    "\n",
    "    # Appoint a new head to the list\n",
    "    def set_head(self, new_head):\n",
    "        self.head = new_head"
   ]
  },
  {
   "cell_type": "code",
   "execution_count": 2,
   "metadata": {},
   "outputs": [
    {
     "name": "stdout",
     "output_type": "stream",
     "text": [
      "1 -> 2 -> 3 -> None\n"
     ]
    }
   ],
   "source": [
    "# Run these tests\n",
    "ll_1 = Linked_List( [1,2,3] )\n",
    "\n",
    "# Checking to see if the Linked_List was constructed properly\n",
    "assert( ll_1.get_head().data == 1 )\n",
    "assert( ll_1.get_head().next.data == 2 )\n",
    "assert( ll_1.get_head().next.next.data == 3 )\n",
    "assert( ll_1.get_head().next.next.next == None )\n",
    "\n",
    "# Manually Verify: \n",
    "ll_1.print_list()\n",
    "\n",
    "# Should print\n",
    "# 1 -> 2 -> 3 -> None"
   ]
  },
  {
   "cell_type": "markdown",
   "metadata": {},
   "source": [
    "### 2. Reverse Linked_List\n",
    "- Define a function that takes in a Linked_List and reverses it in place\n",
    "- Be sure to change the head pointer of the Linked_List to the last node in the original list using `linked_list.set_head(...)`\n",
    "- A Linked_List that looks like this in memory:\n",
    "\n",
    "`1 -> 2 -> 3 -> None` should look like this `3 -> 2 -> 1 -> None`\n"
   ]
  },
  {
   "cell_type": "code",
   "execution_count": 8,
   "metadata": {},
   "outputs": [],
   "source": [
    "def reverse_in_place( linked_list ):\n",
    "    \n",
    "    cur_node = linked_list.get_head()\n",
    "    \n",
    "    if (not(cur_node)):\n",
    "        return \n",
    "    \n",
    "    # find the new head\n",
    "    new_head = cur_node\n",
    "    \n",
    "    #next_2_newhead = new_head.get_next()\n",
    "    while (not(new_head.get_next() == None)):\n",
    "        new_head = new_head.get_next()\n",
    "    \n",
    "\n",
    "    while (not(cur_node == new_head)):\n",
    "        \n",
    "        # Track the  item next to current\n",
    "        next_to_cur = cur_node.get_next()\n",
    "        \n",
    "        # Insert after the new head\n",
    "        cur_node.set_next(new_head.get_next())\n",
    "        \n",
    "        # set the new head to point to the cur_node\n",
    "        new_head.set_next(cur_node)\n",
    "        \n",
    "        #work on the next \n",
    "        cur_node = next_to_cur\n",
    "        \n",
    "    linked_list.set_head(new_head)\n",
    "    \n",
    "    return "
   ]
  },
  {
   "cell_type": "code",
   "execution_count": 9,
   "metadata": {},
   "outputs": [
    {
     "name": "stdout",
     "output_type": "stream",
     "text": [
      "3 -> 2 -> 1 -> None\n"
     ]
    }
   ],
   "source": [
    "'''\n",
    "Run this piece of code after you define reverse_in_place\n",
    "'''\n",
    "\n",
    "# Run these tests\n",
    "ll_1 = Linked_List( [1,2,3] )\n",
    "reverse_in_place( ll_1 )\n",
    "\n",
    "# Checking to see if the Linked_List was constructed properly\n",
    "# It will be reversed\n",
    "\n",
    "# Manually Verify: \n",
    "ll_1.print_list()\n",
    "\n",
    "# Should print\n",
    "# 3 -> 2 -> 1 -> None"
   ]
  },
  {
   "cell_type": "markdown",
   "metadata": {},
   "source": [
    "### 3. Delete the kth element in a list\n",
    "- Define a function that deletes the kth element from the start in the Linked_List in place\n",
    "- A Linked_List that looks like this in memory. After delete_k(ll_1, 2 ):\n",
    "\n",
    "    `1 -> 2 -> 3 -> None` should look like this `1 -> 3 -> None`"
   ]
  },
  {
   "cell_type": "code",
   "execution_count": 48,
   "metadata": {},
   "outputs": [],
   "source": [
    "def delete_k( linked_list, k ):\n",
    "    \n",
    "    itr_index = 1\n",
    "    itr = linked_list.get_head()\n",
    "    while (itr):\n",
    "        \n",
    "        \n",
    "        # if first element handle it appropruately\n",
    "        if ((k==1) and not(itr.get_next()== None)):\n",
    "            link_list.set_head(itr.get_next())\n",
    "            return\n",
    "        else:\n",
    "            # ok check if the next to itr is K; if yes then manipulate\n",
    "            if (k==itr_index+1):\n",
    "                item_to_delete = itr.get_next()\n",
    "                itr.set_next(item_to_delete.get_next())\n",
    "                item_to_delete.set_next(None)\n",
    "                return\n",
    "            else:\n",
    "                itr_index +=1\n",
    "                itr = itr.get_next()\n"
   ]
  },
  {
   "cell_type": "code",
   "execution_count": 4,
   "metadata": {},
   "outputs": [
    {
     "ename": "NameError",
     "evalue": "name 'Linked_List' is not defined",
     "output_type": "error",
     "traceback": [
      "\u001b[1;31m---------------------------------------------------------------------------\u001b[0m",
      "\u001b[1;31mNameError\u001b[0m                                 Traceback (most recent call last)",
      "\u001b[1;32m<ipython-input-4-4795ccee9a8f>\u001b[0m in \u001b[0;36m<module>\u001b[1;34m\u001b[0m\n\u001b[0;32m      4\u001b[0m \u001b[1;33m\u001b[0m\u001b[0m\n\u001b[0;32m      5\u001b[0m \u001b[1;31m# Run these tests\u001b[0m\u001b[1;33m\u001b[0m\u001b[1;33m\u001b[0m\u001b[1;33m\u001b[0m\u001b[0m\n\u001b[1;32m----> 6\u001b[1;33m \u001b[0mll_1\u001b[0m \u001b[1;33m=\u001b[0m \u001b[0mLinked_List\u001b[0m\u001b[1;33m(\u001b[0m \u001b[1;33m[\u001b[0m\u001b[1;36m1\u001b[0m\u001b[1;33m,\u001b[0m\u001b[1;36m2\u001b[0m\u001b[1;33m,\u001b[0m\u001b[1;36m3\u001b[0m\u001b[1;33m]\u001b[0m \u001b[1;33m)\u001b[0m\u001b[1;33m\u001b[0m\u001b[1;33m\u001b[0m\u001b[0m\n\u001b[0m\u001b[0;32m      7\u001b[0m \u001b[0mdelete_k\u001b[0m\u001b[1;33m(\u001b[0m \u001b[0mll_1\u001b[0m\u001b[1;33m,\u001b[0m \u001b[1;36m2\u001b[0m \u001b[1;33m)\u001b[0m \u001b[1;31m#\u001b[0m\u001b[1;33m\u001b[0m\u001b[1;33m\u001b[0m\u001b[0m\n\u001b[0;32m      8\u001b[0m \u001b[1;33m\u001b[0m\u001b[0m\n",
      "\u001b[1;31mNameError\u001b[0m: name 'Linked_List' is not defined"
     ]
    }
   ],
   "source": [
    "'''\n",
    "Run this piece of code after you define delete_k\n",
    "'''\n",
    "\n",
    "# Run these tests\n",
    "ll_1 = Linked_List( [1,2,3] )\n",
    "delete_k( ll_1, 2 ) #\n",
    "\n",
    "# Manually Verify: \n",
    "ll_1.print_list()\n",
    "\n",
    "# Should print\n",
    "# 1 -> 3 -> None"
   ]
  },
  {
   "cell_type": "markdown",
   "metadata": {},
   "source": [
    "### 4. Delete the kth from last element in a Linked_List\n",
    "- Define a function that deletes the kth element from the end in the Linked_List in place\n",
    "- A Linked_List that looks like this in memory. After `delete_k_from_last(ll_1, 2 )`:\n",
    "\n",
    "    `1 -> 2 -> 3 -> 4 -> 5 -> None` should look like this `1 -> 2 -> 3 -> 5 -> None` Element 4 is deleted since it is the second from the last element in the list"
   ]
  },
  {
   "cell_type": "code",
   "execution_count": 121,
   "metadata": {},
   "outputs": [],
   "source": [
    "def delete_k_from_last( linked_list, k ):\n",
    "    # YOUR CODE HERE/ BE SURE TO CALL SET_HEAD TO THE APPROPRIATE NODE IF YOU DELETE THE START NODE\n",
    "    # DO THIS IN PLACE\n",
    "    \n",
    "    # Assuming sanitized inout!\n",
    "    \n",
    "    itr = linked_list.get_head()\n",
    "    lead_itr=itr\n",
    "    # offset to the kth index; Check\n",
    "    offset=0;\n",
    "    while (offset < k-1) and not(lead_itr.get_next()== None):\n",
    "        lead_itr = lead_itr.get_next()\n",
    "        offset+=1\n",
    "        \n",
    "    #Remove the first element and reset the head\n",
    "    if (lead_itr.get_next()==None):\n",
    "        linked_list.set_head(itr.get_next())\n",
    "\n",
    "    print (\"Item to delete\", lead_itr.data)\n",
    "    \n",
    "    while lead_itr.get_next().get_next():\n",
    "        itr=itr.get_next()\n",
    "        lead_itr= lead_itr.get_next()\n",
    "        \n",
    "    # reached the end. Now set the pointers\n",
    "    item_to_delete = itr.get_next()\n",
    "    itr.set_next(item_to_delete.get_next())\n",
    "\n",
    "    \n",
    "        \n",
    "        \n",
    "    "
   ]
  },
  {
   "cell_type": "code",
   "execution_count": 122,
   "metadata": {},
   "outputs": [
    {
     "name": "stdout",
     "output_type": "stream",
     "text": [
      "Item to delete 2\n",
      "Item to delete 4\n",
      "1 -> 2 -> 3 -> 5 -> None\n"
     ]
    }
   ],
   "source": [
    "'''\n",
    "Run this piece of code after you define delete_k_from_last\n",
    "'''\n",
    "\n",
    "# Run these tests\n",
    "ll_1 = Linked_List( [1,2,3,4,5] )\n",
    "delete_k_from_last( ll_1, 2 ) #\n",
    "\n",
    "# Manually Verify: \n",
    "ll_1.print_list()\n",
    "\n",
    "# Should print\n",
    "# 1 -> 2 -> 3 -> 5 -> None"
   ]
  },
  {
   "cell_type": "markdown",
   "metadata": {},
   "source": [
    "### 5. Return the midpoint of a LinkedList\n",
    "- Define a function that returns a pointer to the middle of the Linked_List\n",
    "- If the list is of even length, return pointer to n/2 element\n",
    "- `1 -> 2 -> 3 -> 4 -> 5 -> None` should return a pointer to the Node with the value of 3"
   ]
  },
  {
   "cell_type": "code",
   "execution_count": 10,
   "metadata": {},
   "outputs": [],
   "source": [
    "def middle( linked_list):\n",
    "\n",
    "    # YOUR CODE HERE\n",
    "    \n",
    "    itr = linked_list.get_head()\n",
    "    \n",
    "    ll_len = 0\n",
    "    while (itr):\n",
    "        ll_len +=1\n",
    "        itr = itr.get_next()\n",
    "        \n",
    "    midpoint = int(ll_len/2)+ (ll_len % 2)\n",
    "    itr = linked_list.get_head()\n",
    "    for x in range (midpoint-1):\n",
    "        itr = itr.get_next()\n",
    "        \n",
    "    # returning the middle node\n",
    "    \n",
    "    print (\"mid point index is \", midpoint, \"mid point node \", itr.data)\n",
    "    return itr\n",
    "  "
   ]
  },
  {
   "cell_type": "code",
   "execution_count": 11,
   "metadata": {},
   "outputs": [
    {
     "name": "stdout",
     "output_type": "stream",
     "text": [
      "mid point index is  3 mid point node  3\n"
     ]
    }
   ],
   "source": [
    "'''\n",
    "Run this piece of code after you define middle\n",
    "'''\n",
    "\n",
    "# Run these tests\n",
    "ll_1 = Linked_List( [1,2,3,4,5] )\n",
    "middle_node = middle( ll_1) #\n",
    "\n",
    "assert( middle_node.data == 3 )"
   ]
  },
  {
   "cell_type": "markdown",
   "metadata": {},
   "source": [
    "Take two linked list representing the integer as digits per node in the reverse order. Return another list which is the sum of the two lists.  \n",
    "\n",
    "Example: \n",
    "\n",
    "321 is represented as l1 : 1->2->3\n",
    "54321 is represented as l2:1->2->3->4->5\n",
    "\n",
    "The returned list is 2->4->6->4->5. The sum is 54642\n"
   ]
  },
  {
   "cell_type": "code",
   "execution_count": 5,
   "metadata": {},
   "outputs": [
    {
     "name": "stdout",
     "output_type": "stream",
     "text": [
      "2 -> 4 -> 6 -> 4 -> 5 -> None\n"
     ]
    }
   ],
   "source": [
    "def add_and_return_sum_carry (int1, int2, carry):\n",
    "    val = int1 + int2+carry\n",
    "        \n",
    "    # check if the value is single digit or two digit. If two digit start keepign the carry digit\n",
    "    if (val > 9):\n",
    "        # split it into two\n",
    "        val = val/10\n",
    "        carry = (val%10 )\n",
    "    else:  \n",
    "        carry =  0    \n",
    "    return val, carry\n",
    "\n",
    "\n",
    "def add_two_list (list_1, list_2):\n",
    "    \n",
    "    list_1_itr = list_1.get_head()\n",
    "    list_2_itr =  list_2.get_head()\n",
    "               \n",
    "    # Check if any of the list is empty\n",
    "    if not (list_1_itr and list_2_itr):\n",
    "        \n",
    "        # find the empty list and return the other list as return item\n",
    "        if (list_1_itr):\n",
    "            return list_1\n",
    "        else:\n",
    "            return list_2\n",
    "    \n",
    "    # create the list and the iterator of the new list\n",
    "    added_list = None\n",
    "    added_list_itr =  None\n",
    "    \n",
    "    carry_over =0\n",
    "    # Add the lists\n",
    "    while list_1_itr and list_2_itr:\n",
    "\n",
    "        (val, carry_over) = add_and_return_sum_carry (list_1_itr.data, list_2_itr.data, carry_over)\n",
    "        \n",
    "        # handle the first element differently\n",
    "        if (added_list == None):\n",
    "            added_list = Linked_List([val])\n",
    "            added_list_itr = added_list.get_head()\n",
    "        else:  \n",
    "            node = Node (val)            \n",
    "            added_list_itr.set_next(node)\n",
    "            added_list_itr = node\n",
    "        \n",
    "        # move to the next element in each of the list\n",
    "        list_1_itr = list_1_itr.get_next()\n",
    "        list_2_itr = list_2_itr.get_next()\n",
    "        \n",
    "        #printing the resulting list in while loop\n",
    "        #added_list.print_list()\n",
    "    \n",
    "    # Out of the loop.  Check which list is still remaining? Also check \n",
    "    # if there is carry over and copy the rest of the remmaining list to the result\n",
    "    if (list_1_itr):\n",
    "        list_to_itr = list_1_itr\n",
    "    else: \n",
    "        list_to_itr = list_2_itr\n",
    "        \n",
    "    # Ok copy the remaining list and the carry_over\n",
    "    while (list_to_itr):\n",
    "        \n",
    "        (val, carry_over) = add_and_return_sum_carry (0, list_to_itr.data, carry_over)\n",
    "        node = Node (val)            \n",
    "        added_list_itr.set_next(node)\n",
    "        added_list_itr = node\n",
    "        list_to_itr = list_to_itr.get_next()\n",
    "\n",
    "    # if there is carry for above add as the last element to the list\n",
    "    if (carry_over >0):\n",
    "        node = Node (carry_over)            \n",
    "        added_list_itr.set_next(node)\n",
    "        \n",
    "    return added_list\n",
    "\n",
    "l1 =  Linked_List([1,2,3])\n",
    "l2 = Linked_List ([1,2,3,4,5])\n",
    "l3 =  add_two_list (l1, l2)\n",
    "l3.print_list()\n",
    "        "
   ]
  },
  {
   "cell_type": "markdown",
   "metadata": {},
   "source": [
    "# Define a function that takes a list and sorts the data using quick sort method\n",
    "\n"
   ]
  },
  {
   "cell_type": "code",
   "execution_count": 130,
   "metadata": {},
   "outputs": [
    {
     "name": "stdout",
     "output_type": "stream",
     "text": [
      "Enter the list to create :10000\n",
      " List to sort  [54528, 5940, 42118, 37072, 4417, 36603, 43279, 35104, 60267, 1451, 79754, 29405, 66276, 66576, 49702, 64777, 99842, 92391, 5485, 46620, 77356, 23312, 52902, 29024, 32338, 7745, 76106, 95347, 81071, 60517, 52658, 68018, 71484, 73909, 60287, 56154, 31534, 31441, 95343, 28093, 85129, 89799, 4923, 33954, 27984, 89555, 47612, 205, 51560, 84982, 73544, 35035, 31088, 68072, 64328, 17445, 99264, 2484, 99651, 88426, 22925, 28688, 63887, 95094, 44068, 84446, 75271, 4464, 20106, 72462, 31293, 60328, 65707, 11771, 49794, 9484, 49527, 10180, 22361, 97230, 91532, 7740, 88789, 90480, 29729, 28201, 28577, 39676, 95676, 24519, 62645, 27075, 61953, 23350, 70726, 4716, 73223, 88997, 10236, 2598, 41751, 39061, 17264, 72452, 11702, 73139, 90304, 93503, 62317, 54497, 93343, 53151, 67630, 75147, 91209, 48997, 24367, 62125, 21349, 49767, 16559, 2413, 21622, 52413, 5271, 28323, 8962, 45460, 98158, 72478, 59440, 69391, 36901, 51606, 50268, 59470, 80155, 40290, 97943, 6205, 95030, 66669, 45244, 86041, 95872, 27418, 38399, 53853, 49092, 54109, 72592, 51887, 31099, 44187, 72449, 87378, 34871, 89648, 1763, 46554, 70340, 96162, 15272, 60927, 29701, 32105, 53925, 90091, 11180, 9819, 72306, 95726, 65514, 72767, 50101, 39891, 57054, 41449, 65668, 35999, 25281, 86283, 93374, 54438, 58292, 25379, 56276, 28177, 70763, 96134, 19208, 76986, 89072, 25749, 85929, 22268, 86635, 25450, 33722, 89806, 59104, 70534, 87287, 90310, 94585, 49012, 85771, 93143, 52783, 4371, 33803, 56071, 88178, 21589, 10009, 19027, 96810, 28645, 47342, 95302, 33222, 314, 62958, 42759, 76396, 26555, 58488, 59364, 95809, 34836, 49116, 56654, 70860, 38989, 62163, 6235, 54579, 45752, 34266, 24937, 16721, 84965, 93229, 35540, 21360, 70651, 60054, 15306, 7669, 22432, 28992, 61775, 95556, 28062, 52273, 25794, 38830, 17528, 17841, 50038, 21647, 71730, 27292, 74732, 59070, 18719, 4842, 66506, 54601, 9907, 67780, 74937, 38205, 97268, 89072, 44743, 49434, 70687, 73408, 92227, 47891, 9553, 30939, 38806, 90805, 17624, 94197, 63245, 44540, 84883, 23505, 43849, 34621, 15006, 63872, 87997, 56311, 14531, 96923, 76721, 21614, 18970, 21853, 48709, 11429, 39978, 93955, 22082, 70895, 63960, 48237, 79882, 25829, 96756, 34454, 2915, 95764, 3759, 43538, 14151, 40732, 78905, 60831, 56093, 21805, 83881, 83348, 13596, 70649, 76189, 89616, 88621, 28815, 27798, 361, 72685, 91827, 24924, 79178, 72358, 34078, 55780, 19577, 45333, 49235, 67302, 76863, 83371, 81225, 59301, 43867, 6559, 78869, 82573, 46051, 20011, 54413, 65649, 35904, 81897, 1752, 68359, 82082, 8812, 67878, 19543, 35266, 8194, 45730, 18931, 12580, 62857, 53867, 74436, 72843, 88690, 27072, 26013, 11257, 25267, 46224, 19032, 18357, 86422, 80462, 13869, 72637, 36135, 40319, 60009, 16725, 89442, 20922, 80553, 42487, 96906, 99019, 58953, 23471, 39840, 29440, 1230, 98966, 51478, 92825, 70032, 571, 66416, 29856, 27707, 14479, 78891, 87216, 13674, 45737, 31658, 35315, 2244, 28081, 23046, 30038, 63792, 48156, 25482, 22988, 75067, 55018, 16682, 73393, 24059, 23138, 39820, 64297, 49969, 37740, 24559, 55168, 81836, 52996, 28367, 40049, 25881, 9015, 23895, 37035, 87760, 72921, 75703, 90764, 53644, 56422, 22237, 11495, 25140, 18054, 93022, 23298, 82228, 55531, 36392, 1311, 54466, 73759, 98134, 19972, 19876, 31463, 59439, 69967, 73592, 26871, 84210, 24240, 21868, 26466, 25793, 5044, 72237, 58206, 69136, 11364, 69643, 54651, 84322, 62586, 2429, 58282, 6488, 21881, 60018, 75563, 58420, 93059, 31395, 16847, 46480, 5809, 94902, 33794, 22264, 89531, 10886, 59056, 78567, 8533, 68770, 37659, 48019, 85257, 35221, 55413, 67070, 78890, 72724, 45198, 28838, 3924, 43050, 73217, 18150, 29737, 10236, 4025, 30853, 66080, 11432, 70638, 28175, 30076, 77262, 92330, 82111, 45868, 97330, 6040, 64041, 5891, 62478, 52444, 93571, 35710, 26052, 91349, 82324, 83284, 32471, 17753, 25644, 81806, 79555, 18275, 72027, 17482, 75818, 98129, 20957, 2856, 87027, 68622, 96017, 44847, 14825, 44493, 41763, 59924, 42192, 13358, 37609, 32085, 57135, 65109, 15826, 12690, 1790, 66473, 68779, 53266, 68779, 90800, 51626, 18010, 75690, 16275, 87743, 54410, 19726, 86596, 27646, 95479, 82995, 19009, 57913, 66709, 8035, 15721, 82211, 95761, 86208, 90091, 77467, 96826, 24111, 77089, 46292, 64584, 2450, 33274, 74005, 2834, 3571, 86414, 57659, 78693, 62154, 55015, 71365, 97476, 29630, 28545, 87869, 84032, 29429, 38742, 99738, 63316, 2390, 68713, 24532, 39893, 9049, 88421, 42054, 30284, 34560, 15809, 54911, 12021, 71444, 88100, 49998, 85249, 27172, 21589, 63391, 51404, 26868, 42847, 68684, 11828, 16744, 11302, 49514, 47477, 87834, 6768, 46860, 41433, 67392, 84613, 28237, 46971, 55828, 52598, 73807, 7516, 21508, 19812, 58691, 10213, 71001, 98853, 97698, 43242, 27605, 35960, 13389, 42454, 91326, 33780, 35257, 13711, 45054, 11471, 32757, 38870, 25082, 31457, 34112, 4370, 8379, 69296, 24395, 10293, 65572, 76409, 67548, 85938, 8373, 57372, 69987, 45889, 32729, 42161, 65213, 89806, 4023, 63504, 40851, 83354, 20041, 1693, 4723, 43722, 54422, 37203, 97722, 95176, 15476, 90022, 24964, 54104, 75487, 11127, 12715, 76201, 98937, 4284, 42071, 89382, 86070, 26423, 51048, 96105, 32507, 63660, 24751, 33039, 97060, 60637, 34931, 15364, 19893, 45610, 59344, 58144, 10131, 55425, 92565, 82165, 22848, 69184, 49981, 38413, 72524, 16848, 40355, 48887, 96290, 10046, 72638, 81500, 33716, 54208, 90198, 67617, 19588, 71274, 40090, 85258, 54223, 25546, 16705, 16509, 65530, 58051, 98114, 34535, 74987, 38217, 43675, 76290, 76422, 85693, 46174, 31312, 30690, 23546, 86246, 70926, 96264, 55767, 7946, 82886, 66607, 88872, 74986, 81982, 71621, 66020, 20900, 66158, 26002, 22694, 2927, 26872, 22428, 67419, 34607, 23392, 15848, 58167, 1893, 15100, 43263, 78822, 31505, 78800, 67687, 98708, 50690, 73312, 23650, 11351, 39545, 50648, 43545, 59276, 36957, 71819, 93219, 9205, 12413, 85128, 98479, 21318, 64285, 7491, 60549, 21438, 50549, 65666, 74371, 46578, 72061, 90766, 72860, 61470, 95716, 77752, 2756, 35559, 80860, 46674, 43493, 24570, 44128, 64197, 21668, 28978, 43204, 26948, 18049, 74295, 3429, 57629, 6607, 53406, 48315, 14944, 24360, 71627, 10624, 74991, 46497, 19313, 98576, 25136, 40774, 10136, 49647, 73463, 11921, 95965, 3643, 94998, 71872, 92158, 13056, 58354, 54097, 48867, 18756, 15715, 37897, 61073, 44884, 45819, 64618, 98335, 30715, 29201, 5972, 57027, 89540, 2849, 4392, 55246, 18066, 9022, 61643, 48997, 55114, 45115, 28238, 97681, 71829, 20156, 2958, 44080, 14733, 57574, 48703, 18608, 90358, 59859, 35746, 94028, 97856, 64737, 60238, 55064, 34752, 42833, 45685, 17260, 51782, 21777, 91685, 62753, 32719, 75041, 77201, 5352, 59514, 79356, 60606, 53032, 82746, 39184, 45316, 89151, 68584, 1666, 5231, 85497, 55766, 13716, 61985, 94303, 60187, 52968, 27160, 28750, 87402, 68793, 64684, 8101, 8020, 8327, 91518, 2172, 21979, 35434, 21837, 80466, 24192, 33388, 74687, 26142, 33967, 40853, 36849, 6292, 44086, 69448, 84681, 79049, 24840, 79135, 18517, 67219, 70602, 56315, 74701, 59780, 96727, 36083, 85302, 49800, 40925, 30424, 31053, 25303, 23544, 71239, 17717, 69801, 31415, 26386, 79198, 69778, 96647, 12621, 36652, 99871, 97384, 93927, 69342, 76040, 29029, 71299, 57471, 77959, 21162, 61727, 94854, 78999, 6426, 83493, 60022, 29112, 10769, 8902, 4096, 80344, 87057, 46324, 72424, 92688, 41265, 47439, 27730, 11759, 98517, 37406, 27584, 85593, 57037, 808, 32467, 32374, 91418, 10936, 71147, 31317, 83973, 66424, 30570, 15513, 90892, 94092, 88828, 89854, 4267, 74543, 7598, 81679, 9849, 21715, 87917, 22320, 73056, 32809, 32594, 62505, 67766, 11662, 30737, 29146, 32508, 25453, 96434, 4152, 55453, 35255, 1790, 32783, 10785, 81671, 68290, 339, 67876, 61111, 64761, 78869, 53997, 87755, 69099, 91409, 53514, 8954, 77108, 98426, 90469, 43089, 46242, 67140, 58747, 23273, 91890, 50196, 83956, 21960, 52746, 79399, 67761, 63222, 13036, 56381, 62906, 40037, 16048, 76135, 20666, 24618, 40042, 16552, 9017, 76593, 29992, 91392, 57113, 60381, 65888, 81664, 50406, 45542, 42197, 73090, 21885, 82854, 65447, 48221, 21467, 67844, 35942, 710, 97976, 28652, 94583, 44116, 1773, 2428, 18083, 74925, 49842, 39175, 70163, 71946, 80586, 50768, 70957, 3248, 1143, 25050, 46446, 40415, 30738, 91924, 90387, 68387, 58306, 46284, 14238, 35806, 25208, 15740, 59097, 99933, 97706, 28037, 56443, 28076, 2519, 59106, 54366, 30024, 64674, 66326, 52641, 660, 784, 37564, 12144, 98108, 38544, 59923, 72898, 7590, 11769, 10134, 66557, 17114, 50777, 63205, 57579, 80490, 17452, 15401, 54690, 25138, 5549, 25397, 62896, 26591, 42924, 69005, 8672, 19943, 80950, 60917, 39352, 46110, 81907, 93712, 86607, 28840, 37290, 86565, 1613, 15611, 93930, 60274, 93188, 63056, 70968, 14460, 48963, 87036, 18706, 19267, 19757, 20563, 49511, 37381, 26015, 17306, 65411, 13860, 32213, 26265, 78408, 3823, 63758, 88147, 60095, 75436, 52817, 58239, 36220, 80808, 63101, 80311, 12882, 86046, 38027, 83055, 35958, 59284, 82799, 91827, 38386, 73801, 39050, 7858, 66642, 21231, 45164, 55763, 94617, 22995, 45961, 59182, 80851, 44593, 12260, 66288, 86850, 82880, 77859, 67347, 44393, 37361, 9015, 50940, 23778, 79215, 95694, 90994, 59980, 14054, 13495, 59990, 65569, 70732, 42020, 44710, 43405, 17436, 66595, 15753, 77803, 5646, 88299, 47148, 12245, 79640, 54942, 13758, 48584, 32422, 34975, 69602, 32402, 97393, 74027, 79854, 38685, 71451, 10036, 44726, 76931, 60217, 2548, 89190, 54768, 5430, 97413, 6851, 56340, 66086, 58790, 19871, 27896, 75291, 91216, 58207, 81239, 42975, 75503, 69565, 67024, 25159, 14823, 95359, 90435, 62772, 62557, 77415, 71751, 59070, 19133, 87036, 86586, 22113, 33263, 20265, 22514, 23537, 54001, 24019, 29062, 13900, 6438, 74613, 53493, 13612, 94044, 12339, 29976, 63592, 31903, 66487, 95749, 93524, 98272, 54858, 9067, 16901, 7352, 90089, 98008, 88571, 36282, 8568, 31612, 13510, 71352, 23340, 26902, 71006, 14852, 67011, 79575, 30133, 62399, 81404, 61369, 42317, 8815, 78327, 11309, 89739, 37148, 7251, 39383, 28769, 6947, 16695, 23574, 21010, 98799, 58554, 59386, 30517, 25894, 61319, 2251, 4159, 18952, 15902, 26959, 12142, 40016, 54451, 67244, 31198, 57681, 59273, 56484, 92110, 98233, 70775, 59242, 413, 89754, 95927, 69164, 38327, 185, 15866, 54779, 80545, 19710, 85928, 4366, 72869, 8757, 62515, 8321, 44884, 70455, 54685, 18305, 19258, 49156, 74778, 83004, 30010, 17717, 904, 61918, 546, 17882, 25928, 95565, 38895, 30280, 97524, 57468, 20793, 31436, 16626, 37874, 7092, 18788, 58029, 9052, 50343, 40100, 44123, 28591, 22493, 15881, 5896, 97675, 96554, 79886, 78937, 15791, 91859, 67976, 75878, 51116, 11025, 95107, 98539, 20789, 57229, 26288, 51868, 42701, 30660, 60299, 76032, 32159, 86336, 1569, 92008, 32356, 18854, 55652, 45769, 54596, 43624, 68233, 89458, 45155, 5541, 826, 63811, 29969, 86656, 98719, 66654, 54541, 52224, 89892, 11075, 87338, 52704, 9121, 68270, 20969, 55108, 76298, 52276, 99772, 91810, 7890, 12214, 15877, 53401, 99961, 14672, 61447, 86617, 32555, 5679, 37894, 56301, 90837, 47266, 52904, 44755, 58275, 71528, 37888, 27210, 46844, 19056, 3176, 19842, 40971, 26364, 55929, 17336, 68172, 53045, 60441, 95657, 27874, 64864, 53195, 8195, 69939, 2420, 54204, 4091, 28308, 20608, 65101, 68418, 59802, 50496, 18619, 90194, 40007, 87892, 45215, 73101, 27271, 82582, 37236, 73729, 93337, 55252, 6296, 48775, 61324, 37506, 48302, 70972, 8763, 82345, 88977, 80660, 44002, 61246, 19883, 87511, 27734, 2057, 37293, 65964, 2541, 92473, 74630, 50878, 32613, 83909, 63093, 22048, 52157, 11148, 7799, 30800, 57622, 92677, 91610, 81729, 53507, 33999, 27619, 14660, 48477, 67613, 68132, 302, 78380, 80633, 74483, 81412, 53650, 93849, 17104, 58025, 43576, 81085, 83312, 2595, 26745, 64209, 30002, 14836, 57804, 1213, 3015, 27293, 4123, 62858, 46710, 97076, 94331, 55038, 86334, 29013, 92054, 67971, 99450, 33522, 303, 63096, 74526, 5864, 65916, 58145, 6639, 1421, 26763, 63098, 48808, 63358, 50034, 35734, 49619, 99995, 26433, 39959, 89135, 91433, 47474, 4908, 83853, 73147, 62080, 51170, 84714, 25758, 23351, 37385, 97190, 28752, 30797, 98256, 69459, 97972, 26060, 74261, 36956, 28139, 69019, 65597, 26107, 42456, 59116, 29807, 7296, 69790, 22439, 3050, 31637, 46773, 53864, 60370, 5032, 35404, 66375, 16887, 78261, 86085, 76279, 17113, 3606, 84483, 18643, 95055, 51946, 26586, 54441, 89492, 20968, 30187, 48162, 29957, 85193, 8096, 51110, 66517, 70714, 88817, 92265, 71618, 56023, 78517, 45475, 74728, 72917, 811, 38455, 93237, 83077, 35166, 27442, 78320, 41903, 92902, 17565, 31115, 3534, 99757, 67792, 94981, 76845, 33723, 48791, 18480, 42297, 87534, 55488, 46639, 90885, 83253, 96343, 47944, 60904, 79400, 32976, 34476, 56279, 80188, 16276, 31395, 54162, 86484, 87479, 67348, 61788, 87041, 75346, 48076, 41580, 42305, 30510, 73294, 1129, 50977, 88363, 70578, 43720, 27064, 47980, 80778, 73247, 384, 73581, 94384, 69584, 45951, 85185, 23911, 35217, 57821, 86540, 21792, 95550, 51108, 54499, 48438, 45098, 36050, 57238, 77731, 66287, 77889, 83810, 42563, 49773, 71593, 31870, 58249, 46018, 90701, 38582, 26541, 20243, 40945, 79079, 74571, 5259, 53621, 2132, 22884, 14676, 92055, 31051, 5413, 51751, 16993, 89034, 34044, 12067, 64538, 32536, 73170, 37174, 71013, 78631, 4235, 25557, 48277, 42910, 31304, 14898, 66685, 68190, 55688, 21810, 25569, 40151, 9325, 33052, 14857, 49675, 55023, 46745, 68996, 84739, 37482, 82937, 5865, 80619, 56201, 61302, 51309, 22274, 16471, 85472, 18125, 15213, 42429, 59857, 31722, 25834, 46159, 59583, 74880, 75616, 36719, 45788, 91872, 79447, 70905, 80429, 72062, 66629, 47944, 74081, 88507, 27574, 42225, 54866, 31488, 26804, 50467, 61848, 16928, 55895, 67793, 70819, 62469, 65341, 26502, 89332, 45801, 96394, 35045, 9760, 10551, 82271, 28296, 83142, 8011, 28412, 30529, 72763, 28170, 38741, 44855, 1238, 62628, 92262, 24652, 77494, 50609, 24635, 47189, 8465, 69018, 90514, 93147, 51153, 7010, 66564, 89816, 40011, 32979, 76933, 32786, 34496, 67352, 53158, 50651, 51976, 32574, 62136, 34363, 83475, 99100, 39835, 18580, 92258, 25138, 35184, 47431, 65336, 51948, 67623, 95703, 11251, 47238, 33880, 43965, 21670, 40429, 67079, 99695, 59243, 10502, 99115, 72091, 12137, 87211, 34706, 95640, 20347, 89911, 71596, 17900, 52131, 29802, 68411, 88164, 23583, 67302, 51112, 84497, 77555, 76861, 41523, 32393, 6494, 13670, 44419, 33619, 42052, 95102, 66195, 64512, 94392, 97449, 41116, 9855, 71487, 81428, 74923, 2106, 46378, 16534, 34150, 84841, 89945, 95105, 63033, 5585, 37245, 83753, 51132, 93433, 36542, 76443, 48216, 51780, 63964, 48325, 14788, 37477, 93477, 94108, 12507, 61535, 31249, 90669, 96801, 13191, 87170, 80398, 2320, 55698, 60178, 109, 5138, 90929, 63958, 46837, 20274, 8384, 63247, 56156, 4834, 13419, 26502, 7054, 34276, 76432, 55811, 20100, 16108, 66160, 58222, 49345, 61255, 23065, 9372, 55062, 39033, 95646, 50923, 48735, 64271, 71314, 76824, 21631, 87592, 83389, 42436, 14634, 20224, 18294, 74022, 3569, 3193, 60404, 11066, 33822, 51436, 48101, 66184, 99224, 38077, 85285, 87662, 43886, 80610, 18834, 81059, 97584, 47835, 21693, 19365, 78098, 37978, 83066, 63886, 34708, 20587, 66808, 1185, 95233, 73951, 37876, 9926, 21880, 45495, 80275, 75290, 83481, 92216, 84495, 2487, 11990, 51961, 42252, 58512, 82287, 71330, 42607, 92389, 26071, 24178, 74576, 33372, 93550, 99824, 56799, 13754, 79181, 87128, 71122, 85623, 8733, 90029, 78187, 5050, 79312, 17621, 10121, 86758, 33233, 89883, 94729, 44591, 17320, 44848, 31662, 47891, 18857, 72090, 57982, 31351, 73261, 83525, 43175, 29033, 31966, 91209, 85631, 48687, 23858, 92016, 50545, 76192, 82694, 97692, 53003, 67686, 91191, 19287, 23045, 93142, 92907, 2628, 76245, 85425, 35297, 72872, 38648, 88176, 90245, 78517, 74460, 3476, 37437, 50994, 35471, 80500, 79439, 39079, 85324, 15251, 32211, 87797, 74231, 10036, 22717, 90657, 6957, 22654, 72464, 880, 39750, 73005, 6649, 92337, 36148, 58081, 24728, 55020, 19914, 25194, 79985, 54174, 83557, 87498, 84390, 90015, 33125, 20340, 76138, 98543, 33022, 98682, 95228, 29910, 83326, 98875, 65221, 54147, 35544, 55689, 72386, 77970, 24066, 2613, 16614, 35326, 3398, 44552, 15183, 62924, 9913, 27869, 26804, 31515, 92455, 80618, 95826, 45412, 57097, 27121, 95408, 67012, 59217, 7385, 32504, 98901, 99614, 16309, 14813, 97741, 19427, 52786, 16171, 46488, 19040, 56639, 19255, 41936, 64918, 2920, 52013, 5028, 46812, 39986, 57421, 25482, 50583, 8095, 24092, 8997, 20950, 93079, 13977, 87503, 16250, 53488, 15195, 13426, 88458, 13986, 35213, 4882, 54911, 42861, 85922, 50918, 43688, 12163, 54088, 41658, 94646, 2226, 50995, 41058, 44963, 70847, 17126, 84785, 95939, 47762, 81731, 46690, 42622, 54434, 85123, 69204, 79133, 87985, 9864, 92882, 35972, 47429, 23147, 87190, 92194, 54705, 19122, 82462, 67366, 42102, 59638, 31920, 28547, 71619, 63266, 79469, 48785, 276, 6194, 81200, 33781, 65139, 3831, 42651, 26560, 30391, 29323, 69578, 12365, 70541, 61647, 80718, 11936, 39958, 59090, 83569, 53502, 32368, 60151, 95489, 43046, 36345, 3587, 50860, 55713, 58732, 11476, 2162, 26982, 20831, 7968, 70709, 98540, 84855, 70525, 30625, 6407, 11500, 68030, 90468, 67185, 89954, 420, 4372, 34860, 85585, 31333, 78885, 32752, 6293, 91668, 5675, 38889, 17632, 52238, 95841, 85949, 68048, 24264, 7863, 41763, 1540, 3592, 28132, 15193, 9363, 79395, 5330, 25645, 82555, 91020, 45564, 73694, 40323, 92440, 55895, 28041, 11280, 73464, 88852, 97067, 17451, 77927, 2873, 76036, 20956, 72767, 11969, 49561, 59465, 47613, 51019, 17936, 38505, 23853, 90927, 52031, 50500, 83344, 86345, 28213, 77757, 10212, 35367, 63360, 34895, 52059, 82159, 83419, 49076, 70436, 40234, 653, 19689, 3101, 53608, 50282, 64527, 81599, 79307, 84370, 32490, 88194, 21455, 45913, 29540, 54949, 32628, 59637, 75685, 46959, 43060, 87010, 82384, 24586, 82555, 95613, 80096, 99341, 96584, 18705, 40335, 45304, 48740, 33128, 53410, 13118, 54579, 31134, 99809, 80923, 4348, 15117, 26802, 79958, 36873, 40513, 83858, 9216, 55771, 63387, 48756, 30034, 29213, 99043, 68088, 89539, 24581, 68539, 15158, 85482, 42413, 37196, 72195, 30500, 2932, 29880, 96032, 27586, 95003, 12700, 97994, 58985, 57954, 59315, 15875, 8164, 56829, 57885, 35572, 95625, 38097, 84217, 97582, 77520, 71117, 5985, 82581, 52641, 76927, 24980, 82238, 76762, 76600, 94558, 31591, 55156, 53331, 83914, 99427, 9674, 51332, 252, 90963, 1280, 59723, 25038, 28821, 14479, 98686, 56077, 37494, 95773, 37155, 99343, 38842, 5042, 66013, 86148, 7802, 2593, 76762, 79058, 78986, 10478, 54959, 90454, 74384, 48524, 30301, 48031, 28734, 29711, 59602, 78610, 84197, 24248, 68429, 39734, 61125, 7957, 26237, 20015, 72401, 56116, 80616, 38949, 66622, 7147, 19536, 42417, 11339, 92675, 28637, 73026, 98920, 14529, 72632, 61392, 92961, 22164, 20234, 51839, 45292, 83333, 8026, 26045, 552, 25835, 57025, 31538, 20287, 74945, 41623, 16167, 44712, 64697, 77917, 27943, 92315, 30335, 42431, 97379, 89459, 88591, 72704, 14565, 27030, 36108, 27300, 81432, 76270, 24847, 3368, 61613, 23445, 47907, 20677, 56935, 32024, 92099, 5885, 84820, 64578, 4717, 37651, 37564, 45718, 18868, 18638, 13096, 4414, 49037, 10906, 70862, 51681, 22026, 55869, 34756, 17023, 49569, 80991, 82978, 46275, 69567, 39572, 21089, 47284, 2205, 52106, 85635, 30438, 94924, 42221, 87626, 73994, 11982, 67225, 81070, 42207, 9122, 4692, 93268, 15028, 85159, 34976, 84079, 73423, 79336, 98773, 8677, 52425, 53693, 75975, 65123, 24617, 71935, 84509, 57128, 3102, 29358, 66686, 56974, 48318, 90364, 41885, 20287, 29968, 94821, 21707, 3252, 29515, 71683, 8441, 76492, 32399, 62278, 58864, 36593, 27342, 47085, 19913, 16598, 56311, 61380, 24867, 21757, 22961, 71656, 54298, 92259, 60289, 7637, 32171, 39680, 96236, 97479, 99532, 84147, 84801, 90267, 65041, 29560, 19709, 54890, 99510, 57767, 39606, 76648, 62446, 14259, 92991, 93146, 82137, 91003, 53549, 11287, 91888, 49398, 85285, 60391, 57853, 81788, 75208, 4549, 11095, 18890, 13860, 18856, 59548, 62196, 81808, 62921, 87964, 78274, 471, 46280, 11719, 93471, 40212, 26935, 55208, 75648, 78061, 5710, 58897, 30917, 92036, 19590, 54500, 34325, 52386, 16352, 41900, 63862, 35159, 81156, 20070, 22256, 53060, 17735, 10979, 3368, 13079, 1958, 10999, 29183, 68447, 7810, 30375, 90236, 41988, 7301, 51570, 36457, 58222, 77486, 8148, 43773, 62321, 27638, 5937, 40795, 40231, 81478, 55234, 98966, 70928, 43621, 25921, 66263, 88843, 55316, 44753, 34808, 67306, 40810, 99785, 88217, 55367, 35669, 96600, 48996, 38060, 60293, 27726, 19382, 83137, 52320, 89071, 90515, 56260, 234, 24965, 10751, 2451, 42916, 28544, 46603, 62654, 78063, 54988, 44873, 67433, 94094, 78781, 15429, 74925, 42792, 55460, 8825, 88538, 60342, 66348, 72251, 12332, 53367, 68602, 86323, 88768, 85847, 44286, 82865, 55166, 89772, 35314, 64611, 42280, 71203, 58146, 62772, 65295, 20471, 61872, 64361, 24576, 84198, 56153, 71002, 24998, 99793, 21017, 76469, 70236, 55605, 99256, 16587, 44713, 97741, 92914, 14284, 95720, 31828, 91264, 80412, 36955, 99678, 80919, 81120, 38341, 44365, 87422, 75688, 20925, 28721, 54929, 71695, 1188, 79098, 44588, 32119, 94968, 2768, 94950, 81106, 49795, 25766, 27980, 67761, 31324, 91778, 21452, 4717, 22028, 32526, 85468, 13068, 36674, 83755, 389, 96870, 34628, 32674, 7859, 16801, 80997, 18099, 37500, 79310, 61235, 6936, 95217, 48166, 29402, 83894, 71876, 70615, 74305, 22056, 39894, 37287, 99828, 54591, 43545, 19637, 48359, 76597, 11894, 27664, 96350, 47164, 17256, 30884, 37216, 96710, 49965, 5174, 94327, 67975, 50154, 1579, 92637, 11054, 97558, 22515, 48111, 82369, 69456, 77743, 20979, 96742, 42140, 96222, 58873, 73026, 394, 84714, 90907, 44864, 94495, 82848, 7511, 89978, 59034, 64653, 82201, 54825, 95737, 32891, 67412, 62197, 3188, 93156, 2350, 75450, 61772, 56772, 69281, 41081, 4359, 8509, 76392, 76579, 53559, 29189, 62615, 77821, 90428, 23763, 8240, 98686, 89774, 27927, 20967, 6623, 49085, 59829, 53277, 11585, 39591, 65054, 7743, 55993, 98196, 34002, 85889, 5387, 36443, 5759, 34903, 3044, 17664, 40165, 18479, 91438, 43827, 71349, 23488, 43169, 82303, 4208, 18757, 27105, 17867, 75614, 3795, 79141, 30196, 18893, 31162, 68440, 51504, 49745, 21132, 97818, 47084, 95401, 92272, 82153, 79476, 91082, 52762, 99801, 89254, 71521, 74082, 32347, 4379, 89685, 7878, 12728, 86232, 19850, 2989, 94374, 38074, 63575, 749, 19071, 35044, 49006, 86305, 6407, 31999, 83046, 25923, 75652, 29854, 65693, 7809, 92881, 23411, 65422, 27477, 22915, 70064, 56516, 68108, 99438, 64988, 7032, 89336, 6601, 30238, 65612, 70136, 2143, 56592, 11407, 2775, 79479, 67832, 33066, 87055, 28488, 5198, 20272, 38466, 60862, 51450, 76, 85617, 16569, 71682, 35240, 11630, 79385, 92131, 28454, 18843, 9613, 69224, 17403, 47598, 10318, 70176, 35631, 42776, 10665, 57506, 80535, 10998, 37638, 37697, 53095, 63682, 1830, 15193, 49330, 38801, 98361, 54277, 48052, 90338, 65718, 30881, 91525, 70536, 94141, 3438, 84693, 22963, 64669, 4249, 28642, 1010, 30869, 13649, 52918, 2315, 29757, 75025, 76317, 37999, 72537, 40635, 4582, 34043, 81723, 73560, 89914, 79999, 54112, 60256, 79540, 14328, 66314, 64739, 92942, 42148, 9267, 65634, 77410, 71978, 63147, 80240, 82016, 85238, 80177, 17504, 17150, 50365, 45736, 72222, 59059, 17799, 95452, 71594, 56884, 89042, 6536, 60091, 79847, 11635, 18204, 42915, 6773, 70975, 40892, 91742, 44729, 91517, 38758, 64269, 46181, 47843, 3218, 27956, 17330, 43733, 28578, 69211, 74759, 72101, 55793, 17372, 30373, 88056, 94662, 55544, 93755, 92008, 79269, 60630, 75930, 99419, 48922, 59211, 43758, 54930, 93782, 68479, 47138, 65574, 36055, 95530, 75380, 55736, 62110, 51163, 34411, 98838, 9632, 60855, 42537, 98726, 69797, 4571, 70059, 4086, 3596, 36183, 20122, 81389, 63728, 75582, 41486, 11731, 29762, 74481, 61048, 74925, 90592, 37037, 99057, 91748, 82422, 68110, 51422, 54696, 44751, 57428, 2672, 93262, 23850, 56074, 26958, 44102, 57815, 36811, 27340, 83130, 96652, 46484, 83933, 56839, 51153, 34966, 46440, 90617, 28872, 3335, 48713, 97745, 14540, 90765, 81350, 85225, 1926, 84769, 61326, 55086, 72531, 67622, 28093, 63328, 32135, 21474, 40667, 78388, 72634, 63857, 19606, 29201, 35966, 64297, 28002, 80090, 10892, 19336, 96525, 98334, 19579, 79959, 18732, 71097, 93428, 67546, 67120, 81554, 51263, 824, 75390, 56277, 72323, 4145, 11204, 93445, 12423, 32587, 78615, 33991, 8596, 8438, 3621, 12851, 21378, 95866, 54006, 70110, 47874, 12634, 24096, 86908, 73102, 17640, 77840, 8496, 27230, 91014, 67392, 81316, 75182, 8989, 92233, 76784, 53255, 59005, 53724, 70010, 70137, 80227, 18705, 88655, 64082, 23604, 70793, 33551, 146, 59807, 11547, 13839, 57152, 19318, 31453, 32217, 91770, 84713, 33770, 6083, 61495, 72997, 65228, 92223, 92081, 30368, 45913, 34370, 91571, 48233, 60684, 71034, 71799, 79953, 25547, 9192, 16379, 44761, 50355, 20569, 95118, 31843, 34622, 467, 73723, 60000, 89772, 39590, 5324, 32880, 7942, 52252, 26565, 42452, 89439, 8287, 99046, 67724, 31656, 11071, 29691, 16665, 42880, 68249, 1971, 11436, 48153, 74019, 52140, 53011, 65724, 31653, 40148, 96469, 81062, 91932, 31489, 31285, 5923, 45532, 53941, 88983, 46320, 37801, 3384, 57514, 90107, 49177, 31005, 91135, 15063, 30566, 59122, 96372, 96672, 37694, 92186, 76047, 93789, 98836, 11810, 24840, 60216, 55756, 11128, 30242, 34088, 37447, 42707, 77319, 52133, 92354, 98291, 32136, 61670, 84108, 47510, 6684, 20014, 51807, 23332, 78713, 55439, 1382, 95547, 8987, 64901, 74120, 24636, 92957, 59393, 91184, 80553, 73870, 47302, 42332, 44913, 55500, 27308, 50035, 84319, 73462, 15247, 17358, 57713, 55290, 982, 43495, 4259, 47249, 95713, 79311, 50228, 70544, 73371, 63836, 51173, 47219, 24303, 86699, 93105, 71586, 52051, 98247, 64657, 53067, 51158, 57207, 76977, 9423, 35832, 73853, 47269, 25231, 88394, 44586, 58092, 60876, 96132, 65693, 13180, 92449, 62541, 49158, 38800, 86565, 53578, 10430, 84653, 68422, 84235, 44368, 44978, 74232, 2900, 88363, 92820, 37315, 86310, 60437, 27574, 67268, 39158, 2472, 24580, 69333, 78355, 33545, 88795, 2697, 29278, 28929, 43493, 83114, 36427, 71907, 3664, 219, 85483, 67758, 12180, 6639, 72324, 66402, 79370, 44988, 50263, 77938, 62615, 5748, 10211, 7953, 4760, 81588, 4747, 28354, 97592, 29046, 6030, 13541, 33275, 47753, 63453, 50482, 43077, 20005, 2851, 30336, 77651, 84104, 26500, 28617, 7872, 56256, 86457, 27419, 20896, 77281, 77528, 14356, 34729, 23169, 26955, 34052, 92441, 55012, 75194, 91194, 8982, 85833, 50101, 49103, 27128, 96471, 46602, 649, 56240, 83825, 33899, 30995, 77608, 79750, 54545, 34365, 33861, 34675, 77062, 81506, 28311, 77992, 63639, 14431, 95602, 98066, 99961, 25165, 9172, 72519, 69042, 84116, 73349, 97570, 53248, 59820, 45178, 66427, 64794, 31743, 78701, 39961, 66099, 77659, 55146, 2579, 80264, 80650, 39132, 22227, 89732, 30245, 67661, 88132, 33473, 49098, 56105, 98488, 70189, 65292, 56563, 67119, 26781, 9056, 23771, 72756, 93592, 70839, 39905, 1475, 20289, 97959, 6442, 92056, 21486, 1622, 60578, 36360, 3511, 92905, 74353, 8512, 83308, 21077, 84590, 83936, 96836, 4595, 11286, 41092, 76389, 75215, 12788, 27849, 50321, 14861, 76602, 10840, 43047, 48938, 34859, 96625, 37922, 79313, 18620, 56703, 53401, 82414, 36091, 52876, 11036, 12161, 6108, 72599, 27042, 82840, 13839, 10203, 78332, 58944, 28988, 897, 82919, 28532, 33105, 93225, 77471, 94725, 53156, 58016, 9724, 28313, 67583, 54915, 37960, 77344, 57294, 34717, 26072, 64638, 20380, 90495, 94621, 23722, 98649, 70297, 87903, 77902, 4894, 78324, 16922, 72659, 74036, 73809, 58945, 41688, 45326, 9140, 72128, 54414, 21050, 22480, 82027, 46110, 94675, 95119, 64964, 44623, 70331, 306, 82794, 90289, 53371, 3779, 99032, 81211, 12344, 11813, 97457, 36176, 36250, 61246, 81625, 44754, 2114, 63990, 97881, 65065, 16755, 45636, 98941, 77720, 7048, 39779, 93215, 75822, 86337, 48022, 16828, 66983, 35169, 38440, 97435, 40816, 77403, 32674, 38216, 84452, 81422, 59538, 48121, 9466, 7089, 36655, 80414, 20780, 46854, 8803, 49724, 96188, 13237, 35213, 75445, 68294, 8991, 86056, 73835, 63477, 14108, 44389, 45719, 40845, 2203, 34458, 51093, 38641, 56881, 34232, 67541, 22978, 57582, 70959, 51881, 10347, 82443, 11358, 38344, 82009, 10781, 87657, 10022, 46065, 72433, 28840, 16597, 29967, 2789, 89919, 94842, 32887, 26762, 78725, 71127, 59600, 15102, 95565, 61681, 64179, 54228, 20714, 70343, 49783, 27262, 67260, 65426, 51489, 16575, 1417, 69225, 73528, 26284, 24324, 1077, 20019, 30634, 62083, 16252, 24135, 76135, 99969, 37380, 39975, 52684, 81841, 71194, 28085, 50328, 63199, 97509, 70190, 29680, 40697, 66250, 10086, 70417, 93853, 21405, 59251, 63589, 82198, 21967, 3854, 35300, 60984, 95654, 95469, 99059, 39340, 58742, 88520, 76620, 42631, 86941, 33684, 99975, 47037, 67634, 58674, 62362, 20362, 7563, 80857, 75350, 82513, 82641, 57284, 70651, 98944, 75105, 62783, 66372, 38482, 76883, 49579, 22828, 57179, 71222, 20766, 69000, 410, 31613, 47658, 55127, 19757, 17226, 27663, 74943, 79356, 71953, 43260, 15935, 24302, 51817, 27685, 2230, 31617, 82267, 81708, 44830, 32988, 89482, 77225, 19747, 61392, 64774, 97461, 1991, 34907, 28622, 82488, 37761, 36665, 44801, 10198, 94379, 95271, 83158, 26387, 32715, 19924, 25172, 67676, 63769, 44176, 80035, 55492, 64421, 60154, 88857, 86634, 62729, 99550, 36397, 34232, 15788, 3456, 19309, 60724, 92363, 32311, 48117, 67073, 17039, 65900, 18958, 31131, 62565, 15486, 28976, 19193, 46258, 88860, 78844, 68219, 60067, 19950, 68825, 31198, 71338, 2436, 60570, 45860, 15212, 65350, 14611, 67987, 29288, 60401, 70375, 70220, 12436, 76170, 60083, 37692, 32803, 12859, 27993, 69983, 93316, 15529, 626, 64123, 69261, 25348, 45532, 35309, 42862, 86541, 51548, 1033, 71066, 52773, 55791, 61613, 52292, 98383, 71360, 23786, 74673, 91812, 95826, 88755, 57952, 88012, 71850, 77487, 10704, 38469, 31277, 86763, 84701, 7393, 87031, 22479, 9886, 9630, 92250, 88797, 91764, 71179, 81291, 62111, 52746, 1292, 15363, 81928, 61678, 38745, 40062, 82530, 27028, 62676, 64335, 5546, 36909, 67766, 9122, 87422, 74009, 93364, 1663, 6766, 97990, 55209, 83749, 60448, 97827, 1198, 41318, 88410, 830, 18581, 89645, 18131, 502, 30318, 83148, 98899, 81244, 33614, 69931, 55966, 16485, 77304, 37995, 15140, 59270, 90508, 71225, 51794, 21195, 62239, 6760, 26036, 833, 67611, 30020, 15442, 76721, 34714, 70050, 81017, 12675, 68541, 72212, 66898, 23211, 73774, 23318, 34157, 76509, 1080, 51068, 64537, 91046, 35839, 85153, 73064, 38199, 2588, 67109, 83947, 28842, 48514, 90959, 46403, 88731, 48288, 9063, 72082, 66630, 84607, 89383, 79248, 72711, 98012, 34526, 37496, 13575, 85980, 7282, 26084, 76669, 73762, 23909, 23843, 7702, 94818, 11358, 93508, 60030, 89826, 25711, 80242, 47279, 91276, 93336, 72494, 91907, 44473, 76866, 8504, 51878, 55529, 94324, 41651, 60184, 74605, 83219, 69502, 86196, 61345, 70514, 49157, 59970, 82763, 1408, 73496, 39671, 15656, 15447, 41315, 60808, 35816, 99584, 53854, 55335, 53036, 1360, 96961, 8715, 48178, 23159, 14349, 69664, 23968, 46831, 45967, 6403, 39508, 3482, 44970, 73292, 24465, 79118, 82522, 97466, 50906, 76735, 63745, 38973, 46356, 96666, 57758, 93592, 60876, 40865, 37061, 51083, 72746, 53281, 16560, 9414, 35792, 72109, 78232, 59163, 43363, 75735, 20546, 37291, 29277, 22834, 35515, 23217, 21775, 34883, 28418, 23763, 39093, 38081, 78837, 68130, 77555, 57131, 9566, 97811, 64198, 27308, 76843, 76904, 72985, 96128, 41170, 53079, 67839, 12724, 48063, 40721, 3387, 35476, 49793, 12151, 12850, 53320, 213, 91823, 6551, 19, 52309, 64128, 14291, 81723, 78707, 90234, 8782, 63301, 97205, 1684, 95785, 60957, 99345, 73392, 45844, 45144, 21745, 57535, 96196, 59080, 61190, 70578, 18345, 94640, 86786, 38767, 20901, 45345, 3882, 11979, 26294, 28873, 40028, 26607, 96280, 33228, 42978, 30037, 92030, 13348, 94108, 90507, 72104, 15096, 18884, 83064, 57887, 40721, 90856, 13536, 2668, 31979, 36794, 75825, 36956, 57460, 45489, 85398, 16506, 29806, 38106, 42772, 11213, 77343, 50531, 30052, 49871, 39817, 75675, 54188, 52632, 88027, 16233, 23730, 22618, 28786, 73001, 32180, 53071, 53341, 26793, 29430, 52318, 49281, 63205, 9824, 93499, 93878, 88661, 32032, 48481, 11975, 43569, 43778, 73796, 40559, 62223, 16288, 35903, 88809, 52779, 87185, 54461, 45353, 57433, 69450, 55862, 63233, 99290, 72747, 48658, 46429, 31717, 80701, 24871, 1399, 19177, 39143, 21055, 50, 89711, 55910, 68567, 93767, 1159, 80688, 61490, 55038, 66601, 29098, 88264, 79258, 14227, 94116, 60415, 36431, 49819, 48058, 70669, 83919, 68491, 42523, 32232, 18448, 60145, 4484, 83591, 40789, 65468, 80703, 83404, 26165, 50264, 74886, 17678, 64220, 73622, 42531, 10117, 88738, 74742, 4031, 78025, 52576, 74174, 54747, 71457, 23137, 92771, 35782, 82314, 81973, 59733, 50560, 76453, 3269, 88747, 16530, 49333, 32207, 68391, 11468, 376, 24928, 47656, 34942, 10366, 43590, 4063, 47098, 93215, 84207, 56398, 13940, 20227, 20048, 37987, 17944, 83073, 411, 60496, 6651, 17586, 85104, 88257, 65528, 16275, 52506, 58178, 35642, 96122, 10865, 52038, 56087, 95500, 15377, 3757, 95775, 88246, 22554, 25833, 89770, 59732, 28030, 94737, 87833, 65500, 53173, 83442, 49427, 69295, 86404, 65425, 88898, 753, 28039, 1701, 32192, 81276, 27705, 65517, 34398, 14920, 30645, 25198, 9165, 37871, 97971, 88638, 22992, 6270, 44535, 35380, 34622, 57112, 17140, 88492, 47905, 22850, 2713, 84807, 70249, 19967, 3635, 1387, 57429, 86687, 67588, 11660, 54206, 68918, 63984, 42969, 96429, 63611, 71076, 87811, 87441, 16527, 78771, 44173, 5435, 41825, 13197, 44833, 81283, 33472, 94880, 56620, 91462, 21102, 17513, 8079, 51268, 69660, 57628, 12967, 54331, 12805, 68156, 83432, 83562, 21769, 83506, 78421, 75919, 24393, 53838, 26317, 19905, 78465, 63065, 51151, 35085, 76210, 36429, 84633, 16265, 87352, 11124, 92129, 21453, 81431, 81808, 48791, 49664, 92314, 90862, 37499, 73792, 91016, 14278, 96147, 3815, 18045, 77480, 44389, 23091, 83260, 41899, 34085, 6454, 29652, 67497, 83305, 67205, 77939, 93596, 34700, 93479, 71980, 61974, 60803, 23046, 19119, 25677, 54415, 74080, 67539, 29499, 56827, 12395, 40790, 73302, 4264, 69727, 5482, 5431, 37592, 17164, 11971, 74228, 76015, 56921, 5888, 97364, 66389, 59680, 84678, 50467, 34233, 58709, 66286, 80882, 10819, 24864, 69159, 51771, 81713, 61785, 2286, 11211, 4680, 23551, 29816, 27622, 84645, 9640, 93318, 55850, 84395, 60184, 95910, 40565, 63672, 8503, 48509, 52424, 77902, 3166, 1427, 6137, 20630, 25212, 46529, 80303, 53476, 16764, 85215, 58717, 31971, 67013, 8766, 74582, 36942, 86226, 59212, 85461, 93466, 70772, 26113, 9787, 30789, 25463, 88072, 29037, 73400, 63441, 14189, 91952, 99379, 15858, 59226, 91091, 61842, 71238, 60465, 1400, 28208, 68210, 31446, 26393, 4987, 78571, 86615, 16637, 8665, 38458, 15756, 3854, 1585, 53788, 19506, 46761, 86746, 47440, 54640, 73380, 49978, 30827, 67362, 34348, 14090, 96389, 97303, 62032, 13344, 82848, 43942, 38504, 32875, 24197, 25485, 92564, 68040, 55463, 33473, 30778, 72658, 91219, 67088, 19088, 79634, 59054, 44365, 63486, 86207, 14392, 34110, 23529, 84392, 36751, 56401, 73318, 44971, 14964, 87444, 97846, 23817, 88024, 86196, 78840, 64805, 14485, 20465, 73881, 55253, 85901, 42402, 81085, 1822, 21282, 72053, 62962, 44731, 77796, 65699, 41661, 58607, 98798, 26303, 829, 92551, 48090, 2070, 59356, 83906, 87915, 6472, 46386, 89189, 13882, 26977, 95803, 90463, 59235, 50084, 87096, 19575, 30534, 42334, 93713, 37134, 752, 66057, 2015, 87259, 31287, 34084, 67310, 20035, 66952, 10807, 88305, 39088, 59036, 91646, 46187, 99017, 89044, 96945, 80610, 93409, 87886, 15912, 72866, 11743, 57136, 89448, 27803, 85161, 37180, 80643, 20305, 5310, 80263, 52981, 74738, 18621, 25458, 3587, 83919, 57123, 65357, 95378, 74407, 74520, 80452, 18418, 83170, 20718, 84584, 43771, 76248, 9994, 12196, 38454, 3885, 22817, 19026, 41795, 72627, 76027, 33407, 45472, 26624, 93551, 11140, 91972, 28422, 85141, 59427, 1043, 90584, 32935, 99967, 34598, 11609, 2157, 21711, 40283, 71386, 17404, 38913, 27849, 78116, 41954, 51580, 51839, 55966, 29024, 88792, 6573, 96429, 8050, 92203, 26223, 58628, 78763, 18265, 91644, 52120, 44950, 16599, 61014, 23893, 42975, 69736, 34026, 18494, 94687, 20652, 64418, 60901, 72643, 8260, 22151, 5308, 10992, 65400, 78535, 216, 24243, 98526, 2212, 32715, 85533, 97600, 32999, 72501, 59012, 17350, 95830, 57443, 47552, 88278, 62127, 19014, 36538, 12713, 45238, 26897, 57820, 25123, 44184, 18859, 77916, 17592, 42705, 8862, 4598, 49730, 74370, 75725, 14540, 44995, 57098, 20644, 56798, 65436, 6762, 37134, 88284, 84763, 5022, 95481, 18897, 88266, 41845, 18299, 69826, 81540, 89715, 39784, 40159, 77044, 2114, 34397, 51460, 85418, 35442, 34400, 47907, 26656, 53225, 76695, 20236, 9089, 16617, 70707, 49595, 50361, 16211, 38037, 54412, 38794, 45485, 62675, 24634, 12381, 52963, 92224, 64955, 34201, 23818, 85266, 97395, 45194, 89553, 39743, 8847, 62490, 62422, 44214, 21619, 81235, 29774, 30962, 97535, 93222, 95715, 76733, 65179, 99788, 69096, 84226, 32878, 24830, 19728, 73631, 10289, 12999, 43932, 43593, 72096, 6339, 55924, 37251, 39295, 20519, 9194, 45619, 67389, 49165, 28472, 64223, 92327, 3094, 53882, 15001, 7184, 14798, 49296, 66391, 95339, 14845, 46404, 70379, 97380, 60841, 66705, 39682, 55163, 46875, 28832, 56437, 92563, 2191, 73316, 65796, 48108, 79786, 77193, 3303, 86790, 61341, 94615, 71102, 31255, 89688, 17413, 79909, 82435, 89168, 1931, 21681, 99678, 21099, 39377, 76525, 90901, 44064, 26981, 38880, 95003, 20923, 67043, 58764, 58267, 42971, 12130, 48717, 74594, 56104, 64911, 26428, 92479, 82591, 69396, 15546, 32137, 9693, 42788, 34830, 97479, 85324, 34158, 69591, 3381, 99120, 90045, 70053, 51900, 35744, 22330, 31783, 55331, 84927, 26797, 75093, 32705, 98974, 33969, 43808, 65720, 52146, 48173, 65100, 32956, 72956, 84257, 30765, 74421, 96983, 37038, 98155, 87203, 86600, 84023, 84687, 96881, 20768, 59353, 58590, 84013, 54536, 97594, 10220, 50142, 19213, 48172, 52536, 62744, 60910, 82012, 16568, 46438, 56018, 73510, 21767, 20694, 25346, 83445, 79149, 56216, 86038, 69805, 22802, 27882, 1744, 51429, 41519, 61951, 48165, 60553, 86983, 16312, 9082, 76755, 99596, 5009, 6920, 86079, 53717, 92972, 94527, 74738, 71176, 63896, 31716, 69844, 7371, 93628, 10940, 17195, 58879, 16943, 12554, 77789, 70200, 60656, 59790, 554, 26717, 63732, 48841, 27807, 19032, 60941, 61977, 64627, 2246, 79551, 89259, 15489, 83614, 75606, 97005, 82475, 77171, 87738, 40681, 21790, 47209, 47912, 99957, 10254, 47447, 69122, 45906, 40769, 9869, 57792, 52176, 70794, 97108, 30051, 6043, 38797, 76771, 88951, 50480, 76126, 82216, 45823, 68681, 45124, 29554, 63101, 84135, 23644, 57550, 98812, 6476, 64048, 48992, 80221, 21531, 33526, 70372, 41298, 77758, 46700, 21540, 18292, 3590, 26290, 78983, 23114, 26508, 50045, 33400, 3623, 26345, 56309, 50627, 71756, 72867, 77511, 13126, 11442, 4763, 38985, 16128, 98622, 27229, 49375, 69378, 69458, 34635, 35357, 97198, 8771, 39370, 21467, 85789, 3360, 233, 86734, 68315, 90371, 24826, 28204, 68880, 89350, 28761, 45957, 11852, 23460, 67430, 18472, 61782, 80786, 76767, 7981, 5498, 97189, 94862, 5256, 19679, 60539, 4552, 24190, 45018, 10681, 88048, 63584, 63597, 79194, 3091, 65565, 68667, 18192, 42395, 64176, 89050, 33635, 34442, 51014, 3617, 82837, 764, 3156, 86029, 18545, 16771, 72918, 90837, 74240, 61906, 2943, 68773, 49951, 92823, 88437, 38477, 5745, 95687, 13330, 20373, 5907, 55601, 94137, 26040, 190, 88321, 85334, 26755, 40851, 31337, 72391, 7685, 42639, 24255, 59, 3279, 78486, 14665, 82378, 3315, 12756, 22506, 45822, 12815, 74808, 62717, 33761, 96347, 82103, 32998, 49117, 8794, 55710, 61781, 23170, 13079, 31529, 55290, 93866, 3705, 3230, 27556, 45160, 59184, 61606, 58171, 50827, 27779, 14744, 17117, 32952, 88100, 20085, 58512, 73209, 9396, 36030, 32925, 91402, 70055, 56263, 34587, 4635, 46041, 30038, 97682, 60039, 70180, 74412, 56419, 2181, 97005, 76515, 39656, 68357, 85556, 70094, 58913, 53589, 11103, 59094, 72312, 9504, 20952, 86953, 31178, 6649, 72377, 35433, 23693, 91137, 24816, 29732, 33102, 90416, 26988, 1393, 68832, 54052, 11012, 46661, 67228, 7462, 7941, 24869, 75208, 89370, 12614, 46586, 86355, 7136, 27706, 8419, 85228, 39657, 68205, 1191, 21576, 72885, 72694, 35705, 91084, 31156, 37201, 28145, 43011, 43802, 88175, 32116, 42137, 44074, 52282, 13300, 13300, 41683, 30670, 55881, 71219, 41047, 16479, 36138, 80272, 75032, 66507, 30735, 65148, 72416, 47537, 31453, 64792, 49735, 11678, 96784, 73012, 82209, 48454, 73194, 40070, 16834, 70169, 3621, 99034, 17721, 71762, 89100, 69184, 96852, 83219, 9326, 85161, 57242, 75187, 51645, 7526, 47178, 50271, 66429, 90274, 27081, 66998, 52973, 8315, 34772, 75685, 10858, 27701, 93924, 97093, 8385, 27071, 68212, 95772, 29282, 37932, 49216, 4597, 6448, 30229, 7224, 6600, 73459, 41010, 21484, 21664, 42719, 73079, 76842, 31485, 10599, 36552, 5194, 70649, 79946, 11735, 30450, 61755, 76885, 73801, 46776, 33244, 11189, 72182, 44077, 88738, 15331, 92820, 20515, 19538, 73231, 42951, 36311, 61886, 41509, 44458, 78056, 16246, 59027, 65626, 97506, 83348, 19694, 14465, 39953, 20886, 38234, 47482, 88373, 35876, 44580, 79114, 41861, 91969, 66039, 74950, 73994, 55570, 21811, 56380, 46287, 13100, 15865, 67162, 9350, 57688, 71599, 97449, 35450, 14835, 11237, 26509, 41125, 4555, 47264, 53213, 81191, 79263, 96850, 36434, 15077, 90725, 74393, 30588, 3613, 12096, 20220, 68214, 94762, 32250, 68663, 22043, 9455, 28934, 28542, 88157, 502, 85787, 70931, 40930, 50244, 99311, 95363, 93453, 82013, 33267, 32484, 22137, 19689, 65801, 65379, 21740, 7475, 56751, 6173, 73631, 84756, 56256, 69291, 5965, 34259, 33822, 92911, 53028, 57028, 66293, 54598, 17375, 52492, 72173, 51988, 55417, 78259, 24401, 70957, 47166, 24974, 59833, 46355, 32833, 49328, 47710, 17823, 5142, 45341, 56992, 18432, 54561, 75273, 45770, 35185, 51012, 66260, 10125, 40058, 99401, 89037, 23850, 20048, 81443, 45886, 56551, 20730, 74740, 88954, 40273, 22518, 9174, 83480, 39259, 36629, 99490, 37075, 70402, 60689, 261, 11153, 34236, 78937, 51176, 39021, 94576, 71918, 77954, 50826, 84496, 66874, 89149, 53368, 2510, 82872, 75795, 3758, 83351, 69370, 95743, 79877, 50809, 49740, 95339, 19259, 12125, 30979, 56775, 26988, 6294, 25965, 81094, 58433, 55952, 4336, 6754, 40205, 16774, 49983, 98945, 41603, 19925, 17796, 66232, 67069, 67412, 80745, 49221, 49833, 43843, 52075, 65751, 43074, 4489, 9310, 5231, 18001, 35752, 9641, 908, 55008, 30629, 76672, 67259, 9760, 76129, 65074, 56337, 41538, 80622, 44724, 85209, 47790, 99230, 636, 94525, 33938, 56791, 77050, 46429, 49206, 22636, 42899, 25259, 78397, 15323, 43157, 75495, 93784, 7048, 52185, 72648, 47648, 66129, 58507, 41940, 8014, 84569, 43078, 99776, 90717, 8456, 99199, 69340, 99026, 93107, 1109, 70279, 85885, 90189, 60058, 18538, 32414, 19412, 53353, 6771, 84480, 97203, 58557, 13214, 27434, 24398, 98672, 87125, 49432, 51004, 81944, 1197, 8348, 44528, 63637, 49737, 96192, 18670, 77122, 74806, 15695, 16989, 28668, 59605, 31401, 26683, 87180, 42846, 57741, 64753, 35050, 44932, 71398, 73970, 81103, 41680, 74008, 21637, 62528, 93383, 66332, 59339, 13255, 20737, 6208, 98309, 65147, 34914, 44282, 42738, 46543, 44220, 96204, 31358, 47429, 80832, 78025, 80455, 18401, 57109, 28609, 96198, 22475, 1151, 73034, 36705, 85861, 34095, 89974, 89082, 14606, 35116, 5342, 90850, 18310, 38584, 56616, 31272, 88361, 34241, 10583, 81545, 29581, 37926, 75200, 86347, 98870, 3009, 21914, 77820, 42197, 43285, 72619, 88742, 70292, 5400, 59222, 80376, 43011, 26161, 17755, 50520, 85139, 34184, 11298, 94452, 50093, 62581, 80849, 84724, 20383, 84865, 6262, 60977, 70926, 61438, 9377, 13782, 44022, 28365, 84790, 8661, 64210, 72101, 92676, 54678, 15385, 25958, 60097, 49483, 72702, 15496, 27674, 95508, 95269, 8549, 95344, 63755, 30676, 51720, 85597, 51617, 23824, 1576, 69012, 78715, 10977, 97552, 48590, 36327, 66996, 47435, 61592, 24216, 27715, 86819, 55255, 15438, 83018, 847, 48887, 71391, 68630, 44071, 19877, 32452, 82790, 67958, 60737, 71269, 55148, 25159, 68574, 66704, 50722, 54575, 74561, 70833, 16628, 27625, 42608, 80956, 14184, 48583, 11332, 85267, 60519, 16578, 2131, 12151, 24863, 39795, 31832, 78144, 35063, 82661, 86798, 41943, 50869, 87829, 70476, 45995, 31449, 63499, 28685, 44167, 51155, 42800, 99927, 77250, 94734, 14178, 68492, 66225, 93790, 19678, 31840, 36971, 70013, 84048, 32934, 37949, 22225, 15101, 76272, 1535, 65392, 21342, 15604, 47296, 16111, 30026, 75726, 63714, 79303, 38480, 67601, 95477, 27022, 39071, 78258, 96130, 82505, 89882, 20812, 71317, 24914, 17990, 88636, 57912, 84497, 63288, 44404, 91407, 94532, 11843, 65996, 56365, 71650, 67051, 40550, 65821, 17136, 17347, 48025, 12137, 92572, 67105, 91698, 8472, 14995, 83156, 19314, 17905, 73238, 67714, 80276, 21214, 70979, 36320, 98103, 97769, 38389, 56096, 32360, 62832, 1437, 32108, 84991, 15477, 2720, 35288, 91716, 53074, 6157, 86837, 19467, 88948, 74613, 32193, 16361, 25185, 68611, 67624, 46012, 84090, 40954, 97000, 97181, 79702, 79563, 55892, 29154, 97054, 62722, 40953, 47413, 2750, 87914, 60738, 93500, 48326, 66557, 23729, 47593, 39563, 84885, 60658, 88357, 71216, 52332, 10583, 64624, 72313, 38878, 90315, 13214, 42472, 72389, 69357, 88274, 44434, 60520, 86141, 13323, 63363, 20793, 27732, 36461, 88367, 84505, 83612, 89888, 84516, 19379, 21277, 34965, 33220, 92388, 57367, 13393, 50224, 81428, 52765, 10107, 67106, 83357, 35657, 38640, 35795, 30150, 66920, 48532, 83207, 85602, 58656, 31611, 94386, 95250, 46019, 72372, 54382, 21757, 18681, 68009, 8118, 149, 68445, 24646, 58054, 68880, 17901, 47595, 9765, 26738, 81065, 31558, 22759, 84600, 30787, 3094, 40078, 72156, 3340, 8231, 76968, 50125, 77054, 23487, 56357, 45525, 1866, 65131, 64414, 95200, 53163, 18699, 80908, 46934, 34025, 28958, 43354, 16440, 56150, 98059, 46178, 88719, 14867, 61243, 67216, 81294, 27299, 94350, 45088, 88231, 83131, 13102, 12158, 92895, 83687, 44518, 13603, 9117, 41673, 88415, 465, 62865, 70548, 67196, 50903, 5176, 29979, 67013, 98907, 43380, 97661, 29401, 55123, 33086, 45975, 6760, 206, 72081, 99210, 37852, 22940, 2969, 18883, 78578, 82491, 13770, 97616, 92097, 21064, 56115, 39881, 68184, 76623, 64580, 18941, 7803, 57619, 20481, 23179, 25541, 89814, 97457, 55869, 87006, 89332, 29196, 43130, 3373, 4029, 34165, 69880, 57213, 15927, 37855, 59505, 26250, 44727, 56292, 47945, 73587, 42553, 2839, 74342, 55984, 64399, 58045, 12278, 18224, 1974, 45440, 55469, 67239, 83013, 99338, 68533, 86085, 33343, 52414, 80962, 91087, 12216, 2162, 27133, 5217, 81600, 49527, 21082, 23697, 26098, 72727, 38712, 96000, 49544, 25163, 91619, 29028, 62959, 59667, 83463, 47805, 68417, 47841, 19314, 49903, 34177, 8262, 77682, 15306, 79209, 87169, 45575, 11224, 56931, 75252, 43584, 48661, 74275, 81334, 85639, 31293, 13566, 90355, 26451, 23857, 9410, 39067, 26030, 87076, 83881, 51490, 97447, 89670, 13257, 71704, 30481, 95476, 65888, 71273, 94768, 18934, 40145, 34159, 92346, 91998, 44789, 84424, 49235, 55780, 17900, 71224, 86925, 25678, 50541, 11106, 24634, 74233, 12655, 84298, 45656, 77854, 5566, 72730, 73186, 15959, 72425, 42527, 12160, 86518, 56770, 36540, 14729, 40625, 91035, 78148, 22660, 11283, 72712, 56461, 50239, 21789, 31906, 91495, 58557, 75292, 30546, 34425, 26878, 17990, 15215, 90330, 14823, 6686, 50513, 29906, 35942, 52079, 75474, 33464, 67515, 90965, 83497, 30232, 92814, 87326, 41740, 1942, 34526, 86654, 5151, 30291, 67373, 63290, 72861, 47469, 85531, 42690, 41330, 34564, 72974, 29923, 30676, 20058, 29902, 73929, 41479, 4895, 92385, 78719, 48395, 11789, 1441, 50513, 90448, 92501, 27751, 40460, 45272, 99032, 82357, 66430, 20783, 97811, 43337, 5952, 35315, 29633, 40460, 71112, 12591, 33820, 68378, 27940, 6698, 89372, 15742, 90598, 61602, 37979, 12912, 23289, 77079, 628, 46028, 89243, 39600, 45385, 83133, 62884, 79475, 62489, 64192, 70176, 97069, 15453, 40622, 96973, 47573, 88104, 98569, 53946, 586, 68363, 13754, 24714, 63440, 49537, 36212, 34344, 33125, 93999, 21436, 45646, 6901, 28431, 31791, 1375, 34368, 26117, 11740, 60457, 62037, 10179, 14236, 32037, 72171, 342, 98933, 81457, 43074, 7643, 53632, 15767, 90270, 51997, 2825, 71494, 21747, 76942, 86454, 25100, 39327, 48265, 20864, 11445, 12019, 52180, 89162, 83644, 58582, 15194, 8438, 16309, 51412, 56621, 46212, 26461, 20891, 55088, 12961, 36870, 24419, 82153, 49646, 3363, 80095, 66372, 14638, 86930, 17035, 82413, 29176, 34005, 70922, 55865, 76181, 6931, 54793, 26170, 61959, 9488, 91304, 89997, 87201, 36214, 85603, 28421, 67604, 69426, 27629, 52340, 53721, 23521, 799, 59845, 70543, 33326, 16382, 86609, 1772, 29118, 33845, 35495, 39028, 57013, 71419, 24765, 55792, 57201, 3798, 5535, 3622, 86232, 60201, 52893, 12957, 2036, 69589, 31389, 90693, 78957, 86829, 75626, 10982, 12599, 10264, 53457, 28974, 78713, 96736, 79841, 7336, 67335, 85457, 52922, 50912, 85578, 28787, 9325, 19855, 47242, 65154, 37069, 86069, 91695, 34179, 17890, 63650, 44463, 60274, 3959, 71728, 50606, 49584, 45724, 39056, 41359, 94126, 17689, 39512, 92736, 60351, 87452, 20247, 56056, 66055, 57131, 84050, 42231, 58741, 74523, 71103, 37576, 61003, 41531, 12089, 85382, 21211, 44897, 37211, 7134, 40592, 6474, 29823, 52204, 75025, 74803, 43423, 16246, 58203, 26543, 43574, 69112, 71651, 58094, 22464, 85494, 44839, 48149, 52125, 47953, 736, 33280, 38753, 76150, 14113, 85274, 136, 35006, 34570, 17845, 30917, 84625, 34602, 15333, 59949, 63082, 42843, 75332, 30512, 48194, 20733, 18230, 53020, 4533, 57663, 87658, 83883, 59288, 53435, 25141, 96080, 8126, 50642, 39117, 11652, 81845, 30420, 93221, 82984, 66566, 77585, 35836, 85526, 95635, 68041, 39504, 38407, 74856, 47731, 61579, 68672, 90273, 81017, 33044, 95564, 48519, 48002, 54010, 35830, 74474, 1975, 18550, 72564, 20504, 42488, 47285, 67843, 15713, 93438, 27393, 80370, 21877, 31529, 61542, 38292, 56943, 73306, 53155, 82310, 72837, 8648, 56345, 33611, 91088, 75288, 78439, 12731, 71861, 65817, 7392, 85117, 82143, 99489, 41065, 24043, 44415, 33117, 86018, 28306, 11055, 61157, 36373, 42177, 36466, 23577, 93141, 23036, 29193, 9118, 66050, 42583, 32672, 16162, 11554, 25576, 89990, 61440, 7018, 6210, 82991, 98957, 57178, 39957, 60135, 81024, 26040, 13108, 32799, 49253, 37896, 67737, 6213, 76934, 75592, 38433, 46421, 20236, 21263, 44310, 44781, 81821, 31658, 79005, 9551, 5824, 51674, 56297, 32066, 23775, 73118, 92572, 92999, 32767, 15982, 60717, 76504, 45071, 50189, 7712, 84174, 17830, 27284, 62111, 47000, 36005, 46377, 77951, 87205, 93296, 90594, 40673, 93899, 91712, 87675, 24097, 41622, 45667, 4712, 20881, 60368, 37628, 59190, 72364, 27209, 9820, 81858, 1353, 69801, 54786, 38466, 89464, 66641, 83414, 64327, 80224, 88291, 3189, 29594, 19854, 31872, 2545, 38031, 96692, 85282, 99400, 13719, 964, 61760, 96692, 11931, 33321, 5235, 82897, 71528, 31183, 80814, 76625, 62482, 14449, 89258, 73770, 70639, 53684, 14361, 95087, 79079, 98892, 76577, 16146, 10367, 86277, 43098, 33581, 68716, 70177, 7908, 7091, 84262, 34920, 58296, 86246, 30033, 60863, 12802, 94900, 41265, 94038, 59367, 9021, 80978, 47094, 2896, 2559, 25068, 43485, 8645, 28478, 54450, 80545, 57641, 13024, 54401, 41051, 30594, 79544, 98850, 37500, 92971, 27077, 50599, 385, 20160, 7511, 14847, 88741, 91859, 65528, 66793, 32044, 89887, 92080, 894, 70346, 90184, 84540, 5171, 38333, 23855, 80545, 15842, 81589, 94733, 38584, 13755, 97856, 38678, 65136, 95388, 34058, 3836, 20496, 91795, 98815, 38820, 40488, 73015, 71492, 41306, 70843, 89219, 78930, 37622, 52571, 34659, 55828, 53022, 30699, 33723, 63405, 37869, 84123, 66839, 43584, 6608, 69012, 61522, 7065, 77125, 42470, 79610, 38002, 94243, 36308, 46922, 86785, 38643, 58050, 62331, 66821, 66759, 97277, 93655, 31293, 30694, 79999, 91816, 56304, 74659, 83267, 95239, 31752, 12085, 82884, 22881, 79474, 48501, 51154, 18739, 13982, 32100, 65539, 11639, 91809, 15172, 22450, 91612, 36861, 70189, 13336, 56962, 77552, 60950, 61919, 74419, 36175, 48432, 72167, 74920, 81747, 2668, 82067, 39674, 30636, 65208, 96022, 50037, 65794, 35813, 48205, 93175, 45309, 60956, 77007, 50344, 28672, 37633, 94791, 65539, 3799, 12345, 54186, 7434, 68773, 59600, 48676, 43635, 10886, 7786, 4877, 75415, 30992, 95697, 94491, 52710, 40149, 71103, 56652, 66273, 91489, 13122, 84169, 75803, 22706, 13918, 68070, 62296, 59144, 78784, 31844, 44245, 52267, 95679, 30451, 23140, 34977, 73267, 6410, 93046, 66375, 36404, 69243, 23808, 85188, 20790, 97563, 21369, 38454, 59683, 41415, 3543, 42249, 45863, 95929, 53746, 78043, 40254, 57490, 42735, 35517, 68416, 81224, 52384, 51139, 88554, 82467, 37788, 4822, 13, 87702, 1165, 21179, 69080, 3032, 42384, 52439, 3280, 15670, 67324, 42563, 49378, 71014, 81451, 76198, 31422, 79348, 19648, 48275, 59209, 2252, 71333, 11778, 95964, 74663, 75479, 53688, 72894, 13079, 95241, 53779, 70333, 3370, 62345, 37186, 38223, 53626, 2106, 56191, 67061, 12767, 10105, 51499, 31882, 12348, 37617, 14339, 17630, 96286, 99401, 18203, 86291, 27965, 41853, 89923, 72071, 78354, 88640, 99921, 69104, 89561, 19326, 43433, 62953, 66405, 55049, 30511, 94450, 29939, 89167, 91761, 50760, 35557, 57025, 67030, 10983, 29295, 32414, 7309, 42972, 60909, 49763, 76516, 84331, 97120, 79876, 29339, 74611, 54655, 12877, 4704, 86382, 64456, 63132, 34034, 40056, 12862, 23629, 18430, 8425, 47573, 14731, 73280, 97526, 91437, 61220, 97360, 11034, 1669, 89796, 62282, 4383, 12855, 17469, 47204, 87417, 84571, 77213, 54035, 36966, 61236, 4514, 54983, 38019, 36390, 46090, 8247, 22499, 78949, 52771, 99869, 36088, 29351, 35781, 85823, 91261, 99253, 46038, 32667, 49536, 37815, 87360, 62782, 14000, 7096, 7823, 33836, 466, 33345, 86777, 558, 41441, 18447, 95139, 26612, 72182, 94828, 26995, 77364, 90996, 59302, 59234, 83425, 11241, 5161, 69674, 51112, 10493, 77678, 99067, 68488, 90700, 44244, 52870, 36886, 41567, 90853, 41376, 30532, 80937, 33108, 84719, 82572, 22077, 21008, 32732, 32702, 31571, 8794, 86781, 42577, 6489, 28445, 11863, 88170, 7587, 56787, 43121, 3719, 25018, 83868, 3035, 4296, 41086, 48648, 41020, 64970, 91555, 79791, 398, 97039, 51397, 82748, 98086, 50349, 97231, 79630, 20568, 68144, 74635, 133, 26741, 73495, 25551, 1802, 91959, 42002, 62212, 98499, 22507, 59424, 13386, 47015, 82918, 91298, 38779, 85637, 22365, 79413, 71983, 80355, 48343, 62045, 43571, 67993, 16974, 73774, 69917, 51673, 42510, 1458, 34311, 23713, 23245, 53874, 18436, 32886, 26586, 87301, 17457, 76902, 74869, 90505, 22915, 14260, 68805, 69736, 80629, 53090, 87368, 2852, 48865, 92622, 28982, 67931, 41769, 38311, 60737, 64068, 17503, 36872, 15059, 21259, 470, 73365, 70602, 74060, 84856, 8189, 54607, 52832, 84887, 43100, 52457, 7669, 87193, 76171, 90235, 39124, 91139, 62880, 5107, 11528, 9091, 88093, 79513, 3780, 66736, 35045, 31242, 94903, 73940, 81079, 36814, 26816, 29544, 84319, 38863, 91416, 78184, 89068, 14961, 48299, 11645, 20578, 92457, 21769, 72270, 70673, 28520, 16411, 37951, 84647, 55181, 36417, 87475, 33998, 55288, 20611, 52565, 3492, 16770, 61613, 29827, 13921, 31688, 96117, 391, 38303, 91453, 45793, 27624, 47925, 61877, 73619, 85720, 73906, 11986, 16438, 36778, 97196, 17363, 20927, 79069, 58296, 83001, 93736, 46502, 55789, 62509, 5358, 39145, 59424, 61398, 43085, 57139, 52614, 52980, 51674, 85364, 70175, 97499, 96, 22762, 41550, 45605, 90332, 17199, 20910, 68719, 81438, 79569, 80278, 14632, 92374, 16866, 25779, 8940, 23676, 91746, 65496, 74865, 97002, 17841, 91621, 66886, 71441, 90296, 78047, 18441, 57847, 77735, 42948, 7077, 58269, 45278, 44324, 80968, 64785, 4053, 42064, 44393, 15420, 18906, 30410, 7280, 9616, 50958, 5474, 14301, 62737, 26710, 8262, 17817, 38395, 79143, 9973, 14391, 1587, 88190, 77760, 61560, 88523, 60571, 3604, 72381, 69367, 69063, 25073, 70529, 93060, 10646, 95378, 88630, 76967, 71638, 55440, 71089, 50652, 41171, 96377, 26488, 86271, 15064, 87376, 63844, 57091, 82337, 37785, 93731, 99489, 99807, 20357, 30606, 35570, 39492, 5473, 95360, 55430, 4739, 58355, 4294, 98796, 56947, 93648, 26677, 36920, 57944, 99295, 15811, 45065, 50408, 35864, 7490, 67278, 2902, 61047, 60569, 14845, 64635, 93741, 26943, 35586, 38089, 65700, 24883, 83114, 24321, 28725, 85911, 76801, 2000, 4110, 36437, 31617, 82119, 15392, 86292, 83235, 8717, 3765, 70845, 55589, 22267, 39609, 62973, 4493, 93466, 59061, 25277, 42236, 32152, 51211, 90003, 16470, 44021, 21967, 7300, 56947, 33054, 64358, 75072, 90610, 44120, 75508, 28404, 81976, 16396, 58524, 80413, 21593, 38739, 66208, 14109, 15797, 19048, 24605, 95031, 25983, 96246, 86144, 48119, 14288, 44657, 34493, 14196, 35117, 15734, 36944, 36515, 13498, 5864, 36181, 96995, 67205, 40625, 86020, 16577, 38239, 82208, 36679, 8569, 97586, 21809, 96188, 9094, 54123, 17142, 53002, 15254, 91908, 94513, 13711, 28773, 5899, 26925, 60411, 24339, 95985, 10069, 65268, 52735, 6451, 80446, 67557, 80572, 23635, 93214, 33966, 20583, 47681, 70048, 46808, 71208, 98015, 33618, 85823, 47032, 3975, 33355, 72103, 5850, 81212, 17771, 94560, 79124, 40548, 72780, 43840, 7125, 4837, 97670, 77499, 71449, 83782, 67941, 66131, 34667, 88950, 15823, 32575, 16842, 9114, 84946, 87464, 94188, 46566, 49599, 66450, 36382, 22584, 82829, 83511, 77397, 93960, 61353, 10196, 37485, 34433, 33178, 59561, 46845, 59747, 35535, 57669, 78310, 86824, 35093, 71950, 75046, 57342, 10595, 6632, 26721, 17320, 46194, 41042, 41588, 7573, 40631, 93829, 30899, 76829, 74789, 70034, 33556, 77213, 52936, 87553, 82099, 94399, 47096, 986, 14824, 65940, 47436, 11443, 74057, 25797, 35678, 90961, 55280, 32034, 39223, 49926, 36124, 95868, 44486, 40135, 57196, 38295, 23225, 82098, 56975, 65682, 84633, 3425, 50550, 83418, 62416, 49047, 2662, 90419, 69099, 8455, 30868, 25704, 22380, 73721, 48274, 29641, 6465, 64272, 90238, 94218, 25376, 34075, 82967, 98952, 90119, 32907, 84049, 5930, 17515, 28125, 15714, 90108, 8584, 32775, 88360, 37536, 21104, 67888, 12573, 89461, 17572, 62050, 49145, 22374, 65122, 96587, 7532, 19589, 83762, 83755, 54921, 68511, 97156, 65965, 42021, 2004, 6477, 14669, 26252, 69270, 7219, 75907, 27548, 11349, 56878, 46030, 45946, 30406, 23024, 93661, 54596, 68244, 41718, 18326, 42115, 60129, 44872, 46356, 71082, 41870, 98398, 30595, 7285, 45503, 91757, 49151, 68037, 48348, 96808, 42514, 59897, 98169, 84957, 48159, 64247, 21445, 23401, 47519, 87825, 79794, 65620, 44845, 82312, 21116, 14630, 10051, 5528, 82443, 57986, 20211, 35711, 74441, 54397, 2635, 53854, 64437, 80399, 72755, 35042, 38535, 89399, 93294, 42705, 32295, 55346, 588, 62577, 14942, 8545, 87568, 31239, 54143, 59024, 11899, 50821, 51402, 4443, 32923, 66268, 75009, 18858, 36034, 37943, 91818, 4368, 67840, 26106, 7429, 17247, 90554, 66584, 73597, 81649, 86933, 89653, 33741, 63053, 87910, 90862, 28670, 66820, 4783, 62931, 85748, 31117, 43164, 94497, 6618, 11911, 48780, 74782, 93837, 27674, 19962, 30717, 93069, 10404, 65758, 66064, 87641, 86842, 51649, 87537, 15622, 90023, 62164, 41347, 71083, 35964, 97664, 51563, 1050, 48299, 92883, 70547, 11278, 65238, 87446, 74558, 93742, 91089, 95695, 67055, 970, 30836, 33835, 17302, 81281, 83340, 19178, 75369, 25089, 10389, 19010, 32532, 93976, 87279, 78243, 22926, 32407, 50228, 95662, 70009, 91863, 64136, 67487, 6263, 33696, 8023, 81882, 30503, 49524, 81192, 50859, 71528, 62799, 26371, 25425, 55440, 39660, 56309, 29793, 11330, 20766, 49967, 33809, 75268, 97534, 20956, 58281, 32107, 25537, 64569, 33682, 71079, 7832, 98662, 56587, 59889, 61044, 92292, 52786, 10733, 85062, 21327, 10091, 25530, 79754, 37361, 72135, 44844, 25999, 82016, 12466, 87347, 8245, 30739, 27616, 28930, 50902, 23508, 7374, 20621, 75846, 62367, 232, 69227, 31383, 72193, 62326, 47253, 93305, 75430, 5888, 58464, 37149, 60775, 46655, 12598, 53684, 63039, 49881, 87758, 33523, 43293, 6643, 62355, 9526, 88934, 68954, 97451, 9243, 84178, 37036, 10004, 89091, 8118, 82499, 22105, 55349, 59758, 6464, 87961, 5154, 8577, 45477, 52314, 66496, 70964, 70205, 77111, 67128, 73872, 7480, 40177, 73547, 92961, 98972, 84905, 22448, 32400, 37107, 99233, 52569, 84881, 91263, 2091, 88899, 92780, 43609, 19160, 93652, 15896, 79736, 64708, 85365, 94533, 20476, 32391, 88565, 83643, 9427, 97096, 67034, 41374, 95582, 86316, 11245, 43855, 96837, 36444, 36004, 49983, 73879, 79772, 48551, 94553, 89032, 16019, 48447, 61029, 42465, 80109, 66417, 18501, 4838, 71175, 51745, 82670, 84054, 35038, 72707, 8700, 25586, 95851, 70992, 48901, 28813, 9215, 13818, 12196, 94730, 78502, 70320, 77912, 29651, 94809, 34261, 97899, 61721, 82581, 55049, 55430, 36669, 97951, 3113, 31330, 32351, 96296, 76034, 22108, 29931, 95553, 76715, 91882, 55536, 7337, 37358, 50320, 8394, 91832, 41834, 55064, 44156, 84022, 92826, 62619, 26723, 28758, 36311, 88208, 87131, 94089, 27978, 21910, 8329, 11848, 56579, 99477, 88089, 43452, 25207, 61880, 79712, 49792, 93342, 18997, 84653, 37257, 40580, 83510, 97006, 26029, 33113, 51471, 22688, 40644, 60875, 25903, 68262, 7775, 88185, 83532, 78115, 7391, 92018, 49799, 92805, 77519, 69524, 22668, 43177, 30478, 48870, 84344, 40799, 96959, 15907, 38723, 37092, 8813, 22968, 79565, 48578, 30350, 52468, 86530, 3287, 37861, 50465, 1080, 89059, 47904, 20493, 29457, 84302, 93887, 88193, 33701, 94374, 60892, 62307, 8317, 66608, 51209, 38503, 38679, 95724, 29533, 76397, 30465, 10661, 21815, 23142, 54850, 74154, 75596, 67350, 14595, 11166, 71657, 38655, 55588, 80917, 89989, 23655, 44559, 19116, 31185, 84674, 80715, 7189, 4779, 35231, 14418, 12039, 95343, 57690, 99800, 56435, 43655, 15061, 15403, 53663, 86657, 10510, 62322, 6736, 40555, 37334, 51776, 16916, 23317, 6217, 35835, 7229, 48485, 47016, 8412, 61740, 73929, 90680, 69900, 12962, 4537, 8604, 46677, 8836, 33899, 37630, 14256, 38396, 10403, 22873, 55210, 57451, 36037, 19176, 35218, 25658, 41972, 17090, 44463, 34134, 50288, 30211, 36210, 48110, 91786, 34966, 44065, 1428, 53940, 75409, 90142, 99008, 33349, 15687, 49595, 3767, 24818, 7951, 78212, 86199, 31253, 32717, 96082, 99071, 48230, 58915, 79630, 34867, 11779, 63904, 37274, 41192, 75473, 95924, 96097, 27050, 59588, 90016, 10308, 51742, 66482, 82147, 55775, 66491, 60347, 73099, 8018, 95687, 83700, 20787, 76328, 58225, 87417, 95497, 12085, 52820, 17956, 2124, 19939, 51440, 38662, 69989, 69325, 7776, 82813, 5343, 3362, 88884, 98313, 47369, 35071, 34424, 57711, 98406, 69641, 31835, 28876, 84756, 3821, 861, 38923, 19952, 77230, 73471, 34509, 8943, 94148, 50591, 95902, 97623, 30296, 80102, 50265, 82398, 7480, 57772, 28620, 26858, 99150, 50437, 13863, 92549, 65813, 549, 79120, 99883, 72608, 93, 78865, 42359, 89314, 79619, 33014, 6607, 71387, 19404, 91005, 79652, 93529, 83981, 18141, 61599, 15987, 15892, 83858, 53420, 93922, 70269, 15818, 63296, 22347, 78936, 30188, 75360, 50873, 83617, 62853, 9951, 7384, 4932, 62368, 36205, 87641, 80031, 94853, 24065, 26466, 27111, 63741, 83784, 16411, 40132, 43198, 80013, 76925, 61380, 76492, 58028, 74472, 81784, 13035, 71011, 7672, 67065, 92371, 80574, 80691, 2576, 74622, 85370, 84127, 7262, 10731, 14013, 24981, 13943, 67394, 82599, 49365, 89481, 33560, 31919, 98946, 34204, 79710, 81733, 13591, 40947, 58079, 23395, 16173, 96157, 86655, 66904, 82135, 43329, 19184, 81883, 13779, 30843, 40385, 95099, 42311, 4554, 88677, 85564, 40518, 1657, 31356, 25648, 59504, 36722, 43262, 31985, 15716, 41587, 57615, 97682, 95291, 34780, 53847, 83880, 75468, 40237, 80857, 191, 18900, 22737, 24550, 72960, 36841, 67006, 73698, 81093, 76486, 54777, 20169, 15367, 47198, 71722, 52153, 63739, 68167, 55212, 40106, 91231, 92809, 89211, 56567, 81973, 1096, 1458, 46624, 38599, 65249, 23698, 33028, 71008, 25506, 9606, 21029, 49883, 30127, 57960, 2652, 65882, 82264, 92760, 40691, 12421, 75633, 36314, 38688, 92281, 63792, 98306, 63798, 8501, 19328, 69932, 87243, 89470, 22799, 70868, 93790, 9807, 40453, 44123, 60534, 13003, 31735, 72972, 61747, 81752, 33615, 43889, 84754, 7612, 19421, 34871, 74826, 2222, 78272, 82756, 69305, 33571, 13676, 98263, 22050, 43793, 4869, 35472, 9152, 88795, 67928, 53308, 75649, 23064, 44115, 57746, 10145, 90998, 61001, 1024, 92330, 1858, 11008, 17460, 50648, 72095, 56635, 88920, 75486, 27651, 36726, 47666, 11213, 89082, 59732, 99863, 35056, 91607, 65875, 32248, 31683, 62588, 92342, 6435, 53752, 55297, 15114, 78515, 42247, 37523, 77914, 73448, 34374, 63140, 3764, 35039, 46986, 37654, 36704, 44999, 69352, 15018, 76701, 45297, 79219, 44744, 12418, 5980, 77726, 38859, 22476, 73906, 13799, 40621, 88928, 48911, 39993, 22781, 83712, 35576, 40441, 16457, 85926, 29685, 13621, 78670, 71400, 70132, 66075, 28600, 72628, 71531, 90157, 21304, 19990, 15825, 54133, 12821, 68120, 30958, 68877, 30503, 12302, 42861, 40417, 47398, 56399, 1340, 30803, 58021, 9796, 62510, 72459, 23662, 48207, 32852, 28655, 84657, 85853, 75192, 23963, 22162, 23736, 53731, 99009, 40425, 38017, 74565, 8002, 54031, 7804, 80002, 86706, 15619, 61518, 40390, 97811, 46739, 84152, 90086, 61658, 54681, 22148, 30532, 30439, 73165, 60723, 79187, 70880, 35156, 68588, 99729, 5848, 84277, 78977, 37002, 93261, 70184, 11459, 69570, 89397, 81652, 75669, 34714, 86197, 19025, 29570, 94906, 71004, 51672, 16441, 18183, 79048, 62577, 49675, 88985, 34513, 73441, 15630, 35665, 22923, 89826, 82462, 21729, 86357, 59819, 42380, 12928, 17206, 81194, 22921, 44897, 5702, 16402, 18425, 96278, 91169, 31870, 52325, 15203, 42795, 39022, 32864, 7236, 74993, 53677, 89516, 95687, 42441, 26421, 16699, 96238, 81531, 61988, 80632, 87282, 11834, 66085, 17891, 91684, 88876, 87375, 27638, 1422, 53514, 22746, 49380, 24980, 62747, 88802, 96795, 91260, 48432, 66478, 94989, 6935, 8049, 73093, 37881, 29830, 29713, 55327, 16548, 23564, 4775, 23177, 52917, 39946, 16441, 55839, 30339, 62439, 8226, 83429, 95270, 2942, 83314, 98276, 82283, 20821, 26020, 12529, 91633, 60526, 1012, 8443, 79083, 77833, 63909, 20794, 62829, 80095, 84045, 41502, 89567, 84172, 76484, 28583, 42497, 85565, 49607, 91876, 68945, 2776, 18486, 23425, 1902, 65022, 62835, 8969, 93269, 92248, 36062, 70850, 82546, 90754, 55297, 23316, 95724, 63965, 12723, 14537, 8173, 28858, 13333, 56003, 45019, 65834, 99442, 73348, 2465, 31570, 34121, 13666, 96048, 46415, 39822, 62665, 88408, 40074, 38937, 47664, 94313, 25701, 77366, 17299, 42161, 672, 64123, 15743, 89726, 26670, 87394, 93493, 41018, 49723, 57981, 60291, 92757, 76321, 92718, 60751, 5133, 55467, 24085, 81537, 92191, 39894, 15352, 62501, 98101, 36610, 88937, 95039, 79960, 42533, 81181, 82887, 18638, 65038, 462, 74534, 9971, 45985, 44160, 473, 93467, 26888, 61929, 79397, 29370, 61008, 20956, 72342, 93796, 55526, 33515, 1204, 14454, 12622, 71110, 54508, 72177, 31208, 38405, 15646, 2304, 54106, 42355, 40988, 1318, 37303, 70910, 89052, 55755, 72107, 9065, 26150, 46261, 69428, 99683, 21056, 43205, 99547, 58897, 4424, 43827, 93478, 40618, 45707, 74857, 63446, 78419, 46913, 54269, 25722, 42710, 34556, 75144, 93495, 69210, 14414, 29050, 64217, 17396, 16335, 73657, 14000, 63900, 17133, 24322, 78510, 13709, 52274, 89364, 28313, 42412, 56477, 82226, 95078, 78479, 16845, 75276, 97196, 13085, 67160, 57893, 57445, 17028, 7620, 89001, 61962, 72574, 46898, 90867, 43286, 9487, 7781, 47833, 90567, 59256, 50396, 70837, 41050, 96960, 75235, 18359, 81286, 42410, 5370, 95995, 40854, 84472, 11356, 19017, 76823, 33892, 72792, 82444, 31254, 24422, 24304, 12252, 75387, 90757, 29368, 61063, 36365, 17593, 85663, 82842, 82170, 53677, 30862, 60445, 37574, 31341, 41346, 63752, 9308, 94614, 53129, 23671, 89597, 395, 82524, 66307, 67093, 82810, 63166, 89808, 6953, 95463, 74220, 49011, 78172, 41547, 51269, 48532, 81696, 81912, 23302, 89069, 99058, 21290, 43511, 64684, 5768, 82518, 14148, 65397, 67089, 19891, 92357, 30198, 27975, 27341, 84096, 99527, 29729, 16797, 31470, 37130, 21958, 94579, 39565, 58340, 74067, 33405, 3431, 23235, 17884, 14828, 33975, 61990, 53117, 708, 87546, 2458, 16450, 16085, 17828, 26834, 25049, 21917, 84210, 7269, 15848, 63909, 29842, 41037, 18110, 27723, 8568, 78212, 76829, 3540, 88594, 18015, 51513, 20270, 50441, 24144, 66611, 18232, 37567, 79788, 55654, 51489, 30249, 57178, 26594, 5091, 42051, 11590, 95199, 37123, 49903, 72909, 53082, 2946, 54722, 61919, 48176, 30956, 45767, 28205, 35579, 36637, 21334, 97530, 83862, 55286, 684, 67481, 5366, 11036, 33787, 29165, 11414, 64412, 95279, 4706, 63473, 36012, 60744, 49166, 97501, 62483, 55188, 96405, 38904, 71231, 64213, 21447, 80125, 6166, 71229, 89085, 37827, 65628, 79294, 34517, 75136, 30737, 63859, 51864, 81428, 35502, 33602, 53352, 98157, 28610, 73524, 72253, 7698, 20452, 95942, 12128, 57203, 42663, 59398, 40418, 92712, 92075, 34042, 69687, 60672, 31974, 11623, 88524, 81514, 23635, 619, 95549, 77092, 49245, 8438, 84760, 88867, 36178, 78969, 766, 44037, 23517, 94878, 52513, 45860, 40828, 52347, 77048, 42039, 68046, 26347, 65554, 23823, 43418, 94093, 2149, 7334, 11994, 9451, 89170, 47714, 3278, 77930, 17009, 43770, 44550, 37738, 63580, 94498, 33344, 48670, 48910, 70381, 36848, 44296, 55059, 52244, 3783, 64750, 71587, 49195, 23773, 1982, 30804, 76726, 46026, 28705, 96695, 87229, 26193, 86093, 94090, 5710, 37522, 74212, 22919, 9803, 12266, 8586, 51533, 8071, 34715, 84719, 80034, 98556, 10031, 21762, 28902, 76314, 72742, 78491, 87789, 62860, 77686, 54962, 66693, 99697, 17080, 90547, 98788, 9820, 22227, 13457, 76355, 99930, 82843, 99447, 24224, 51860, 15605, 84077, 39186, 76564, 63900, 10609, 89832, 52872, 90149, 12070, 54628, 50803, 34987, 21858, 30187, 69297, 74783, 15276, 89932, 50053, 22336, 28161, 78706, 4362, 79732, 65940, 44684, 50761, 66378, 31405, 63752, 47612, 43329, 91208, 96163, 32762, 64696, 38264, 319, 5456, 55747, 33130, 88865, 71078, 40023, 3356, 86458, 97695, 8950, 20831, 56746, 52887, 70283, 75687, 81468, 5750, 60973, 72291, 60158, 15563, 87427, 33975, 70976, 52207, 82511, 18443, 12058, 67052, 1513, 71818, 19865, 27883, 83355, 2115, 52866, 11502, 87516, 70019, 81033, 52250, 36991, 74293, 19170, 17163, 18427, 5091, 14994, 9611, 96319, 34816, 64495, 31052, 6433, 16142, 41377, 22090, 86666, 31206, 46847, 4935, 85455, 74946, 30025, 26359, 9596, 7653, 75679, 99660, 94859, 24948, 65100, 2591, 52686, 76363, 96052, 32935, 92477, 28790, 55174, 46185, 72951, 42793, 10126, 82182, 36408, 1419, 13248, 80767, 76977, 5465, 30844, 72396, 95720, 8118, 48902, 5930, 90822, 20432, 59448, 33212, 61849, 97341, 35679, 1556]\n",
      " Sort list is : [13, 19, 50, 59, 76, 93, 96, 109, 133, 136, 146, 149, 185, 190, 191, 205, 206, 213, 216, 219, 232, 233, 234, 252, 261, 276, 302, 303, 306, 314, 319, 339, 342, 361, 376, 384, 385, 389, 391, 394, 395, 398, 410, 411, 413, 420, 462, 465, 466, 467, 470, 471, 473, 502, 502, 546, 549, 552, 554, 558, 571, 586, 588, 619, 626, 628, 636, 649, 653, 660, 672, 684, 708, 710, 736, 749, 752, 753, 764, 766, 784, 799, 808, 811, 824, 826, 829, 830, 833, 847, 861, 880, 894, 897, 904, 908, 964, 970, 982, 986, 1010, 1012, 1024, 1033, 1043, 1050, 1077, 1080, 1080, 1096, 1109, 1129, 1143, 1151, 1159, 1165, 1185, 1188, 1191, 1197, 1198, 1204, 1213, 1230, 1238, 1280, 1292, 1311, 1318, 1340, 1353, 1360, 1375, 1382, 1387, 1393, 1399, 1400, 1408, 1417, 1419, 1421, 1422, 1427, 1428, 1437, 1441, 1451, 1458, 1458, 1475, 1513, 1535, 1540, 1556, 1569, 1576, 1579, 1585, 1587, 1613, 1622, 1657, 1663, 1666, 1669, 1684, 1693, 1701, 1744, 1752, 1763, 1772, 1773, 1790, 1790, 1802, 1822, 1830, 1858, 1866, 1893, 1902, 1926, 1931, 1942, 1958, 1971, 1974, 1975, 1982, 1991, 2000, 2004, 2015, 2036, 2057, 2070, 2091, 2106, 2106, 2114, 2114, 2115, 2124, 2131, 2132, 2143, 2149, 2157, 2162, 2162, 2172, 2181, 2191, 2203, 2205, 2212, 2222, 2226, 2230, 2244, 2246, 2251, 2252, 2286, 2304, 2315, 2320, 2350, 2390, 2413, 2420, 2428, 2429, 2436, 2450, 2451, 2458, 2465, 2472, 2484, 2487, 2510, 2519, 2541, 2545, 2548, 2559, 2576, 2579, 2588, 2591, 2593, 2595, 2598, 2613, 2628, 2635, 2652, 2662, 2668, 2668, 2672, 2697, 2713, 2720, 2750, 2756, 2768, 2775, 2776, 2789, 2825, 2834, 2839, 2849, 2851, 2852, 2856, 2873, 2896, 2900, 2902, 2915, 2920, 2927, 2932, 2942, 2943, 2946, 2958, 2969, 2989, 3009, 3015, 3032, 3035, 3044, 3050, 3091, 3094, 3094, 3101, 3102, 3113, 3156, 3166, 3176, 3188, 3189, 3193, 3218, 3230, 3248, 3252, 3269, 3278, 3279, 3280, 3287, 3303, 3315, 3335, 3340, 3356, 3360, 3362, 3363, 3368, 3368, 3370, 3373, 3381, 3384, 3387, 3398, 3425, 3429, 3431, 3438, 3456, 3476, 3482, 3492, 3511, 3534, 3540, 3543, 3569, 3571, 3587, 3587, 3590, 3592, 3596, 3604, 3606, 3613, 3617, 3621, 3621, 3622, 3623, 3635, 3643, 3664, 3705, 3719, 3757, 3758, 3759, 3764, 3765, 3767, 3779, 3780, 3783, 3795, 3798, 3799, 3815, 3821, 3823, 3831, 3836, 3854, 3854, 3882, 3885, 3924, 3959, 3975, 4023, 4025, 4029, 4031, 4053, 4063, 4086, 4091, 4096, 4110, 4123, 4145, 4152, 4159, 4208, 4235, 4249, 4259, 4264, 4267, 4284, 4294, 4296, 4336, 4348, 4359, 4362, 4366, 4368, 4370, 4371, 4372, 4379, 4383, 4392, 4414, 4417, 4424, 4443, 4464, 4484, 4489, 4493, 4514, 4533, 4537, 4549, 4552, 4554, 4555, 4571, 4582, 4595, 4597, 4598, 4635, 4680, 4692, 4704, 4706, 4712, 4716, 4717, 4717, 4723, 4739, 4747, 4760, 4763, 4775, 4779, 4783, 4822, 4834, 4837, 4838, 4842, 4869, 4877, 4882, 4894, 4895, 4908, 4923, 4932, 4935, 4987, 5009, 5022, 5028, 5032, 5042, 5044, 5050, 5091, 5091, 5107, 5133, 5138, 5142, 5151, 5154, 5161, 5171, 5174, 5176, 5194, 5198, 5217, 5231, 5231, 5235, 5256, 5259, 5271, 5308, 5310, 5324, 5330, 5342, 5343, 5352, 5358, 5366, 5370, 5387, 5400, 5413, 5430, 5431, 5435, 5456, 5465, 5473, 5474, 5482, 5485, 5498, 5528, 5535, 5541, 5546, 5549, 5566, 5585, 5646, 5675, 5679, 5702, 5710, 5710, 5745, 5748, 5750, 5759, 5768, 5809, 5824, 5848, 5850, 5864, 5864, 5865, 5885, 5888, 5888, 5891, 5896, 5899, 5907, 5923, 5930, 5930, 5937, 5940, 5952, 5965, 5972, 5980, 5985, 6030, 6040, 6043, 6083, 6108, 6137, 6157, 6166, 6173, 6194, 6205, 6208, 6210, 6213, 6217, 6235, 6262, 6263, 6270, 6292, 6293, 6294, 6296, 6339, 6403, 6407, 6407, 6410, 6426, 6433, 6435, 6438, 6442, 6448, 6451, 6454, 6464, 6465, 6472, 6474, 6476, 6477, 6488, 6489, 6494, 6536, 6551, 6559, 6573, 6600, 6601, 6607, 6607, 6608, 6618, 6623, 6632, 6639, 6639, 6643, 6649, 6649, 6651, 6684, 6686, 6698, 6736, 6754, 6760, 6760, 6762, 6766, 6768, 6771, 6773, 6851, 6901, 6920, 6931, 6935, 6936, 6947, 6953, 6957, 7010, 7018, 7032, 7048, 7048, 7054, 7065, 7077, 7089, 7091, 7092, 7096, 7125, 7134, 7136, 7147, 7184, 7189, 7219, 7224, 7229, 7236, 7251, 7262, 7269, 7280, 7282, 7285, 7296, 7300, 7301, 7309, 7334, 7336, 7337, 7352, 7371, 7374, 7384, 7385, 7391, 7392, 7393, 7429, 7434, 7462, 7475, 7480, 7480, 7490, 7491, 7511, 7511, 7516, 7526, 7532, 7563, 7573, 7587, 7590, 7598, 7612, 7620, 7637, 7643, 7653, 7669, 7669, 7672, 7685, 7698, 7702, 7712, 7740, 7743, 7745, 7775, 7776, 7781, 7786, 7799, 7802, 7803, 7804, 7809, 7810, 7823, 7832, 7858, 7859, 7863, 7872, 7878, 7890, 7908, 7941, 7942, 7946, 7951, 7953, 7957, 7968, 7981, 8002, 8011, 8014, 8018, 8020, 8023, 8026, 8035, 8049, 8050, 8071, 8079, 8095, 8096, 8101, 8118, 8118, 8118, 8126, 8148, 8164, 8173, 8189, 8194, 8195, 8226, 8231, 8240, 8245, 8247, 8260, 8262, 8262, 8287, 8315, 8317, 8321, 8327, 8329, 8348, 8373, 8379, 8384, 8385, 8394, 8412, 8419, 8425, 8438, 8438, 8438, 8441, 8443, 8455, 8456, 8465, 8472, 8496, 8501, 8503, 8504, 8509, 8512, 8533, 8545, 8549, 8568, 8568, 8569, 8577, 8584, 8586, 8596, 8604, 8645, 8648, 8661, 8665, 8672, 8677, 8700, 8715, 8717, 8733, 8757, 8763, 8766, 8771, 8782, 8794, 8794, 8803, 8812, 8813, 8815, 8825, 8836, 8847, 8862, 8902, 8940, 8943, 8950, 8954, 8962, 8969, 8982, 8987, 8989, 8991, 8997, 9015, 9015, 9017, 9021, 9022, 9049, 9052, 9056, 9063, 9065, 9067, 9082, 9089, 9091, 9094, 9114, 9117, 9118, 9121, 9122, 9122, 9140, 9152, 9165, 9172, 9174, 9192, 9194, 9205, 9215, 9216, 9243, 9267, 9308, 9310, 9325, 9325, 9326, 9350, 9363, 9372, 9377, 9396, 9410, 9414, 9423, 9427, 9451, 9455, 9466, 9484, 9487, 9488, 9504, 9526, 9551, 9553, 9566, 9596, 9606, 9611, 9613, 9616, 9630, 9632, 9640, 9641, 9674, 9693, 9724, 9760, 9760, 9765, 9787, 9796, 9803, 9807, 9819, 9820, 9820, 9824, 9849, 9855, 9864, 9869, 9886, 9907, 9913, 9926, 9951, 9971, 9973, 9994, 10004, 10009, 10022, 10031, 10036, 10036, 10046, 10051, 10069, 10086, 10091, 10105, 10107, 10117, 10121, 10125, 10126, 10131, 10134, 10136, 10145, 10179, 10180, 10196, 10198, 10203, 10211, 10212, 10213, 10220, 10236, 10236, 10254, 10264, 10289, 10293, 10308, 10318, 10347, 10366, 10367, 10389, 10403, 10404, 10430, 10478, 10493, 10502, 10510, 10551, 10583, 10583, 10595, 10599, 10609, 10624, 10646, 10661, 10665, 10681, 10704, 10731, 10733, 10751, 10769, 10781, 10785, 10807, 10819, 10840, 10858, 10865, 10886, 10886, 10892, 10906, 10936, 10940, 10977, 10979, 10982, 10983, 10992, 10998, 10999, 11008, 11012, 11025, 11034, 11036, 11036, 11054, 11055, 11066, 11071, 11075, 11095, 11103, 11106, 11124, 11127, 11128, 11140, 11148, 11153, 11166, 11180, 11189, 11204, 11211, 11213, 11213, 11224, 11237, 11241, 11245, 11251, 11257, 11278, 11280, 11283, 11286, 11287, 11298, 11302, 11309, 11330, 11332, 11339, 11349, 11351, 11356, 11358, 11358, 11364, 11407, 11414, 11429, 11432, 11436, 11442, 11443, 11445, 11459, 11468, 11471, 11476, 11495, 11500, 11502, 11528, 11547, 11554, 11585, 11590, 11609, 11623, 11630, 11635, 11639, 11645, 11652, 11660, 11662, 11678, 11702, 11719, 11731, 11735, 11740, 11743, 11759, 11769, 11771, 11778, 11779, 11789, 11810, 11813, 11828, 11834, 11843, 11848, 11852, 11863, 11894, 11899, 11911, 11921, 11931, 11936, 11969, 11971, 11975, 11979, 11982, 11986, 11990, 11994, 12019, 12021, 12039, 12058, 12067, 12070, 12085, 12085, 12089, 12096, 12125, 12128, 12130, 12137, 12137, 12142, 12144, 12151, 12151, 12158, 12160, 12161, 12163, 12180, 12196, 12196, 12214, 12216, 12245, 12252, 12260, 12266, 12278, 12302, 12332, 12339, 12344, 12345, 12348, 12365, 12381, 12395, 12413, 12418, 12421, 12423, 12436, 12466, 12507, 12529, 12554, 12573, 12580, 12591, 12598, 12599, 12614, 12621, 12622, 12634, 12655, 12675, 12690, 12700, 12713, 12715, 12723, 12724, 12728, 12731, 12756, 12767, 12788, 12802, 12805, 12815, 12821, 12850, 12851, 12855, 12859, 12862, 12877, 12882, 12912, 12928, 12957, 12961, 12962, 12967, 12999, 13003, 13024, 13035, 13036, 13056, 13068, 13079, 13079, 13079, 13085, 13096, 13100, 13102, 13108, 13118, 13122, 13126, 13180, 13191, 13197, 13214, 13214, 13237, 13248, 13255, 13257, 13300, 13300, 13323, 13330, 13333, 13336, 13344, 13348, 13358, 13386, 13389, 13393, 13419, 13426, 13457, 13495, 13498, 13510, 13536, 13541, 13566, 13575, 13591, 13596, 13603, 13612, 13621, 13649, 13666, 13670, 13674, 13676, 13709, 13711, 13711, 13716, 13719, 13754, 13754, 13755, 13758, 13770, 13779, 13782, 13799, 13818, 13839, 13839, 13860, 13860, 13863, 13869, 13882, 13900, 13918, 13921, 13940, 13943, 13977, 13982, 13986, 14000, 14000, 14013, 14054, 14090, 14108, 14109, 14113, 14148, 14151, 14178, 14184, 14189, 14196, 14227, 14236, 14238, 14256, 14259, 14260, 14278, 14284, 14288, 14291, 14301, 14328, 14339, 14349, 14356, 14361, 14391, 14392, 14414, 14418, 14431, 14449, 14454, 14460, 14465, 14479, 14479, 14485, 14529, 14531, 14537, 14540, 14540, 14565, 14595, 14606, 14611, 14630, 14632, 14634, 14638, 14660, 14665, 14669, 14672, 14676, 14729, 14731, 14733, 14744, 14788, 14798, 14813, 14823, 14823, 14824, 14825, 14828, 14835, 14836, 14845, 14845, 14847, 14852, 14857, 14861, 14867, 14898, 14920, 14942, 14944, 14961, 14964, 14994, 14995, 15001, 15006, 15018, 15028, 15059, 15061, 15063, 15064, 15077, 15096, 15100, 15101, 15102, 15114, 15117, 15140, 15158, 15172, 15183, 15193, 15193, 15194, 15195, 15203, 15212, 15213, 15215, 15247, 15251, 15254, 15272, 15276, 15306, 15306, 15323, 15331, 15333, 15352, 15363, 15364, 15367, 15377, 15385, 15392, 15401, 15403, 15420, 15429, 15438, 15442, 15447, 15453, 15476, 15477, 15486, 15489, 15496, 15513, 15529, 15546, 15563, 15604, 15605, 15611, 15619, 15622, 15630, 15646, 15656, 15670, 15687, 15695, 15713, 15714, 15715, 15716, 15721, 15734, 15740, 15742, 15743, 15753, 15756, 15767, 15788, 15791, 15797, 15809, 15811, 15818, 15823, 15825, 15826, 15842, 15848, 15848, 15858, 15865, 15866, 15875, 15877, 15881, 15892, 15896, 15902, 15907, 15912, 15927, 15935, 15959, 15982, 15987, 16019, 16048, 16085, 16108, 16111, 16128, 16142, 16146, 16162, 16167, 16171, 16173, 16211, 16233, 16246, 16246, 16250, 16252, 16265, 16275, 16275, 16276, 16288, 16309, 16309, 16312, 16335, 16352, 16361, 16379, 16382, 16396, 16402, 16411, 16411, 16438, 16440, 16441, 16441, 16450, 16457, 16470, 16471, 16479, 16485, 16506, 16509, 16527, 16530, 16534, 16548, 16552, 16559, 16560, 16568, 16569, 16575, 16577, 16578, 16587, 16597, 16598, 16599, 16614, 16617, 16626, 16628, 16637, 16665, 16682, 16695, 16699, 16705, 16721, 16725, 16744, 16755, 16764, 16770, 16771, 16774, 16797, 16801, 16828, 16834, 16842, 16845, 16847, 16848, 16866, 16887, 16901, 16916, 16922, 16928, 16943, 16974, 16989, 16993, 17009, 17023, 17028, 17035, 17039, 17080, 17090, 17104, 17113, 17114, 17117, 17126, 17133, 17136, 17140, 17142, 17150, 17163, 17164, 17195, 17199, 17206, 17226, 17247, 17256, 17260, 17264, 17299, 17302, 17306, 17320, 17320, 17330, 17336, 17347, 17350, 17358, 17363, 17372, 17375, 17396, 17403, 17404, 17413, 17436, 17445, 17451, 17452, 17457, 17460, 17469, 17482, 17503, 17504, 17513, 17515, 17528, 17565, 17572, 17586, 17592, 17593, 17621, 17624, 17630, 17632, 17640, 17664, 17678, 17689, 17717, 17717, 17721, 17735, 17753, 17755, 17771, 17796, 17799, 17817, 17823, 17828, 17830, 17841, 17841, 17845, 17867, 17882, 17884, 17890, 17891, 17900, 17900, 17901, 17905, 17936, 17944, 17956, 17990, 17990, 18001, 18010, 18015, 18045, 18049, 18054, 18066, 18083, 18099, 18110, 18125, 18131, 18141, 18150, 18183, 18192, 18203, 18204, 18224, 18230, 18232, 18265, 18275, 18292, 18294, 18299, 18305, 18310, 18326, 18345, 18357, 18359, 18401, 18418, 18425, 18427, 18430, 18432, 18436, 18441, 18443, 18447, 18448, 18472, 18479, 18480, 18486, 18494, 18501, 18517, 18538, 18545, 18550, 18580, 18581, 18608, 18619, 18620, 18621, 18638, 18638, 18643, 18670, 18681, 18699, 18705, 18705, 18706, 18719, 18732, 18739, 18756, 18757, 18788, 18834, 18843, 18854, 18856, 18857, 18858, 18859, 18868, 18883, 18884, 18890, 18893, 18897, 18900, 18906, 18931, 18934, 18941, 18952, 18958, 18970, 18997, 19009, 19010, 19014, 19017, 19025, 19026, 19027, 19032, 19032, 19040, 19048, 19056, 19071, 19088, 19116, 19119, 19122, 19133, 19160, 19170, 19176, 19177, 19178, 19184, 19193, 19208, 19213, 19255, 19258, 19259, 19267, 19287, 19309, 19313, 19314, 19314, 19318, 19326, 19328, 19336, 19365, 19379, 19382, 19404, 19412, 19421, 19427, 19467, 19506, 19536, 19538, 19543, 19575, 19577, 19579, 19588, 19589, 19590, 19606, 19637, 19648, 19678, 19679, 19689, 19689, 19694, 19709, 19710, 19726, 19728, 19747, 19757, 19757, 19812, 19842, 19850, 19854, 19855, 19865, 19871, 19876, 19877, 19883, 19891, 19893, 19905, 19913, 19914, 19924, 19925, 19939, 19943, 19950, 19952, 19962, 19967, 19972, 19990, 20005, 20011, 20014, 20015, 20019, 20035, 20041, 20048, 20048, 20058, 20070, 20085, 20100, 20106, 20122, 20156, 20160, 20169, 20211, 20220, 20224, 20227, 20234, 20236, 20236, 20243, 20247, 20265, 20270, 20272, 20274, 20287, 20287, 20289, 20305, 20340, 20347, 20357, 20362, 20373, 20380, 20383, 20432, 20452, 20465, 20471, 20476, 20481, 20493, 20496, 20504, 20515, 20519, 20546, 20563, 20568, 20569, 20578, 20583, 20587, 20608, 20611, 20621, 20630, 20644, 20652, 20666, 20677, 20694, 20714, 20718, 20730, 20733, 20737, 20766, 20766, 20768, 20780, 20783, 20787, 20789, 20790, 20793, 20793, 20794, 20812, 20821, 20831, 20831, 20864, 20881, 20886, 20891, 20896, 20900, 20901, 20910, 20922, 20923, 20925, 20927, 20950, 20952, 20956, 20956, 20956, 20957, 20967, 20968, 20969, 20979, 21008, 21010, 21017, 21029, 21050, 21055, 21056, 21064, 21077, 21082, 21089, 21099, 21102, 21104, 21116, 21132, 21162, 21179, 21195, 21211, 21214, 21231, 21259, 21263, 21277, 21282, 21290, 21304, 21318, 21327, 21334, 21342, 21349, 21360, 21369, 21378, 21405, 21436, 21438, 21445, 21447, 21452, 21453, 21455, 21467, 21467, 21474, 21484, 21486, 21508, 21531, 21540, 21576, 21589, 21589, 21593, 21614, 21619, 21622, 21631, 21637, 21647, 21664, 21668, 21670, 21681, 21693, 21707, 21711, 21715, 21729, 21740, 21745, 21747, 21757, 21757, 21762, 21767, 21769, 21769, 21775, 21777, 21789, 21790, 21792, 21805, 21809, 21810, 21811, 21815, 21837, 21853, 21858, 21868, 21877, 21880, 21881, 21885, 21910, 21914, 21917, 21958, 21960, 21967, 21967, 21979, 22026, 22028, 22043, 22048, 22050, 22056, 22077, 22082, 22090, 22105, 22108, 22113, 22137, 22148, 22151, 22162, 22164, 22225, 22227, 22227, 22237, 22256, 22264, 22267, 22268, 22274, 22320, 22330, 22336, 22347, 22361, 22365, 22374, 22380, 22428, 22432, 22439, 22448, 22450, 22464, 22475, 22476, 22479, 22480, 22493, 22499, 22506, 22507, 22514, 22515, 22518, 22554, 22584, 22618, 22636, 22654, 22660, 22668, 22688, 22694, 22706, 22717, 22737, 22746, 22759, 22762, 22781, 22799, 22802, 22817, 22828, 22834, 22848, 22850, 22873, 22881, 22884, 22915, 22915, 22919, 22921, 22923, 22925, 22926, 22940, 22961, 22963, 22968, 22978, 22988, 22992, 22995, 23024, 23036, 23045, 23046, 23046, 23064, 23065, 23091, 23114, 23137, 23138, 23140, 23142, 23147, 23159, 23169, 23170, 23177, 23179, 23211, 23217, 23225, 23235, 23245, 23273, 23289, 23298, 23302, 23312, 23316, 23317, 23318, 23332, 23340, 23350, 23351, 23392, 23395, 23401, 23411, 23425, 23445, 23460, 23471, 23487, 23488, 23505, 23508, 23517, 23521, 23529, 23537, 23544, 23546, 23551, 23564, 23574, 23577, 23583, 23604, 23629, 23635, 23635, 23644, 23650, 23655, 23662, 23671, 23676, 23693, 23697, 23698, 23713, 23722, 23729, 23730, 23736, 23763, 23763, 23771, 23773, 23775, 23778, 23786, 23808, 23817, 23818, 23823, 23824, 23843, 23850, 23850, 23853, 23855, 23857, 23858, 23893, 23895, 23909, 23911, 23963, 23968, 24019, 24043, 24059, 24065, 24066, 24085, 24092, 24096, 24097, 24111, 24135, 24144, 24178, 24190, 24192, 24197, 24216, 24224, 24240, 24243, 24248, 24255, 24264, 24302, 24303, 24304, 24321, 24322, 24324, 24339, 24360, 24367, 24393, 24395, 24398, 24401, 24419, 24422, 24465, 24519, 24532, 24550, 24559, 24570, 24576, 24580, 24581, 24586, 24605, 24617, 24618, 24634, 24634, 24635, 24636, 24646, 24652, 24714, 24728, 24751, 24765, 24816, 24818, 24826, 24830, 24840, 24840, 24847, 24863, 24864, 24867, 24869, 24871, 24883, 24914, 24924, 24928, 24937, 24948, 24964, 24965, 24974, 24980, 24980, 24981, 24998, 25018, 25038, 25049, 25050, 25068, 25073, 25082, 25089, 25100, 25123, 25136, 25138, 25138, 25140, 25141, 25159, 25159, 25163, 25165, 25172, 25185, 25194, 25198, 25207, 25208, 25212, 25231, 25259, 25267, 25277, 25281, 25303, 25346, 25348, 25376, 25379, 25397, 25425, 25450, 25453, 25458, 25463, 25482, 25482, 25485, 25506, 25530, 25537, 25541, 25546, 25547, 25551, 25557, 25569, 25576, 25586, 25644, 25645, 25648, 25658, 25677, 25678, 25701, 25704, 25711, 25722, 25749, 25758, 25766, 25779, 25793, 25794, 25797, 25829, 25833, 25834, 25835, 25881, 25894, 25903, 25921, 25923, 25928, 25958, 25965, 25983, 25999, 26002, 26013, 26015, 26020, 26029, 26030, 26036, 26040, 26040, 26045, 26052, 26060, 26071, 26072, 26084, 26098, 26106, 26107, 26113, 26117, 26142, 26150, 26161, 26165, 26170, 26193, 26223, 26237, 26250, 26252, 26265, 26284, 26288, 26290, 26294, 26303, 26317, 26345, 26347, 26359, 26364, 26371, 26386, 26387, 26393, 26421, 26423, 26428, 26433, 26451, 26461, 26466, 26466, 26488, 26500, 26502, 26502, 26508, 26509, 26541, 26543, 26555, 26560, 26565, 26586, 26586, 26591, 26594, 26607, 26612, 26624, 26656, 26670, 26677, 26683, 26710, 26717, 26721, 26723, 26738, 26741, 26745, 26755, 26762, 26763, 26781, 26793, 26797, 26802, 26804, 26804, 26816, 26834, 26858, 26868, 26871, 26872, 26878, 26888, 26897, 26902, 26925, 26935, 26943, 26948, 26955, 26958, 26959, 26977, 26981, 26982, 26988, 26988, 26995, 27022, 27028, 27030, 27042, 27050, 27064, 27071, 27072, 27075, 27077, 27081, 27105, 27111, 27121, 27128, 27133, 27160, 27172, 27209, 27210, 27229, 27230, 27262, 27271, 27284, 27292, 27293, 27299, 27300, 27308, 27308, 27340, 27341, 27342, 27393, 27418, 27419, 27434, 27442, 27477, 27548, 27556, 27574, 27574, 27584, 27586, 27605, 27616, 27619, 27622, 27624, 27625, 27629, 27638, 27638, 27646, 27651, 27663, 27664, 27674, 27674, 27685, 27701, 27705, 27706, 27707, 27715, 27723, 27726, 27730, 27732, 27734, 27751, 27779, 27798, 27803, 27807, 27849, 27849, 27869, 27874, 27882, 27883, 27896, 27927, 27940, 27943, 27956, 27965, 27975, 27978, 27980, 27984, 27993, 28002, 28030, 28037, 28039, 28041, 28062, 28076, 28081, 28085, 28093, 28093, 28125, 28132, 28139, 28145, 28161, 28170, 28175, 28177, 28201, 28204, 28205, 28208, 28213, 28237, 28238, 28296, 28306, 28308, 28311, 28313, 28313, 28323, 28354, 28365, 28367, 28404, 28412, 28418, 28421, 28422, 28431, 28445, 28454, 28472, 28478, 28488, 28520, 28532, 28542, 28544, 28545, 28547, 28577, 28578, 28583, 28591, 28600, 28609, 28610, 28617, 28620, 28622, 28637, 28642, 28645, 28652, 28655, 28668, 28670, 28672, 28685, 28688, 28705, 28721, 28725, 28734, 28750, 28752, 28758, 28761, 28769, 28773, 28786, 28787, 28790, 28813, 28815, 28821, 28832, 28838, 28840, 28840, 28842, 28858, 28872, 28873, 28876, 28902, 28929, 28930, 28934, 28958, 28974, 28976, 28978, 28982, 28988, 28992, 29013, 29024, 29024, 29028, 29029, 29033, 29037, 29046, 29050, 29062, 29098, 29112, 29118, 29146, 29154, 29165, 29176, 29183, 29189, 29193, 29196, 29201, 29201, 29213, 29277, 29278, 29282, 29288, 29295, 29323, 29339, 29351, 29358, 29368, 29370, 29401, 29402, 29405, 29429, 29430, 29440, 29457, 29499, 29515, 29533, 29540, 29544, 29554, 29560, 29570, 29581, 29594, 29630, 29633, 29641, 29651, 29652, 29680, 29685, 29691, 29701, 29711, 29713, 29729, 29729, 29732, 29737, 29757, 29762, 29774, 29793, 29802, 29806, 29807, 29816, 29823, 29827, 29830, 29842, 29854, 29856, 29880, 29902, 29906, 29910, 29923, 29931, 29939, 29957, 29967, 29968, 29969, 29976, 29979, 29992, 30002, 30010, 30020, 30024, 30025, 30026, 30033, 30034, 30037, 30038, 30038, 30051, 30052, 30076, 30127, 30133, 30150, 30187, 30187, 30188, 30196, 30198, 30211, 30229, 30232, 30238, 30242, 30245, 30249, 30280, 30284, 30291, 30296, 30301, 30318, 30335, 30336, 30339, 30350, 30368, 30373, 30375, 30391, 30406, 30410, 30420, 30424, 30438, 30439, 30450, 30451, 30465, 30478, 30481, 30500, 30503, 30503, 30510, 30511, 30512, 30517, 30529, 30532, 30532, 30534, 30546, 30566, 30570, 30588, 30594, 30595, 30606, 30625, 30629, 30634, 30636, 30645, 30660, 30670, 30676, 30676, 30690, 30694, 30699, 30715, 30717, 30735, 30737, 30737, 30738, 30739, 30765, 30778, 30787, 30789, 30797, 30800, 30803, 30804, 30827, 30836, 30843, 30844, 30853, 30862, 30868, 30869, 30881, 30884, 30899, 30917, 30917, 30939, 30956, 30958, 30962, 30979, 30992, 30995, 31005, 31051, 31052, 31053, 31088, 31099, 31115, 31117, 31131, 31134, 31156, 31162, 31178, 31183, 31185, 31198, 31198, 31206, 31208, 31239, 31242, 31249, 31253, 31254, 31255, 31272, 31277, 31285, 31287, 31293, 31293, 31293, 31304, 31312, 31317, 31324, 31330, 31333, 31337, 31341, 31351, 31356, 31358, 31383, 31389, 31395, 31395, 31401, 31405, 31415, 31422, 31436, 31441, 31446, 31449, 31453, 31453, 31457, 31463, 31470, 31485, 31488, 31489, 31505, 31515, 31529, 31529, 31534, 31538, 31558, 31570, 31571, 31591, 31611, 31612, 31613, 31617, 31617, 31637, 31653, 31656, 31658, 31658, 31662, 31683, 31688, 31716, 31717, 31722, 31735, 31743, 31752, 31783, 31791, 31828, 31832, 31835, 31840, 31843, 31844, 31870, 31870, 31872, 31882, 31903, 31906, 31919, 31920, 31966, 31971, 31974, 31979, 31985, 31999, 32024, 32032, 32034, 32037, 32044, 32066, 32085, 32100, 32105, 32107, 32108, 32116, 32119, 32135, 32136, 32137, 32152, 32159, 32171, 32180, 32192, 32193, 32207, 32211, 32213, 32217, 32232, 32248, 32250, 32295, 32311, 32338, 32347, 32351, 32356, 32360, 32368, 32374, 32391, 32393, 32399, 32400, 32402, 32407, 32414, 32414, 32422, 32452, 32467, 32471, 32484, 32490, 32504, 32507, 32508, 32526, 32532, 32536, 32555, 32574, 32575, 32587, 32594, 32613, 32628, 32667, 32672, 32674, 32674, 32702, 32705, 32715, 32715, 32717, 32719, 32729, 32732, 32752, 32757, 32762, 32767, 32775, 32783, 32786, 32799, 32803, 32809, 32833, 32852, 32864, 32875, 32878, 32880, 32886, 32887, 32891, 32907, 32923, 32925, 32934, 32935, 32935, 32952, 32956, 32976, 32979, 32988, 32998, 32999, 33014, 33022, 33028, 33039, 33044, 33052, 33054, 33066, 33086, 33102, 33105, 33108, 33113, 33117, 33125, 33125, 33128, 33130, 33178, 33212, 33220, 33222, 33228, 33233, 33244, 33263, 33267, 33274, 33275, 33280, 33321, 33326, 33343, 33344, 33345, 33349, 33355, 33372, 33388, 33400, 33405, 33407, 33464, 33472, 33473, 33473, 33515, 33522, 33523, 33526, 33545, 33551, 33556, 33560, 33571, 33581, 33602, 33611, 33614, 33615, 33618, 33619, 33635, 33682, 33684, 33696, 33701, 33716, 33722, 33723, 33723, 33741, 33761, 33770, 33780, 33781, 33787, 33794, 33803, 33809, 33820, 33822, 33822, 33835, 33836, 33845, 33861, 33880, 33892, 33899, 33899, 33938, 33954, 33966, 33967, 33969, 33975, 33975, 33991, 33998, 33999, 34002, 34005, 34025, 34026, 34034, 34042, 34043, 34044, 34052, 34058, 34075, 34078, 34084, 34085, 34088, 34095, 34110, 34112, 34121, 34134, 34150, 34157, 34158, 34159, 34165, 34177, 34179, 34184, 34201, 34204, 34232, 34232, 34233, 34236, 34241, 34259, 34261, 34266, 34276, 34311, 34325, 34344, 34348, 34363, 34365, 34368, 34370, 34374, 34397, 34398, 34400, 34411, 34424, 34425, 34433, 34442, 34454, 34458, 34476, 34493, 34496, 34509, 34513, 34517, 34526, 34526, 34535, 34556, 34560, 34564, 34570, 34587, 34598, 34602, 34607, 34621, 34622, 34622, 34628, 34635, 34659, 34667, 34675, 34700, 34706, 34708, 34714, 34714, 34715, 34717, 34729, 34752, 34756, 34772, 34780, 34808, 34816, 34830, 34836, 34859, 34860, 34867, 34871, 34871, 34883, 34895, 34903, 34907, 34914, 34920, 34931, 34942, 34965, 34966, 34966, 34975, 34976, 34977, 34987, 35006, 35035, 35038, 35039, 35042, 35044, 35045, 35045, 35050, 35056, 35063, 35071, 35085, 35093, 35104, 35116, 35117, 35156, 35159, 35166, 35169, 35184, 35185, 35213, 35213, 35217, 35218, 35221, 35231, 35240, 35255, 35257, 35266, 35288, 35297, 35300, 35309, 35314, 35315, 35315, 35326, 35357, 35367, 35380, 35404, 35433, 35434, 35442, 35450, 35471, 35472, 35476, 35495, 35502, 35515, 35517, 35535, 35540, 35544, 35557, 35559, 35570, 35572, 35576, 35579, 35586, 35631, 35642, 35657, 35665, 35669, 35678, 35679, 35705, 35710, 35711, 35734, 35744, 35746, 35752, 35781, 35782, 35792, 35795, 35806, 35813, 35816, 35830, 35832, 35835, 35836, 35839, 35864, 35876, 35903, 35904, 35942, 35942, 35958, 35960, 35964, 35966, 35972, 35999, 36004, 36005, 36012, 36030, 36034, 36037, 36050, 36055, 36062, 36083, 36088, 36091, 36108, 36124, 36135, 36138, 36148, 36175, 36176, 36178, 36181, 36183, 36205, 36210, 36212, 36214, 36220, 36250, 36282, 36308, 36311, 36311, 36314, 36320, 36327, 36345, 36360, 36365, 36373, 36382, 36390, 36392, 36397, 36404, 36408, 36417, 36427, 36429, 36431, 36434, 36437, 36443, 36444, 36457, 36461, 36466, 36515, 36538, 36540, 36542, 36552, 36593, 36603, 36610, 36629, 36637, 36652, 36655, 36665, 36669, 36674, 36679, 36704, 36705, 36719, 36722, 36726, 36751, 36778, 36794, 36811, 36814, 36841, 36848, 36849, 36861, 36870, 36872, 36873, 36886, 36901, 36909, 36920, 36942, 36944, 36955, 36956, 36956, 36957, 36966, 36971, 36991, 37002, 37035, 37036, 37037, 37038, 37061, 37069, 37072, 37075, 37092, 37107, 37123, 37130, 37134, 37134, 37148, 37149, 37155, 37174, 37180, 37186, 37196, 37201, 37203, 37211, 37216, 37236, 37245, 37251, 37257, 37274, 37287, 37290, 37291, 37293, 37303, 37315, 37334, 37358, 37361, 37361, 37380, 37381, 37385, 37406, 37437, 37447, 37477, 37482, 37485, 37494, 37496, 37499, 37500, 37500, 37506, 37522, 37523, 37536, 37564, 37564, 37567, 37574, 37576, 37592, 37609, 37617, 37622, 37628, 37630, 37633, 37638, 37651, 37654, 37659, 37692, 37694, 37697, 37738, 37740, 37761, 37785, 37788, 37801, 37815, 37827, 37852, 37855, 37861, 37869, 37871, 37874, 37876, 37881, 37888, 37894, 37896, 37897, 37922, 37926, 37932, 37943, 37949, 37951, 37960, 37978, 37979, 37987, 37995, 37999, 38002, 38017, 38019, 38027, 38031, 38037, 38060, 38074, 38077, 38081, 38089, 38097, 38106, 38199, 38205, 38216, 38217, 38223, 38234, 38239, 38264, 38292, 38295, 38303, 38311, 38327, 38333, 38341, 38344, 38386, 38389, 38395, 38396, 38399, 38405, 38407, 38413, 38433, 38440, 38454, 38454, 38455, 38458, 38466, 38466, 38469, 38477, 38480, 38482, 38503, 38504, 38505, 38535, 38544, 38582, 38584, 38584, 38599, 38640, 38641, 38643, 38648, 38655, 38662, 38678, 38679, 38685, 38688, 38712, 38723, 38739, 38741, 38742, 38745, 38753, 38758, 38767, 38779, 38794, 38797, 38800, 38801, 38806, 38820, 38830, 38842, 38859, 38863, 38870, 38878, 38880, 38889, 38895, 38904, 38913, 38923, 38937, 38949, 38973, 38985, 38989, 39021, 39022, 39028, 39033, 39050, 39056, 39061, 39067, 39071, 39079, 39088, 39093, 39117, 39124, 39132, 39143, 39145, 39158, 39175, 39184, 39186, 39223, 39259, 39295, 39327, 39340, 39352, 39370, 39377, 39383, 39492, 39504, 39508, 39512, 39545, 39563, 39565, 39572, 39590, 39591, 39600, 39606, 39609, 39656, 39657, 39660, 39671, 39674, 39676, 39680, 39682, 39734, 39743, 39750, 39779, 39784, 39795, 39817, 39820, 39822, 39835, 39840, 39881, 39891, 39893, 39894, 39894, 39905, 39946, 39953, 39957, 39958, 39959, 39961, 39975, 39978, 39986, 39993, 40007, 40011, 40016, 40023, 40028, 40037, 40042, 40049, 40056, 40058, 40062, 40070, 40074, 40078, 40090, 40100, 40106, 40132, 40135, 40145, 40148, 40149, 40151, 40159, 40165, 40177, 40205, 40212, 40231, 40234, 40237, 40254, 40273, 40283, 40290, 40319, 40323, 40335, 40355, 40385, 40390, 40415, 40417, 40418, 40425, 40429, 40441, 40453, 40460, 40460, 40488, 40513, 40518, 40548, 40550, 40555, 40559, 40565, 40580, 40592, 40618, 40621, 40622, 40625, 40625, 40631, 40635, 40644, 40667, 40673, 40681, 40691, 40697, 40721, 40721, 40732, 40769, 40774, 40789, 40790, 40795, 40799, 40810, 40816, 40828, 40845, 40851, 40851, 40853, 40854, 40865, 40892, 40925, 40930, 40945, 40947, 40953, 40954, 40971, 40988, 41010, 41018, 41020, 41037, 41042, 41047, 41050, 41051, 41058, 41065, 41081, 41086, 41092, 41116, 41125, 41170, 41171, 41192, 41265, 41265, 41298, 41306, 41315, 41318, 41330, 41346, 41347, 41359, 41374, 41376, 41377, 41415, 41433, 41441, 41449, 41479, 41486, 41502, 41509, 41519, 41523, 41531, 41538, 41547, 41550, 41567, 41580, 41587, 41588, 41603, 41622, 41623, 41651, 41658, 41661, 41673, 41680, 41683, 41688, 41718, 41740, 41751, 41763, 41763, 41769, 41795, 41825, 41834, 41845, 41853, 41861, 41870, 41885, 41899, 41900, 41903, 41936, 41940, 41943, 41954, 41972, 41988, 42002, 42020, 42021, 42039, 42051, 42052, 42054, 42064, 42071, 42102, 42115, 42118, 42137, 42140, 42148, 42161, 42161, 42177, 42192, 42197, 42197, 42207, 42221, 42225, 42231, 42236, 42247, 42249, 42252, 42280, 42297, 42305, 42311, 42317, 42332, 42334, 42355, 42359, 42380, 42384, 42395, 42402, 42410, 42412, 42413, 42417, 42429, 42431, 42436, 42441, 42452, 42454, 42456, 42465, 42470, 42472, 42487, 42488, 42497, 42510, 42514, 42523, 42527, 42531, 42533, 42537, 42553, 42563, 42563, 42577, 42583, 42607, 42608, 42622, 42631, 42639, 42651, 42663, 42690, 42701, 42705, 42705, 42707, 42710, 42719, 42735, 42738, 42759, 42772, 42776, 42788, 42792, 42793, 42795, 42800, 42833, 42843, 42846, 42847, 42861, 42861, 42862, 42880, 42899, 42910, 42915, 42916, 42924, 42948, 42951, 42969, 42971, 42972, 42975, 42975, 42978, 43011, 43011, 43046, 43047, 43050, 43060, 43074, 43074, 43077, 43078, 43085, 43089, 43098, 43100, 43121, 43130, 43157, 43164, 43169, 43175, 43177, 43198, 43204, 43205, 43242, 43260, 43262, 43263, 43279, 43285, 43286, 43293, 43329, 43329, 43337, 43354, 43363, 43380, 43405, 43418, 43423, 43433, 43452, 43485, 43493, 43493, 43495, 43511, 43538, 43545, 43545, 43569, 43571, 43574, 43576, 43584, 43584, 43590, 43593, 43609, 43621, 43624, 43635, 43655, 43675, 43688, 43720, 43722, 43733, 43758, 43770, 43771, 43773, 43778, 43793, 43802, 43808, 43827, 43827, 43840, 43843, 43849, 43855, 43867, 43886, 43889, 43932, 43942, 43965, 44002, 44021, 44022, 44037, 44064, 44065, 44068, 44071, 44074, 44077, 44080, 44086, 44102, 44115, 44116, 44120, 44123, 44123, 44128, 44156, 44160, 44167, 44173, 44176, 44184, 44187, 44214, 44220, 44244, 44245, 44282, 44286, 44296, 44310, 44324, 44365, 44365, 44368, 44389, 44389, 44393, 44393, 44404, 44415, 44419, 44434, 44458, 44463, 44463, 44473, 44486, 44493, 44518, 44528, 44535, 44540, 44550, 44552, 44559, 44580, 44586, 44588, 44591, 44593, 44623, 44657, 44684, 44710, 44712, 44713, 44724, 44726, 44727, 44729, 44731, 44743, 44744, 44751, 44753, 44754, 44755, 44761, 44781, 44789, 44801, 44830, 44833, 44839, 44844, 44845, 44847, 44848, 44855, 44864, 44872, 44873, 44884, 44884, 44897, 44897, 44913, 44932, 44950, 44963, 44970, 44971, 44978, 44988, 44995, 44999, 45018, 45019, 45054, 45065, 45071, 45088, 45098, 45115, 45124, 45144, 45155, 45160, 45164, 45178, 45194, 45198, 45215, 45238, 45244, 45272, 45278, 45292, 45297, 45304, 45309, 45316, 45326, 45333, 45341, 45345, 45353, 45385, 45412, 45440, 45460, 45472, 45475, 45477, 45485, 45489, 45495, 45503, 45525, 45532, 45532, 45542, 45564, 45575, 45605, 45610, 45619, 45636, 45646, 45656, 45667, 45685, 45707, 45718, 45719, 45724, 45730, 45736, 45737, 45752, 45767, 45769, 45770, 45788, 45793, 45801, 45819, 45822, 45823, 45844, 45860, 45860, 45863, 45868, 45886, 45889, 45906, 45913, 45913, 45946, 45951, 45957, 45961, 45967, 45975, 45985, 45995, 46012, 46018, 46019, 46026, 46028, 46030, 46038, 46041, 46051, 46065, 46090, 46110, 46110, 46159, 46174, 46178, 46181, 46185, 46187, 46194, 46212, 46224, 46242, 46258, 46261, 46275, 46280, 46284, 46287, 46292, 46320, 46324, 46355, 46356, 46356, 46377, 46378, 46386, 46403, 46404, 46415, 46421, 46429, 46429, 46438, 46440, 46446, 46480, 46484, 46488, 46497, 46502, 46529, 46543, 46554, 46566, 46578, 46586, 46602, 46603, 46620, 46624, 46639, 46655, 46661, 46674, 46677, 46690, 46700, 46710, 46739, 46745, 46761, 46773, 46776, 46808, 46812, 46831, 46837, 46844, 46845, 46847, 46854, 46860, 46875, 46898, 46913, 46922, 46934, 46959, 46971, 46986, 47000, 47015, 47016, 47032, 47037, 47084, 47085, 47094, 47096, 47098, 47138, 47148, 47164, 47166, 47178, 47189, 47198, 47204, 47209, 47219, 47238, 47242, 47249, 47253, 47264, 47266, 47269, 47279, 47284, 47285, 47296, 47302, 47342, 47369, 47398, 47413, 47429, 47429, 47431, 47435, 47436, 47439, 47440, 47447, 47469, 47474, 47477, 47482, 47510, 47519, 47537, 47552, 47573, 47573, 47593, 47595, 47598, 47612, 47612, 47613, 47648, 47656, 47658, 47664, 47666, 47681, 47710, 47714, 47731, 47753, 47762, 47790, 47805, 47833, 47835, 47841, 47843, 47874, 47891, 47891, 47904, 47905, 47907, 47907, 47912, 47925, 47944, 47944, 47945, 47953, 47980, 48002, 48019, 48022, 48025, 48031, 48052, 48058, 48063, 48076, 48090, 48101, 48108, 48110, 48111, 48117, 48119, 48121, 48149, 48153, 48156, 48159, 48162, 48165, 48166, 48172, 48173, 48176, 48178, 48194, 48205, 48207, 48216, 48221, 48230, 48233, 48237, 48265, 48274, 48275, 48277, 48288, 48299, 48299, 48302, 48315, 48318, 48325, 48326, 48343, 48348, 48359, 48395, 48432, 48432, 48438, 48447, 48454, 48477, 48481, 48485, 48501, 48509, 48514, 48519, 48524, 48532, 48532, 48551, 48578, 48583, 48584, 48590, 48648, 48658, 48661, 48670, 48676, 48687, 48703, 48709, 48713, 48717, 48735, 48740, 48756, 48775, 48780, 48785, 48791, 48791, 48808, 48841, 48865, 48867, 48870, 48887, 48887, 48901, 48902, 48910, 48911, 48922, 48938, 48963, 48992, 48996, 48997, 48997, 49006, 49011, 49012, 49037, 49047, 49076, 49085, 49092, 49098, 49103, 49116, 49117, 49145, 49151, 49156, 49157, 49158, 49165, 49166, 49177, 49195, 49206, 49216, 49221, 49235, 49235, 49245, 49253, 49281, 49296, 49328, 49330, 49333, 49345, 49365, 49375, 49378, 49380, 49398, 49427, 49432, 49434, 49483, 49511, 49514, 49524, 49527, 49527, 49536, 49537, 49544, 49561, 49569, 49579, 49584, 49595, 49595, 49599, 49607, 49619, 49646, 49647, 49664, 49675, 49675, 49702, 49723, 49724, 49730, 49735, 49737, 49740, 49745, 49763, 49767, 49773, 49783, 49792, 49793, 49794, 49795, 49799, 49800, 49819, 49833, 49842, 49871, 49881, 49883, 49903, 49903, 49926, 49951, 49965, 49967, 49969, 49978, 49981, 49983, 49983, 49998, 50034, 50035, 50037, 50038, 50045, 50053, 50084, 50093, 50101, 50101, 50125, 50142, 50154, 50189, 50196, 50224, 50228, 50228, 50239, 50244, 50263, 50264, 50265, 50268, 50271, 50282, 50288, 50320, 50321, 50328, 50343, 50344, 50349, 50355, 50361, 50365, 50396, 50406, 50408, 50437, 50441, 50465, 50467, 50467, 50480, 50482, 50496, 50500, 50513, 50513, 50520, 50531, 50541, 50545, 50549, 50550, 50560, 50583, 50591, 50599, 50606, 50609, 50627, 50642, 50648, 50648, 50651, 50652, 50690, 50722, 50760, 50761, 50768, 50777, 50803, 50809, 50821, 50826, 50827, 50859, 50860, 50869, 50873, 50878, 50902, 50903, 50906, 50912, 50918, 50923, 50940, 50958, 50977, 50994, 50995, 51004, 51012, 51014, 51019, 51048, 51068, 51083, 51093, 51108, 51110, 51112, 51112, 51116, 51132, 51139, 51151, 51153, 51153, 51154, 51155, 51158, 51163, 51170, 51173, 51176, 51209, 51211, 51263, 51268, 51269, 51309, 51332, 51397, 51402, 51404, 51412, 51422, 51429, 51436, 51440, 51450, 51460, 51471, 51478, 51489, 51489, 51490, 51499, 51504, 51513, 51533, 51548, 51560, 51563, 51570, 51580, 51606, 51617, 51626, 51645, 51649, 51672, 51673, 51674, 51674, 51681, 51720, 51742, 51745, 51751, 51771, 51776, 51780, 51782, 51794, 51807, 51817, 51839, 51839, 51860, 51864, 51868, 51878, 51881, 51887, 51900, 51946, 51948, 51961, 51976, 51988, 51997, 52013, 52031, 52038, 52051, 52059, 52075, 52079, 52106, 52120, 52125, 52131, 52133, 52140, 52146, 52153, 52157, 52176, 52180, 52185, 52204, 52207, 52224, 52238, 52244, 52250, 52252, 52267, 52273, 52274, 52276, 52282, 52292, 52309, 52314, 52318, 52320, 52325, 52332, 52340, 52347, 52384, 52386, 52413, 52414, 52424, 52425, 52439, 52444, 52457, 52468, 52492, 52506, 52513, 52536, 52565, 52569, 52571, 52576, 52598, 52614, 52632, 52641, 52641, 52658, 52684, 52686, 52704, 52710, 52735, 52746, 52746, 52762, 52765, 52771, 52773, 52779, 52783, 52786, 52786, 52817, 52820, 52832, 52866, 52870, 52872, 52876, 52887, 52893, 52902, 52904, 52917, 52918, 52922, 52936, 52963, 52968, 52973, 52980, 52981, 52996, 53002, 53003, 53011, 53020, 53022, 53028, 53032, 53036, 53045, 53060, 53067, 53071, 53074, 53079, 53082, 53090, 53095, 53117, 53129, 53151, 53155, 53156, 53158, 53163, 53173, 53195, 53213, 53225, 53248, 53255, 53266, 53277, 53281, 53308, 53320, 53331, 53341, 53352, 53353, 53367, 53368, 53371, 53401, 53401, 53406, 53410, 53420, 53435, 53457, 53476, 53488, 53493, 53502, 53507, 53514, 53514, 53549, 53559, 53578, 53589, 53608, 53621, 53626, 53632, 53644, 53650, 53663, 53677, 53677, 53684, 53684, 53688, 53693, 53717, 53721, 53724, 53731, 53746, 53752, 53779, 53788, 53838, 53847, 53853, 53854, 53854, 53864, 53867, 53874, 53882, 53925, 53940, 53941, 53946, 53997, 54001, 54006, 54010, 54031, 54035, 54052, 54088, 54097, 54104, 54106, 54109, 54112, 54123, 54133, 54143, 54147, 54162, 54174, 54186, 54188, 54204, 54206, 54208, 54223, 54228, 54269, 54277, 54298, 54331, 54366, 54382, 54397, 54401, 54410, 54412, 54413, 54414, 54415, 54422, 54434, 54438, 54441, 54450, 54451, 54461, 54466, 54497, 54499, 54500, 54508, 54528, 54536, 54541, 54545, 54561, 54575, 54579, 54579, 54591, 54596, 54596, 54598, 54601, 54607, 54628, 54640, 54651, 54655, 54678, 54681, 54685, 54690, 54696, 54705, 54722, 54747, 54768, 54777, 54779, 54786, 54793, 54825, 54850, 54858, 54866, 54890, 54911, 54911, 54915, 54921, 54929, 54930, 54942, 54949, 54959, 54962, 54983, 54988, 55008, 55012, 55015, 55018, 55020, 55023, 55038, 55038, 55049, 55049, 55059, 55062, 55064, 55064, 55086, 55088, 55108, 55114, 55123, 55127, 55146, 55148, 55156, 55163, 55166, 55168, 55174, 55181, 55188, 55208, 55209, 55210, 55212, 55234, 55246, 55252, 55253, 55255, 55280, 55286, 55288, 55290, 55290, 55297, 55297, 55316, 55327, 55331, 55335, 55346, 55349, 55367, 55413, 55417, 55425, 55430, 55430, 55439, 55440, 55440, 55453, 55460, 55463, 55467, 55469, 55488, 55492, 55500, 55526, 55529, 55531, 55536, 55544, 55570, 55588, 55589, 55601, 55605, 55652, 55654, 55688, 55689, 55698, 55710, 55713, 55736, 55747, 55755, 55756, 55763, 55766, 55767, 55771, 55775, 55780, 55780, 55789, 55791, 55792, 55793, 55811, 55828, 55828, 55839, 55850, 55862, 55865, 55869, 55869, 55881, 55892, 55895, 55895, 55910, 55924, 55929, 55952, 55966, 55966, 55984, 55993, 56003, 56018, 56023, 56056, 56071, 56074, 56077, 56087, 56093, 56096, 56104, 56105, 56115, 56116, 56150, 56153, 56154, 56156, 56191, 56201, 56216, 56240, 56256, 56256, 56260, 56263, 56276, 56277, 56279, 56292, 56297, 56301, 56304, 56309, 56309, 56311, 56311, 56315, 56337, 56340, 56345, 56357, 56365, 56380, 56381, 56398, 56399, 56401, 56419, 56422, 56435, 56437, 56443, 56461, 56477, 56484, 56516, 56551, 56563, 56567, 56579, 56587, 56592, 56616, 56620, 56621, 56635, 56639, 56652, 56654, 56703, 56746, 56751, 56770, 56772, 56775, 56787, 56791, 56798, 56799, 56827, 56829, 56839, 56878, 56881, 56884, 56921, 56931, 56935, 56943, 56947, 56947, 56962, 56974, 56975, 56992, 57013, 57025, 57025, 57027, 57028, 57037, 57054, 57091, 57097, 57098, 57109, 57112, 57113, 57123, 57128, 57131, 57131, 57135, 57136, 57139, 57152, 57178, 57178, 57179, 57196, 57201, 57203, 57207, 57213, 57229, 57238, 57242, 57284, 57294, 57342, 57367, 57372, 57421, 57428, 57429, 57433, 57443, 57445, 57451, 57460, 57468, 57471, 57490, 57506, 57514, 57535, 57550, 57574, 57579, 57582, 57615, 57619, 57622, 57628, 57629, 57641, 57659, 57663, 57669, 57681, 57688, 57690, 57711, 57713, 57741, 57746, 57758, 57767, 57772, 57792, 57804, 57815, 57820, 57821, 57847, 57853, 57885, 57887, 57893, 57912, 57913, 57944, 57952, 57954, 57960, 57981, 57982, 57986, 58016, 58021, 58025, 58028, 58029, 58045, 58050, 58051, 58054, 58079, 58081, 58092, 58094, 58144, 58145, 58146, 58167, 58171, 58178, 58203, 58206, 58207, 58222, 58222, 58225, 58239, 58249, 58267, 58269, 58275, 58281, 58282, 58292, 58296, 58296, 58306, 58340, 58354, 58355, 58420, 58433, 58464, 58488, 58507, 58512, 58512, 58524, 58554, 58557, 58557, 58582, 58590, 58607, 58628, 58656, 58674, 58691, 58709, 58717, 58732, 58741, 58742, 58747, 58764, 58790, 58864, 58873, 58879, 58897, 58897, 58913, 58915, 58944, 58945, 58953, 58985, 59005, 59012, 59024, 59027, 59034, 59036, 59054, 59056, 59059, 59061, 59070, 59070, 59080, 59090, 59094, 59097, 59104, 59106, 59116, 59122, 59144, 59163, 59182, 59184, 59190, 59209, 59211, 59212, 59217, 59222, 59226, 59234, 59235, 59242, 59243, 59251, 59256, 59270, 59273, 59276, 59284, 59288, 59301, 59302, 59315, 59339, 59344, 59353, 59356, 59364, 59367, 59386, 59393, 59398, 59424, 59424, 59427, 59439, 59440, 59448, 59465, 59470, 59504, 59505, 59514, 59538, 59548, 59561, 59583, 59588, 59600, 59600, 59602, 59605, 59637, 59638, 59667, 59680, 59683, 59723, 59732, 59732, 59733, 59747, 59758, 59780, 59790, 59802, 59807, 59819, 59820, 59829, 59833, 59845, 59857, 59859, 59889, 59897, 59923, 59924, 59949, 59970, 59980, 59990, 60000, 60009, 60018, 60022, 60030, 60039, 60054, 60058, 60067, 60083, 60091, 60095, 60097, 60129, 60135, 60145, 60151, 60154, 60158, 60178, 60184, 60184, 60187, 60201, 60216, 60217, 60238, 60256, 60267, 60274, 60274, 60287, 60289, 60291, 60293, 60299, 60328, 60342, 60347, 60351, 60368, 60370, 60381, 60391, 60401, 60404, 60411, 60415, 60437, 60441, 60445, 60448, 60457, 60465, 60496, 60517, 60519, 60520, 60526, 60534, 60539, 60549, 60553, 60569, 60570, 60571, 60578, 60606, 60630, 60637, 60656, 60658, 60672, 60684, 60689, 60717, 60723, 60724, 60737, 60737, 60738, 60744, 60751, 60775, 60803, 60808, 60831, 60841, 60855, 60862, 60863, 60875, 60876, 60876, 60892, 60901, 60904, 60909, 60910, 60917, 60927, 60941, 60950, 60956, 60957, 60973, 60977, 60984, 61001, 61003, 61008, 61014, 61029, 61044, 61047, 61048, 61063, 61073, 61111, 61125, 61157, 61190, 61220, 61235, 61236, 61243, 61246, 61246, 61255, 61302, 61319, 61324, 61326, 61341, 61345, 61353, 61369, 61380, 61380, 61392, 61392, 61398, 61438, 61440, 61447, 61470, 61490, 61495, 61518, 61522, 61535, 61542, 61560, 61579, 61592, 61599, 61602, 61606, 61613, 61613, 61613, 61643, 61647, 61658, 61670, 61678, 61681, 61721, 61727, 61740, 61747, 61755, 61760, 61772, 61775, 61781, 61782, 61785, 61788, 61842, 61848, 61849, 61872, 61877, 61880, 61886, 61906, 61918, 61919, 61919, 61929, 61951, 61953, 61959, 61962, 61974, 61977, 61985, 61988, 61990, 62032, 62037, 62045, 62050, 62080, 62083, 62110, 62111, 62111, 62125, 62127, 62136, 62154, 62163, 62164, 62196, 62197, 62212, 62223, 62239, 62278, 62282, 62296, 62307, 62317, 62321, 62322, 62326, 62331, 62345, 62355, 62362, 62367, 62368, 62399, 62416, 62422, 62439, 62446, 62469, 62478, 62482, 62483, 62489, 62490, 62501, 62505, 62509, 62510, 62515, 62528, 62541, 62557, 62565, 62577, 62577, 62581, 62586, 62588, 62615, 62615, 62619, 62628, 62645, 62654, 62665, 62675, 62676, 62717, 62722, 62729, 62737, 62744, 62747, 62753, 62772, 62772, 62782, 62783, 62799, 62829, 62832, 62835, 62853, 62857, 62858, 62860, 62865, 62880, 62884, 62896, 62906, 62921, 62924, 62931, 62953, 62958, 62959, 62962, 62973, 63033, 63039, 63053, 63056, 63065, 63082, 63093, 63096, 63098, 63101, 63101, 63132, 63140, 63147, 63166, 63199, 63205, 63205, 63222, 63233, 63245, 63247, 63266, 63288, 63290, 63296, 63301, 63316, 63328, 63358, 63360, 63363, 63387, 63391, 63405, 63440, 63441, 63446, 63453, 63473, 63477, 63486, 63499, 63504, 63575, 63580, 63584, 63589, 63592, 63597, 63611, 63637, 63639, 63650, 63660, 63672, 63682, 63714, 63728, 63732, 63739, 63741, 63745, 63752, 63752, 63755, 63758, 63769, 63792, 63792, 63798, 63811, 63836, 63844, 63857, 63859, 63862, 63872, 63886, 63887, 63896, 63900, 63900, 63904, 63909, 63909, 63958, 63960, 63964, 63965, 63984, 63990, 64041, 64048, 64068, 64082, 64123, 64123, 64128, 64136, 64176, 64179, 64192, 64197, 64198, 64209, 64210, 64213, 64217, 64220, 64223, 64247, 64269, 64271, 64272, 64285, 64297, 64297, 64327, 64328, 64335, 64358, 64361, 64399, 64412, 64414, 64418, 64421, 64437, 64456, 64495, 64512, 64527, 64537, 64538, 64569, 64578, 64580, 64584, 64611, 64618, 64624, 64627, 64635, 64638, 64653, 64657, 64669, 64674, 64684, 64684, 64696, 64697, 64708, 64737, 64739, 64750, 64753, 64761, 64774, 64777, 64785, 64792, 64794, 64805, 64864, 64901, 64911, 64918, 64955, 64964, 64970, 64988, 65022, 65038, 65041, 65054, 65065, 65074, 65100, 65100, 65101, 65109, 65122, 65123, 65131, 65136, 65139, 65147, 65148, 65154, 65179, 65208, 65213, 65221, 65228, 65238, 65249, 65268, 65292, 65295, 65336, 65341, 65350, 65357, 65379, 65392, 65397, 65400, 65411, 65422, 65425, 65426, 65436, 65447, 65468, 65496, 65500, 65514, 65517, 65528, 65528, 65530, 65539, 65539, 65554, 65565, 65569, 65572, 65574, 65597, 65612, 65620, 65626, 65628, 65634, 65649, 65666, 65668, 65682, 65693, 65693, 65699, 65700, 65707, 65718, 65720, 65724, 65751, 65758, 65794, 65796, 65801, 65813, 65817, 65821, 65834, 65875, 65882, 65888, 65888, 65900, 65916, 65940, 65940, 65964, 65965, 65996, 66013, 66020, 66039, 66050, 66055, 66057, 66064, 66075, 66080, 66085, 66086, 66099, 66129, 66131, 66158, 66160, 66184, 66195, 66208, 66225, 66232, 66250, 66260, 66263, 66268, 66273, 66276, 66286, 66287, 66288, 66293, 66307, 66314, 66326, 66332, 66348, 66372, 66372, 66375, 66375, 66378, 66389, 66391, 66402, 66405, 66416, 66417, 66424, 66427, 66429, 66430, 66450, 66473, 66478, 66482, 66487, 66491, 66496, 66506, 66507, 66517, 66557, 66557, 66564, 66566, 66576, 66584, 66595, 66601, 66607, 66608, 66611, 66622, 66629, 66630, 66641, 66642, 66654, 66669, 66685, 66686, 66693, 66704, 66705, 66709, 66736, 66759, 66793, 66808, 66820, 66821, 66839, 66874, 66886, 66898, 66904, 66920, 66952, 66983, 66996, 66998, 67006, 67011, 67012, 67013, 67013, 67024, 67030, 67034, 67043, 67051, 67052, 67055, 67061, 67065, 67069, 67070, 67073, 67079, 67088, 67089, 67093, 67105, 67106, 67109, 67119, 67120, 67128, 67140, 67160, 67162, 67185, 67196, 67205, 67205, 67216, 67219, 67225, 67228, 67239, 67244, 67259, 67260, 67268, 67278, 67302, 67302, 67306, 67310, 67324, 67335, 67347, 67348, 67350, 67352, 67362, 67366, 67373, 67389, 67392, 67392, 67394, 67412, 67412, 67419, 67430, 67433, 67481, 67487, 67497, 67515, 67539, 67541, 67546, 67548, 67557, 67583, 67588, 67601, 67604, 67611, 67613, 67617, 67622, 67623, 67624, 67630, 67634, 67661, 67676, 67686, 67687, 67714, 67724, 67737, 67758, 67761, 67761, 67766, 67766, 67780, 67792, 67793, 67832, 67839, 67840, 67843, 67844, 67876, 67878, 67888, 67928, 67931, 67941, 67958, 67971, 67975, 67976, 67987, 67993, 68009, 68018, 68030, 68037, 68040, 68041, 68046, 68048, 68070, 68072, 68088, 68108, 68110, 68120, 68130, 68132, 68144, 68156, 68167, 68172, 68184, 68190, 68205, 68210, 68212, 68214, 68219, 68233, 68244, 68249, 68262, 68270, 68290, 68294, 68315, 68357, 68359, 68363, 68378, 68387, 68391, 68411, 68416, 68417, 68418, 68422, 68429, 68440, 68445, 68447, 68479, 68488, 68491, 68492, 68511, 68533, 68539, 68541, 68567, 68574, 68584, 68588, 68602, 68611, 68622, 68630, 68663, 68667, 68672, 68681, 68684, 68713, 68716, 68719, 68770, 68773, 68773, 68779, 68779, 68793, 68805, 68825, 68832, 68877, 68880, 68880, 68918, 68945, 68954, 68996, 69000, 69005, 69012, 69012, 69018, 69019, 69042, 69063, 69080, 69096, 69099, 69099, 69104, 69112, 69122, 69136, 69159, 69164, 69184, 69184, 69204, 69210, 69211, 69224, 69225, 69227, 69243, 69261, 69270, 69281, 69291, 69295, 69296, 69297, 69305, 69325, 69333, 69340, 69342, 69352, 69357, 69367, 69370, 69378, 69391, 69396, 69426, 69428, 69448, 69450, 69456, 69458, 69459, 69502, 69524, 69565, 69567, 69570, 69578, 69584, 69589, 69591, 69602, 69641, 69643, 69660, 69664, 69674, 69687, 69727, 69736, 69736, 69778, 69790, 69797, 69801, 69801, 69805, 69826, 69844, 69880, 69900, 69917, 69931, 69932, 69939, 69967, 69983, 69987, 69989, 70009, 70010, 70013, 70019, 70032, 70034, 70048, 70050, 70053, 70055, 70059, 70064, 70094, 70110, 70132, 70136, 70137, 70163, 70169, 70175, 70176, 70176, 70177, 70180, 70184, 70189, 70189, 70190, 70200, 70205, 70220, 70236, 70249, 70269, 70279, 70283, 70292, 70297, 70320, 70331, 70333, 70340, 70343, 70346, 70372, 70375, 70379, 70381, 70402, 70417, 70436, 70455, 70476, 70514, 70525, 70529, 70534, 70536, 70541, 70543, 70544, 70547, 70548, 70578, 70578, 70602, 70602, 70615, 70638, 70639, 70649, 70649, 70651, 70651, 70669, 70673, 70687, 70707, 70709, 70714, 70726, 70732, 70763, 70772, 70775, 70793, 70794, 70819, 70833, 70837, 70839, 70843, 70845, 70847, 70850, 70860, 70862, 70868, 70880, 70895, 70905, 70910, 70922, 70926, 70926, 70928, 70931, 70957, 70957, 70959, 70964, 70968, 70972, 70975, 70976, 70979, 70992, 71001, 71002, 71004, 71006, 71008, 71011, 71013, 71014, 71034, 71066, 71076, 71078, 71079, 71082, 71083, 71089, 71097, 71102, 71103, 71103, 71110, 71112, 71117, 71122, 71127, 71147, 71175, 71176, 71179, 71194, 71203, 71208, 71216, 71219, 71222, 71224, 71225, 71229, 71231, 71238, 71239, 71269, 71273, 71274, 71299, 71314, 71317, 71330, 71333, 71338, 71349, 71352, 71360, 71365, 71386, 71387, 71391, 71398, 71400, 71419, 71441, 71444, 71449, 71451, 71457, 71484, 71487, 71492, 71494, 71521, 71528, 71528, 71528, 71531, 71586, 71587, 71593, 71594, 71596, 71599, 71618, 71619, 71621, 71627, 71638, 71650, 71651, 71656, 71657, 71682, 71683, 71695, 71704, 71722, 71728, 71730, 71751, 71756, 71762, 71799, 71818, 71819, 71829, 71850, 71861, 71872, 71876, 71907, 71918, 71935, 71946, 71950, 71953, 71978, 71980, 71983, 72027, 72053, 72061, 72062, 72071, 72081, 72082, 72090, 72091, 72095, 72096, 72101, 72101, 72103, 72104, 72107, 72109, 72128, 72135, 72156, 72167, 72171, 72173, 72177, 72182, 72182, 72193, 72195, 72212, 72222, 72237, 72251, 72253, 72270, 72291, 72306, 72312, 72313, 72323, 72324, 72342, 72358, 72364, 72372, 72377, 72381, 72386, 72389, 72391, 72396, 72401, 72416, 72424, 72425, 72433, 72449, 72452, 72459, 72462, 72464, 72478, 72494, 72501, 72519, 72524, 72531, 72537, 72564, 72574, 72592, 72599, 72608, 72619, 72627, 72628, 72632, 72634, 72637, 72638, 72643, 72648, 72658, 72659, 72685, 72694, 72702, 72704, 72707, 72711, 72712, 72724, 72727, 72730, 72742, 72746, 72747, 72755, 72756, 72763, 72767, 72767, 72780, 72792, 72837, 72843, 72860, 72861, 72866, 72867, 72869, 72872, 72885, 72894, 72898, 72909, 72917, 72918, 72921, 72951, 72956, 72960, 72972, 72974, 72985, 72997, 73001, 73005, 73012, 73015, 73026, 73026, 73034, 73056, 73064, 73079, 73090, 73093, 73099, 73101, 73102, 73118, 73139, 73147, 73165, 73170, 73186, 73194, 73209, 73217, 73223, 73231, 73238, 73247, 73261, 73267, 73280, 73292, 73294, 73302, 73306, 73312, 73316, 73318, 73348, 73349, 73365, 73371, 73380, 73392, 73393, 73400, 73408, 73423, 73441, 73448, 73459, 73462, 73463, 73464, 73471, 73495, 73496, 73510, 73524, 73528, 73544, 73547, 73560, 73581, 73587, 73592, 73597, 73619, 73622, 73631, 73631, 73657, 73694, 73698, 73721, 73723, 73729, 73759, 73762, 73770, 73774, 73774, 73792, 73796, 73801, 73801, 73807, 73809, 73835, 73853, 73870, 73872, 73879, 73881, 73906, 73906, 73909, 73929, 73929, 73940, 73951, 73970, 73994, 73994, 74005, 74008, 74009, 74019, 74022, 74027, 74036, 74057, 74060, 74067, 74080, 74081, 74082, 74120, 74154, 74174, 74212, 74220, 74228, 74231, 74232, 74233, 74240, 74261, 74275, 74293, 74295, 74305, 74342, 74353, 74370, 74371, 74384, 74393, 74407, 74412, 74419, 74421, 74436, 74441, 74460, 74472, 74474, 74481, 74483, 74520, 74523, 74526, 74534, 74543, 74558, 74561, 74565, 74571, 74576, 74582, 74594, 74605, 74611, 74613, 74613, 74622, 74630, 74635, 74659, 74663, 74673, 74687, 74701, 74728, 74732, 74738, 74738, 74740, 74742, 74759, 74778, 74782, 74783, 74789, 74803, 74806, 74808, 74826, 74856, 74857, 74865, 74869, 74880, 74886, 74920, 74923, 74925, 74925, 74925, 74937, 74943, 74945, 74946, 74950, 74986, 74987, 74991, 74993, 75009, 75025, 75025, 75032, 75041, 75046, 75067, 75072, 75093, 75105, 75136, 75144, 75147, 75182, 75187, 75192, 75194, 75200, 75208, 75208, 75215, 75235, 75252, 75268, 75271, 75273, 75276, 75288, 75290, 75291, 75292, 75332, 75346, 75350, 75360, 75369, 75380, 75387, 75390, 75409, 75415, 75430, 75436, 75445, 75450, 75468, 75473, 75474, 75479, 75486, 75487, 75495, 75503, 75508, 75563, 75582, 75592, 75596, 75606, 75614, 75616, 75626, 75633, 75648, 75649, 75652, 75669, 75675, 75679, 75685, 75685, 75687, 75688, 75690, 75703, 75725, 75726, 75735, 75795, 75803, 75818, 75822, 75825, 75846, 75878, 75907, 75919, 75930, 75975, 76015, 76027, 76032, 76034, 76036, 76040, 76047, 76106, 76126, 76129, 76135, 76135, 76138, 76150, 76170, 76171, 76181, 76189, 76192, 76198, 76201, 76210, 76245, 76248, 76270, 76272, 76279, 76290, 76298, 76314, 76317, 76321, 76328, 76355, 76363, 76389, 76392, 76396, 76397, 76409, 76422, 76432, 76443, 76453, 76469, 76484, 76486, 76492, 76492, 76504, 76509, 76515, 76516, 76525, 76564, 76577, 76579, 76593, 76597, 76600, 76602, 76620, 76623, 76625, 76648, 76669, 76672, 76695, 76701, 76715, 76721, 76721, 76726, 76733, 76735, 76755, 76762, 76762, 76767, 76771, 76784, 76801, 76823, 76824, 76829, 76829, 76842, 76843, 76845, 76861, 76863, 76866, 76883, 76885, 76902, 76904, 76925, 76927, 76931, 76933, 76934, 76942, 76967, 76968, 76977, 76977, 76986, 77007, 77044, 77048, 77050, 77054, 77062, 77079, 77089, 77092, 77108, 77111, 77122, 77125, 77171, 77193, 77201, 77213, 77213, 77225, 77230, 77250, 77262, 77281, 77304, 77319, 77343, 77344, 77356, 77364, 77366, 77397, 77403, 77410, 77415, 77467, 77471, 77480, 77486, 77487, 77494, 77499, 77511, 77519, 77520, 77528, 77552, 77555, 77555, 77585, 77608, 77651, 77659, 77678, 77682, 77686, 77720, 77726, 77731, 77735, 77743, 77752, 77757, 77758, 77760, 77789, 77796, 77803, 77820, 77821, 77833, 77840, 77854, 77859, 77889, 77902, 77902, 77912, 77914, 77916, 77917, 77927, 77930, 77938, 77939, 77951, 77954, 77959, 77970, 77992, 78025, 78025, 78043, 78047, 78056, 78061, 78063, 78098, 78115, 78116, 78144, 78148, 78172, 78184, 78187, 78212, 78212, 78232, 78243, 78258, 78259, 78261, 78272, 78274, 78310, 78320, 78324, 78327, 78332, 78354, 78355, 78380, 78388, 78397, 78408, 78419, 78421, 78439, 78465, 78479, 78486, 78491, 78502, 78510, 78515, 78517, 78517, 78535, 78567, 78571, 78578, 78610, 78615, 78631, 78670, 78693, 78701, 78706, 78707, 78713, 78713, 78715, 78719, 78725, 78763, 78771, 78781, 78784, 78800, 78822, 78837, 78840, 78844, 78865, 78869, 78869, 78885, 78890, 78891, 78905, 78930, 78936, 78937, 78937, 78949, 78957, 78969, 78977, 78983, 78986, 78999, 79005, 79048, 79049, 79058, 79069, 79079, 79079, 79083, 79098, 79114, 79118, 79120, 79124, 79133, 79135, 79141, 79143, 79149, 79178, 79181, 79187, 79194, 79198, 79209, 79215, 79219, 79248, 79258, 79263, 79269, 79294, 79303, 79307, 79310, 79311, 79312, 79313, 79336, 79348, 79356, 79356, 79370, 79385, 79395, 79397, 79399, 79400, 79413, 79439, 79447, 79469, 79474, 79475, 79476, 79479, 79513, 79540, 79544, 79551, 79555, 79563, 79565, 79569, 79575, 79610, 79619, 79630, 79630, 79634, 79640, 79652, 79702, 79710, 79712, 79732, 79736, 79750, 79754, 79754, 79772, 79786, 79788, 79791, 79794, 79841, 79847, 79854, 79876, 79877, 79882, 79886, 79909, 79946, 79953, 79958, 79959, 79960, 79985, 79999, 79999, 80002, 80013, 80031, 80034, 80035, 80090, 80095, 80095, 80096, 80102, 80109, 80125, 80155, 80177, 80188, 80221, 80224, 80227, 80240, 80242, 80263, 80264, 80272, 80275, 80276, 80278, 80303, 80311, 80344, 80355, 80370, 80376, 80398, 80399, 80412, 80413, 80414, 80429, 80446, 80452, 80455, 80462, 80466, 80490, 80500, 80535, 80545, 80545, 80545, 80553, 80553, 80572, 80574, 80586, 80610, 80610, 80616, 80618, 80619, 80622, 80629, 80632, 80633, 80643, 80650, 80660, 80688, 80691, 80701, 80703, 80715, 80718, 80745, 80767, 80778, 80786, 80808, 80814, 80832, 80849, 80851, 80857, 80857, 80860, 80882, 80908, 80917, 80919, 80923, 80937, 80950, 80956, 80962, 80968, 80978, 80991, 80997, 81017, 81017, 81024, 81033, 81059, 81062, 81065, 81070, 81071, 81079, 81085, 81085, 81093, 81094, 81103, 81106, 81120, 81156, 81181, 81191, 81192, 81194, 81200, 81211, 81212, 81224, 81225, 81235, 81239, 81244, 81276, 81281, 81283, 81286, 81291, 81294, 81316, 81334, 81350, 81389, 81404, 81412, 81422, 81428, 81428, 81428, 81431, 81432, 81438, 81443, 81451, 81457, 81468, 81478, 81500, 81506, 81514, 81531, 81537, 81540, 81545, 81554, 81588, 81589, 81599, 81600, 81625, 81649, 81652, 81664, 81671, 81679, 81696, 81708, 81713, 81723, 81723, 81729, 81731, 81733, 81747, 81752, 81784, 81788, 81806, 81808, 81808, 81821, 81836, 81841, 81845, 81858, 81882, 81883, 81897, 81907, 81912, 81928, 81944, 81973, 81973, 81976, 81982, 82009, 82012, 82013, 82016, 82016, 82027, 82067, 82082, 82098, 82099, 82103, 82111, 82119, 82135, 82137, 82143, 82147, 82153, 82153, 82159, 82165, 82170, 82182, 82198, 82201, 82208, 82209, 82211, 82216, 82226, 82228, 82238, 82264, 82267, 82271, 82283, 82287, 82303, 82310, 82312, 82314, 82324, 82337, 82345, 82357, 82369, 82378, 82384, 82398, 82413, 82414, 82422, 82435, 82443, 82443, 82444, 82462, 82462, 82467, 82475, 82488, 82491, 82499, 82505, 82511, 82513, 82518, 82522, 82524, 82530, 82546, 82555, 82555, 82572, 82573, 82581, 82581, 82582, 82591, 82599, 82641, 82661, 82670, 82694, 82746, 82748, 82756, 82763, 82790, 82794, 82799, 82810, 82813, 82829, 82837, 82840, 82842, 82843, 82848, 82848, 82854, 82865, 82872, 82880, 82884, 82886, 82887, 82897, 82918, 82919, 82937, 82967, 82978, 82984, 82991, 82995, 83001, 83004, 83013, 83018, 83046, 83055, 83064, 83066, 83073, 83077, 83114, 83114, 83130, 83131, 83133, 83137, 83142, 83148, 83156, 83158, 83170, 83207, 83219, 83219, 83235, 83253, 83260, 83267, 83284, 83305, 83308, 83312, 83314, 83326, 83333, 83340, 83344, 83348, 83348, 83351, 83354, 83355, 83357, 83371, 83389, 83404, 83414, 83418, 83419, 83425, 83429, 83432, 83442, 83445, 83463, 83475, 83480, 83481, 83493, 83497, 83506, 83510, 83511, 83525, 83532, 83557, 83562, 83569, 83591, 83612, 83614, 83617, 83643, 83644, 83687, 83700, 83712, 83749, 83753, 83755, 83755, 83762, 83782, 83784, 83810, 83825, 83853, 83858, 83858, 83862, 83868, 83880, 83881, 83881, 83883, 83894, 83906, 83909, 83914, 83919, 83919, 83933, 83936, 83947, 83956, 83973, 83981, 84013, 84022, 84023, 84032, 84045, 84048, 84049, 84050, 84054, 84077, 84079, 84090, 84096, 84104, 84108, 84116, 84123, 84127, 84135, 84147, 84152, 84169, 84172, 84174, 84178, 84197, 84198, 84207, 84210, 84210, 84217, 84226, 84235, 84257, 84262, 84277, 84298, 84302, 84319, 84319, 84322, 84331, 84344, 84370, 84390, 84392, 84395, 84424, 84446, 84452, 84472, 84480, 84483, 84495, 84496, 84497, 84497, 84505, 84509, 84516, 84540, 84569, 84571, 84584, 84590, 84600, 84607, 84613, 84625, 84633, 84633, 84645, 84647, 84653, 84653, 84657, 84674, 84678, 84681, 84687, 84693, 84701, 84713, 84714, 84714, 84719, 84719, 84724, 84739, 84754, 84756, 84756, 84760, 84763, 84769, 84785, 84790, 84801, 84807, 84820, 84841, 84855, 84856, 84865, 84881, 84883, 84885, 84887, 84905, 84927, 84946, 84957, 84965, 84982, 84991, 85062, 85104, 85117, 85123, 85128, 85129, 85139, 85141, 85153, 85159, 85161, 85161, 85185, 85188, 85193, 85209, 85215, 85225, 85228, 85238, 85249, 85257, 85258, 85266, 85267, 85274, 85282, 85285, 85285, 85302, 85324, 85324, 85334, 85364, 85365, 85370, 85382, 85398, 85418, 85425, 85455, 85457, 85461, 85468, 85472, 85482, 85483, 85494, 85497, 85526, 85531, 85533, 85556, 85564, 85565, 85578, 85585, 85593, 85597, 85602, 85603, 85617, 85623, 85631, 85635, 85637, 85639, 85663, 85693, 85720, 85748, 85771, 85787, 85789, 85823, 85823, 85833, 85847, 85853, 85861, 85885, 85889, 85901, 85911, 85922, 85926, 85928, 85929, 85938, 85949, 85980, 86018, 86020, 86029, 86038, 86041, 86046, 86056, 86069, 86070, 86079, 86085, 86085, 86093, 86141, 86144, 86148, 86196, 86196, 86197, 86199, 86207, 86208, 86226, 86232, 86232, 86246, 86246, 86271, 86277, 86283, 86291, 86292, 86305, 86310, 86316, 86323, 86334, 86336, 86337, 86345, 86347, 86355, 86357, 86382, 86404, 86414, 86422, 86454, 86457, 86458, 86484, 86518, 86530, 86540, 86541, 86565, 86565, 86586, 86596, 86600, 86607, 86609, 86615, 86617, 86634, 86635, 86654, 86655, 86656, 86657, 86666, 86687, 86699, 86706, 86734, 86746, 86758, 86763, 86777, 86781, 86785, 86786, 86790, 86798, 86819, 86824, 86829, 86837, 86842, 86850, 86908, 86925, 86930, 86933, 86941, 86953, 86983, 87006, 87010, 87027, 87031, 87036, 87036, 87041, 87055, 87057, 87076, 87096, 87125, 87128, 87131, 87169, 87170, 87180, 87185, 87190, 87193, 87201, 87203, 87205, 87211, 87216, 87229, 87243, 87259, 87279, 87282, 87287, 87301, 87326, 87338, 87347, 87352, 87360, 87368, 87375, 87376, 87378, 87394, 87402, 87417, 87417, 87422, 87422, 87427, 87441, 87444, 87446, 87452, 87464, 87475, 87479, 87498, 87503, 87511, 87516, 87534, 87537, 87546, 87553, 87568, 87592, 87626, 87641, 87641, 87657, 87658, 87662, 87675, 87702, 87738, 87743, 87755, 87758, 87760, 87789, 87797, 87811, 87825, 87829, 87833, 87834, 87869, 87886, 87892, 87903, 87910, 87914, 87915, 87917, 87961, 87964, 87985, 87997, 88012, 88024, 88027, 88048, 88056, 88072, 88089, 88093, 88100, 88100, 88104, 88132, 88147, 88157, 88164, 88170, 88175, 88176, 88178, 88185, 88190, 88193, 88194, 88208, 88217, 88231, 88246, 88257, 88264, 88266, 88274, 88278, 88284, 88291, 88299, 88305, 88321, 88357, 88360, 88361, 88363, 88363, 88367, 88373, 88394, 88408, 88410, 88415, 88421, 88426, 88437, 88458, 88492, 88507, 88520, 88523, 88524, 88538, 88554, 88565, 88571, 88591, 88594, 88621, 88630, 88636, 88638, 88640, 88655, 88661, 88677, 88690, 88719, 88731, 88738, 88738, 88741, 88742, 88747, 88755, 88768, 88789, 88792, 88795, 88795, 88797, 88802, 88809, 88817, 88828, 88843, 88852, 88857, 88860, 88865, 88867, 88872, 88876, 88884, 88898, 88899, 88920, 88928, 88934, 88937, 88948, 88950, 88951, 88954, 88977, 88983, 88985, 88997, 89001, 89032, 89034, 89037, 89042, 89044, 89050, 89052, 89059, 89068, 89069, 89071, 89072, 89072, 89082, 89082, 89085, 89091, 89100, 89135, 89149, 89151, 89162, 89167, 89168, 89170, 89189, 89190, 89211, 89219, 89243, 89254, 89258, 89259, 89314, 89332, 89332, 89336, 89350, 89364, 89370, 89372, 89382, 89383, 89397, 89399, 89439, 89442, 89448, 89458, 89459, 89461, 89464, 89470, 89481, 89482, 89492, 89516, 89531, 89539, 89540, 89553, 89555, 89561, 89567, 89597, 89616, 89645, 89648, 89653, 89670, 89685, 89688, 89711, 89715, 89726, 89732, 89739, 89754, 89770, 89772, 89772, 89774, 89796, 89799, 89806, 89806, 89808, 89814, 89816, 89826, 89826, 89832, 89854, 89882, 89883, 89887, 89888, 89892, 89911, 89914, 89919, 89923, 89932, 89945, 89954, 89974, 89978, 89989, 89990, 89997, 90003, 90015, 90016, 90022, 90023, 90029, 90045, 90086, 90089, 90091, 90091, 90107, 90108, 90119, 90142, 90149, 90157, 90184, 90189, 90194, 90198, 90234, 90235, 90236, 90238, 90245, 90267, 90270, 90273, 90274, 90289, 90296, 90304, 90310, 90315, 90330, 90332, 90338, 90355, 90358, 90364, 90371, 90387, 90416, 90419, 90428, 90435, 90448, 90454, 90463, 90468, 90469, 90480, 90495, 90505, 90507, 90508, 90514, 90515, 90547, 90554, 90567, 90584, 90592, 90594, 90598, 90610, 90617, 90657, 90669, 90680, 90693, 90700, 90701, 90717, 90725, 90754, 90757, 90764, 90765, 90766, 90800, 90805, 90822, 90837, 90837, 90850, 90853, 90856, 90862, 90862, 90867, 90885, 90892, 90901, 90907, 90927, 90929, 90959, 90961, 90963, 90965, 90994, 90996, 90998, 91003, 91005, 91014, 91016, 91020, 91035, 91046, 91082, 91084, 91087, 91088, 91089, 91091, 91135, 91137, 91139, 91169, 91184, 91191, 91194, 91208, 91209, 91209, 91216, 91219, 91231, 91260, 91261, 91263, 91264, 91276, 91298, 91304, 91326, 91349, 91392, 91402, 91407, 91409, 91416, 91418, 91433, 91437, 91438, 91453, 91462, 91489, 91495, 91517, 91518, 91525, 91532, 91555, 91571, 91607, 91610, 91612, 91619, 91621, 91633, 91644, 91646, 91668, 91684, 91685, 91695, 91698, 91712, 91716, 91742, 91746, 91748, 91757, 91761, 91764, 91770, 91778, 91786, 91795, 91809, 91810, 91812, 91816, 91818, 91823, 91827, 91827, 91832, 91859, 91859, 91863, 91872, 91876, 91882, 91888, 91890, 91907, 91908, 91924, 91932, 91952, 91959, 91969, 91972, 91998, 92008, 92008, 92016, 92018, 92030, 92036, 92054, 92055, 92056, 92075, 92080, 92081, 92097, 92099, 92110, 92129, 92131, 92158, 92186, 92191, 92194, 92203, 92216, 92223, 92224, 92227, 92233, 92248, 92250, 92258, 92259, 92262, 92265, 92272, 92281, 92292, 92314, 92315, 92327, 92330, 92330, 92337, 92342, 92346, 92354, 92357, 92363, 92371, 92374, 92385, 92388, 92389, 92391, 92440, 92441, 92449, 92455, 92457, 92473, 92477, 92479, 92501, 92549, 92551, 92563, 92564, 92565, 92572, 92572, 92622, 92637, 92675, 92676, 92677, 92688, 92712, 92718, 92736, 92757, 92760, 92771, 92780, 92805, 92809, 92814, 92820, 92820, 92823, 92825, 92826, 92881, 92882, 92883, 92895, 92902, 92905, 92907, 92911, 92914, 92942, 92957, 92961, 92961, 92971, 92972, 92991, 92999, 93022, 93046, 93059, 93060, 93069, 93079, 93105, 93107, 93141, 93142, 93143, 93146, 93147, 93156, 93175, 93188, 93214, 93215, 93215, 93219, 93221, 93222, 93225, 93229, 93237, 93261, 93262, 93268, 93269, 93294, 93296, 93305, 93316, 93318, 93336, 93337, 93342, 93343, 93364, 93374, 93383, 93409, 93428, 93433, 93438, 93445, 93453, 93466, 93466, 93467, 93471, 93477, 93478, 93479, 93493, 93495, 93499, 93500, 93503, 93508, 93524, 93529, 93550, 93551, 93571, 93592, 93592, 93596, 93628, 93648, 93652, 93655, 93661, 93712, 93713, 93731, 93736, 93741, 93742, 93755, 93767, 93782, 93784, 93789, 93790, 93790, 93796, 93829, 93837, 93849, 93853, 93866, 93878, 93887, 93899, 93922, 93924, 93927, 93930, 93955, 93960, 93976, 93999, 94028, 94038, 94044, 94089, 94090, 94092, 94093, 94094, 94108, 94108, 94116, 94126, 94137, 94141, 94148, 94188, 94197, 94218, 94243, 94303, 94313, 94324, 94327, 94331, 94350, 94374, 94374, 94379, 94384, 94386, 94392, 94399, 94450, 94452, 94491, 94495, 94497, 94498, 94513, 94525, 94527, 94532, 94533, 94553, 94558, 94560, 94576, 94579, 94583, 94585, 94614, 94615, 94617, 94621, 94640, 94646, 94662, 94675, 94687, 94725, 94729, 94730, 94733, 94734, 94737, 94762, 94768, 94791, 94809, 94818, 94821, 94828, 94842, 94853, 94854, 94859, 94862, 94878, 94880, 94900, 94902, 94903, 94906, 94924, 94950, 94968, 94981, 94989, 94998, 95003, 95003, 95030, 95031, 95039, 95055, 95078, 95087, 95094, 95099, 95102, 95105, 95107, 95118, 95119, 95139, 95176, 95199, 95200, 95217, 95228, 95233, 95239, 95241, 95250, 95269, 95270, 95271, 95279, 95291, 95302, 95339, 95339, 95343, 95343, 95344, 95347, 95359, 95360, 95363, 95378, 95378, 95388, 95401, 95408, 95452, 95463, 95469, 95476, 95477, 95479, 95481, 95489, 95497, 95500, 95508, 95530, 95547, 95549, 95550, 95553, 95556, 95564, 95565, 95565, 95582, 95602, 95613, 95625, 95635, 95640, 95646, 95654, 95657, 95662, 95676, 95679, 95687, 95687, 95687, 95694, 95695, 95697, 95703, 95713, 95715, 95716, 95720, 95720, 95724, 95724, 95726, 95737, 95743, 95749, 95761, 95764, 95772, 95773, 95775, 95785, 95803, 95809, 95826, 95826, 95830, 95841, 95851, 95866, 95868, 95872, 95902, 95910, 95924, 95927, 95929, 95939, 95942, 95964, 95965, 95985, 95995, 96000, 96017, 96022, 96032, 96048, 96052, 96080, 96082, 96097, 96105, 96117, 96122, 96128, 96130, 96132, 96134, 96147, 96157, 96162, 96163, 96188, 96188, 96192, 96196, 96198, 96204, 96222, 96236, 96238, 96246, 96264, 96278, 96280, 96286, 96290, 96296, 96319, 96343, 96347, 96350, 96372, 96377, 96389, 96394, 96405, 96429, 96429, 96434, 96469, 96471, 96525, 96554, 96584, 96587, 96600, 96625, 96647, 96652, 96666, 96672, 96692, 96692, 96695, 96710, 96727, 96736, 96742, 96756, 96784, 96795, 96801, 96808, 96810, 96826, 96836, 96837, 96850, 96852, 96870, 96881, 96906, 96923, 96945, 96959, 96960, 96961, 96973, 96983, 96995, 97000, 97002, 97005, 97005, 97006, 97039, 97054, 97060, 97067, 97069, 97076, 97093, 97096, 97108, 97120, 97156, 97181, 97189, 97190, 97196, 97196, 97198, 97203, 97205, 97230, 97231, 97268, 97277, 97303, 97330, 97341, 97360, 97364, 97379, 97380, 97384, 97393, 97395, 97413, 97435, 97447, 97449, 97449, 97451, 97457, 97457, 97461, 97466, 97476, 97479, 97479, 97499, 97501, 97506, 97509, 97524, 97526, 97530, 97534, 97535, 97552, 97558, 97563, 97570, 97582, 97584, 97586, 97592, 97594, 97600, 97616, 97623, 97661, 97664, 97670, 97675, 97681, 97682, 97682, 97692, 97695, 97698, 97706, 97722, 97741, 97741, 97745, 97769, 97811, 97811, 97811, 97818, 97827, 97846, 97856, 97856, 97881, 97899, 97943, 97951, 97959, 97971, 97972, 97976, 97990, 97994, 98008, 98012, 98015, 98059, 98066, 98086, 98101, 98103, 98108, 98114, 98129, 98134, 98155, 98157, 98158, 98169, 98196, 98233, 98247, 98256, 98263, 98272, 98276, 98291, 98306, 98309, 98313, 98334, 98335, 98361, 98383, 98398, 98406, 98426, 98479, 98488, 98499, 98517, 98526, 98539, 98540, 98543, 98556, 98569, 98576, 98622, 98649, 98662, 98672, 98682, 98686, 98686, 98708, 98719, 98726, 98773, 98788, 98796, 98798, 98799, 98812, 98815, 98836, 98838, 98850, 98853, 98870, 98875, 98892, 98899, 98901, 98907, 98920, 98933, 98937, 98941, 98944, 98945, 98946, 98952, 98957, 98966, 98966, 98972, 98974, 99008, 99009, 99017, 99019, 99026, 99032, 99032, 99034, 99043, 99046, 99057, 99058, 99059, 99067, 99071, 99100, 99115, 99120, 99150, 99199, 99210, 99224, 99230, 99233, 99253, 99256, 99264, 99290, 99295, 99311, 99338, 99341, 99343, 99345, 99379, 99400, 99401, 99401, 99419, 99427, 99438, 99442, 99447, 99450, 99477, 99489, 99489, 99490, 99510, 99527, 99532, 99547, 99550, 99584, 99596, 99614, 99651, 99660, 99678, 99678, 99683, 99695, 99697, 99729, 99738, 99757, 99772, 99776, 99785, 99788, 99793, 99800, 99801, 99807, 99809, 99824, 99828, 99842, 99863, 99869, 99871, 99883, 99921, 99927, 99930, 99933, 99957, 99961, 99961, 99967, 99969, 99975, 99995]\n"
     ]
    }
   ],
   "source": [
    "import random\n",
    "\n",
    "# Function to create a randomized number list for test purposes\n",
    "def create_list (size):\n",
    "    lst =[]\n",
    "    for x in range(1,size):\n",
    "        lst.append(random.randint (10, 100000))\n",
    "\n",
    "    return lst\n",
    "    \n",
    "# Quick sort function\n",
    "def quick_sort ( list ):\n",
    "\n",
    "    if (len(list) <1):\n",
    "        return list\n",
    "    \n",
    "    pivot = list.pop(0)\n",
    "    \n",
    "    l_list =[]\n",
    "    r_list = []\n",
    "\n",
    "    while (len(list)):\n",
    "        tmp = list.pop(0)\n",
    "        if ( tmp <= pivot):\n",
    "            l_list.append(tmp)\n",
    "        else:\n",
    "            r_list.append(tmp)\n",
    "    \n",
    "    s_l_list = quick_sort(l_list)\n",
    "    r_l_list = quick_sort(r_list)\n",
    "\n",
    "    sort_list = []\n",
    "    if (not(s_l_list == None)):\n",
    "        sort_list = s_l_list\n",
    "    if (not(pivot == None)):\n",
    "        sort_list.append(pivot)\n",
    "    if (not(r_l_list == None)):\n",
    "        sort_list +=r_l_list\n",
    "\n",
    "    return sort_list\n",
    "\n",
    "size_of_list = input (\"Enter the list to create :\")\n",
    "main_list = create_list(int(size_of_list))\n",
    "print (\" List to sort \", main_list)\n",
    "print (\" Sort list is :\", quick_sort(main_list))\n",
    "\n",
    "\n"
   ]
  },
  {
   "cell_type": "code",
   "execution_count": null,
   "metadata": {},
   "outputs": [],
   "source": [
    "# Saves and commits the code\n",
    "! git status\n",
    "! git add .\n",
    "! git commit -m \"progress commit\"\n",
    "! git push -u origin master"
   ]
  },
  {
   "cell_type": "code",
   "execution_count": null,
   "metadata": {},
   "outputs": [],
   "source": []
  }
 ],
 "metadata": {
  "kernelspec": {
   "display_name": "Python 3",
   "language": "python",
   "name": "python3"
  },
  "language_info": {
   "codemirror_mode": {
    "name": "ipython",
    "version": 3
   },
   "file_extension": ".py",
   "mimetype": "text/x-python",
   "name": "python",
   "nbconvert_exporter": "python",
   "pygments_lexer": "ipython3",
   "version": "3.7.2"
  }
 },
 "nbformat": 4,
 "nbformat_minor": 2
}
