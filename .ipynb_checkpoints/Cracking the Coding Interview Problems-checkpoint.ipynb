{
 "cells": [
  {
   "cell_type": "markdown",
   "metadata": {},
   "source": [
    "## Cracking the Coding Interview Problems\n",
    "### Topics\n",
    "- Strings\n",
    "- Arrays\n",
    "- LinkedLists\n",
    "- Trees\n",
    "\n",
    "**Among algortihm questions, these are the ones you are most likely to encounter.**\n",
    "Use this notebook to record pointers, tips, and techniques. Doing these problems will give you a focused refresher on coding for interviews with the relevant data structures."
   ]
  },
  {
   "cell_type": "markdown",
   "metadata": {},
   "source": [
    "### Strings\n",
    "\n",
    "#### Pointers for String problems\n",
    "\n",
    "Use this space to record pointers for string problems\n",
    "\n",
    "- Sample pointer 1: Consider using a dictionary to keep character counts\n",
    "- Used set to handle character tracking: Also tried withArray, but Array is a list which increases execution time vs set which used map so the search is 0(1) i.e. faster\n",
    "- Char at a index in string: `string[index]` \n",
    "- Declaring set: nameofSet = `set()`\n",
    "- To check elem in set: `if (elem in nameOfSet)`\n",
    "- Adding element to set: `nameOfSet.add(elem)`\n",
    "- For true/false use `False True`\n",
    "- Range of ints: `range (low, high+1)`\n",
    "\n",
    "\n",
    "### Problem 1)\n",
    "\n",
    "**is_unique(string):** - Write a problem to return True or False for whether a passed string contains repeated characters\n",
    "\n",
    "For example: is_unique('the dog') => **True**; is_unique('apple') => **False** # Repeated char 'p'\n",
    "\n",
    "\n"
   ]
  },
  {
   "cell_type": "code",
   "execution_count": null,
   "metadata": {
    "scrolled": true
   },
   "outputs": [
    {
     "name": "stdout",
     "output_type": "stream",
     "text": [
      "Enter a string to test uniue test\n",
      " Testing the string  test\n",
      "\n",
      " isUnique result for  test   False\n"
     ]
    }
   ],
   "source": [
    "def is_unique(string):\n",
    "    '''\n",
    "    Implement your function here. Return True if the string contains no repeat chars, Return False otherwise\n",
    "    '''\n",
    "    # convert string to lower case\n",
    "    string = string.lower()\n",
    "    print (\" Testing the string \", string)\n",
    "    \n",
    "    chrArray = set()\n",
    "    \n",
    "    for x in range (len(string)):\n",
    "        if (string[x] in chrArray):\n",
    "            return False\n",
    "        else: \n",
    "            chrArray.add(string[x])\n",
    "    return True\n",
    "\n",
    "\n",
    "while (1):\n",
    "    st = input (\"Enter a string to test uniue \")\n",
    "    print ('\\n isUnique result for ',st, ' ', is_unique (st))\n",
    "\n"
   ]
  },
  {
   "cell_type": "markdown",
   "metadata": {},
   "source": [
    "#### Tests for is_unique "
   ]
  },
  {
   "cell_type": "code",
   "execution_count": 25,
   "metadata": {},
   "outputs": [],
   "source": [
    "'''\n",
    "Run this cell after you complete the function above\n",
    "If all test cases pass, there will be no output\n",
    "Else, there will be an assertion error\n",
    "'''\n",
    "assert( is_unique('apple') == False )\n",
    "assert( is_unique('bAnana') == False )\n",
    "assert( is_unique('table') ==  True )"
   ]
  },
  {
   "cell_type": "markdown",
   "metadata": {},
   "source": [
    "### Problem 2)\n",
    "\n",
    "**check_perm (str_1, str_2):** - Write a problem to return True or False for whether a passed string 1 is the permutation of the second string; Trim white space and case insensitive; \n",
    "\n",
    "For example: check_perm (\"abcd\", \"cbad\") => **True**; check_perm (\"abcd\", \"aabcd\") => **False** Additional char a\n"
   ]
  },
  {
   "cell_type": "code",
   "execution_count": 10,
   "metadata": {},
   "outputs": [
    {
     "data": {
      "text/plain": [
       "False"
      ]
     },
     "execution_count": 10,
     "metadata": {},
     "output_type": "execute_result"
    }
   ],
   "source": [
    "def check_perm  (str_1, str_2):\n",
    "    \n",
    "    # Case same case\n",
    "    str_1 = str_1.lower()\n",
    "    str_2 = str_2.lower()\n",
    "    \n",
    "    # if lengths are not equal return false\n",
    "    \n",
    "    if (not(len(str_1) ==  len(str_2))):\n",
    "        return False\n",
    "    \n",
    "    # create map for the first string\n",
    "    char_count_map = {}\n",
    "    \n",
    "    for x in range (len(str_1)):\n",
    "        char = str_1[x]\n",
    "        if (char in char_count_map):\n",
    "            char_count_map[char] = char_count_map[char] + 1\n",
    "        else: # For each duplicate char, increment the count\n",
    "            char_count_map[char] = 1\n",
    "    \n",
    "    ## checking the perms\n",
    "    # Iterate the second string and start reducing the count and if count goes to 0 remove the elem\n",
    "    for x in range(len(str_2)):\n",
    "        char = str_2[x]\n",
    "        if (not(char in char_count_map)):\n",
    "            return False\n",
    "        else:\n",
    "            if (char_count_map[char] == 1):\n",
    "                del char_count_map[char]\n",
    "            else:\n",
    "                char_count_map[char] = char_count_map[char]-1\n",
    "                \n",
    "    # if the map does not have the char return false\n",
    "    return (len(char_count_map)==0)\n",
    "\n",
    "check_perm (\"aabcjcd\", \"bedftgr\")\n",
    "    \n",
    "    "
   ]
  },
  {
   "cell_type": "code",
   "execution_count": 11,
   "metadata": {},
   "outputs": [],
   "source": [
    "'''\n",
    "Run this cell after you complete the function above\n",
    "If all test cases pass, there will be no output\n",
    "Else, there will be an assertion error\n",
    "'''\n",
    "assert( check_perm (\"aabcjcd\", \"bedftgr\") == False )\n",
    "assert( check_perm (\"aabcjcd\", \"baaaccd\") == False )\n",
    "assert( check_perm (\"aabbcccdddde\", \"ebabacdcdcdd\") ==  True )"
   ]
  },
  {
   "cell_type": "markdown",
   "metadata": {},
   "source": [
    "### Problem 3)\n",
    "\n",
    "**reverse_c_style_string (string):** - Write a problem to reverse a C style string. Clue: C style strings has NULL charatcer at the end\n",
    "\n",
    "For example: creverse_c_style_string (\"abcd\\0\") => **dcba**; "
   ]
  },
  {
   "cell_type": "code",
   "execution_count": 26,
   "metadata": {},
   "outputs": [
    {
     "data": {
      "text/plain": [
       "'dcba'"
      ]
     },
     "execution_count": 26,
     "metadata": {},
     "output_type": "execute_result"
    }
   ],
   "source": [
    "def reverse_c_style_string (string):\n",
    "    str_2 = \"\"\n",
    "    for x in range(len(string)):\n",
    "        char = string[x]\n",
    "        str_2 =  char + str_2\n",
    "    return str_2\n",
    "\n",
    "reverse_c_style_string (\"abcd\")"
   ]
  },
  {
   "cell_type": "code",
   "execution_count": 28,
   "metadata": {},
   "outputs": [],
   "source": [
    "'''\n",
    "Run this cell after you complete the function above\n",
    "If all test cases pass, there will be no output\n",
    "Else, there will be an assertion error\n",
    "'''\n",
    "assert(reverse_c_style_string (\"abcdefg\") == \"gfedcba\" )\n",
    "assert(reverse_c_style_string (\"4321ba\") == \"ab1234\")\n"
   ]
  },
  {
   "cell_type": "markdown",
   "metadata": {},
   "source": [
    "### Problem 4)\n",
    "\n",
    "**reverse_in_place (list):** - Reverse the elements of list in place in O(n) time\n",
    "\n",
    "For example: `reverse_in_place ( ['a', 'b', 'c', 'd', 'e'] ) == ['e', 'd', 'c', 'b', 'a']`"
   ]
  },
  {
   "cell_type": "code",
   "execution_count": 47,
   "metadata": {},
   "outputs": [
    {
     "name": "stdout",
     "output_type": "stream",
     "text": [
      "['e', 'd', 'c', 'b', 'a']\n"
     ]
    }
   ],
   "source": [
    "def reverse_in_place( lst ):\n",
    "    \n",
    "    #get the list lenght\n",
    "    list_len = len(lst)\n",
    "    \n",
    "    if (list_len == 1):\n",
    "        return lst\n",
    "    \n",
    "    head_index = 0\n",
    "    tail_index = list_len - 1\n",
    "    \n",
    "    while (head_index < tail_index):\n",
    "        tmp = lst[head_index]\n",
    "        lst[head_index] = lst[tail_index]\n",
    "        lst[tail_index] = tmp\n",
    "        head_index=head_index + 1\n",
    "        tail_index = tail_index - 1\n",
    "    return lst\n",
    "        \n",
    "lst =  ['a', 'b', 'c', 'd', 'e']\n",
    "lst = reverse_in_place ( lst )\n",
    "print (lst)"
   ]
  },
  {
   "cell_type": "code",
   "execution_count": 42,
   "metadata": {},
   "outputs": [],
   "source": [
    "'''\n",
    "Run these tests after defining the function above\n",
    "'''\n",
    "assert ( ''.join( reverse_in_place( ['a','b','c','d'] ) ) == 'dcba')"
   ]
  },
  {
   "cell_type": "markdown",
   "metadata": {},
   "source": [
    "### Problem 5)\n",
    "\n",
    "**URL_stringify (list):** - URLify a string represented as a char array, where every space is replaced in the following manner\n",
    "\n",
    "`' ' => '%', '2', '0'`. The original array has enough elements at the end of the list to accomodate for these added chars \n",
    "\n",
    "For example: `URL_stringify ( ['a', ' ', 'b', ' ', 'c', 'd', ' ', ' ', ' ', ' '] ) == ['a', '%', '2', '0', 'b', '%', '2', '0', 'c', 'd']`"
   ]
  },
  {
   "cell_type": "code",
   "execution_count": 49,
   "metadata": {},
   "outputs": [],
   "source": [
    "def URL_stringify( list ):\n",
    "\n",
    "    # find the length of the list\n",
    "    len_list = len(list)\n",
    "    write_index = len_list -1\n",
    "    alpha_tracker = write_index\n",
    "\n",
    "    # find the last alpha charater in the list\n",
    "    while (list[alpha_tracker] == \" \"):\n",
    "        aplha_tracker = alpha_tracker-1\n",
    "        \n",
    "    # copy the last alpha to last;\n",
    "    while (alpha_tracker > 0):\n",
    "        if (not (list[apha_tracker] == \" \")):\n",
    "            list[write_index] = list[apha_tracker]\n",
    "            write_index = write_index - 1\n",
    "            alpha_tracker = alpha_tracker - 1\n",
    "        else:  \n",
    "            list[write_index] = '0'\n",
    "            list[write_index-1] = '2'\n",
    "            list[write_index-2] = '%'\n",
    "            write_index = write_index - 3\n",
    "            alpha_tracker = alpha_tracker - 1    \n",
    "    \n",
    "    return list\n",
    "\n"
   ]
  },
  {
   "cell_type": "code",
   "execution_count": null,
   "metadata": {},
   "outputs": [],
   "source": [
    "'''\n",
    "Run these tests after defining the function above to accomodate for the extra characters\n",
    "'''\n",
    "assert( ''.join(URL_stringify(['a', ' ', 'b', ' ', 'c', 'd', ' ', ' ', ' ', ' '])) == 'a%20b%20cd' )\n"
   ]
  },
  {
   "cell_type": "markdown",
   "metadata": {},
   "source": [
    "###  Problem 6\n",
    "**rotate_list ( list, k ):** - Rotate an array in place by k elements.\n",
    "\n",
    "`rotate_list( [1,2,3,4], 2 ) == [3,4,1,2]`"
   ]
  },
  {
   "cell_type": "code",
   "execution_count": 35,
   "metadata": {},
   "outputs": [
    {
     "name": "stdout",
     "output_type": "stream",
     "text": [
      "Enter an integer15\n",
      "Enter the rotator size3\n",
      "Input list : [0, 1, 2, 3, 4, 5, 6, 7, 8, 9, 10, 11, 12, 13, 14]\n",
      "Rotated list ** : [12, 13, 14, 0, 1, 2, 3, 4, 5, 6, 7, 8, 9, 10, 11]\n"
     ]
    }
   ],
   "source": [
    "import random\n",
    "def rotate_list( list, rotator ):\n",
    "    \n",
    "    # sanitize the rotation\n",
    "    k = rotator % len(list)\n",
    "    \n",
    "    # Check for the 0\n",
    "    if ((k==0) or (len(list) == 0)):\n",
    "        return list\n",
    "    \n",
    "    # read the first element\n",
    "    list_len = len(list)\n",
    "    item_to_move = list[0];\n",
    "    tmp = list[0]\n",
    "    index =0\n",
    "    \n",
    "    # tracking the indexes within the rotator range\n",
    "    # for certain combinations, the moved index is revisited. \n",
    "    # this listtracks the visited elements with in 0 to rotator range to avoid errors\n",
    "    trackerList = []\n",
    "    \n",
    "    # Start moving the elements one at a time\n",
    "    for x in range(len(list)):\n",
    "\n",
    "        # if index is less than rotator check if already moved \n",
    "        #if not move otherwise move to next till an unmoved items is found\n",
    "        # check if already in trackerList\n",
    "        while ((index in trackerList) and (index <k)):\n",
    "            index +=1\n",
    "            tmp = list[index]\n",
    "        \n",
    "        # Add index to trackerList\n",
    "        trackerList.append(index)\n",
    "\n",
    "        # Move the items\n",
    "        index_to_move = (index + k) % list_len    \n",
    "        item_to_move = list[index_to_move]\n",
    "        list[index_to_move] = tmp\n",
    "        index = index_to_move\n",
    "        tmp = item_to_move\n",
    "        \n",
    "        \n",
    "    print (\"Rotated list ** :\", list)\n",
    "\n",
    "    return\n",
    "\n",
    "# create a random very big list\n",
    "list_size = input ('Enter an integer')\n",
    "list = []\n",
    "\n",
    "for x in range(int(list_size)):\n",
    "    list.append(x)\n",
    "         \n",
    "rotr = input ('Enter the rotator size')\n",
    "print (\"Input list :\", list)\n",
    "rotate_list (list, int(rotr))\n"
   ]
  },
  {
   "cell_type": "code",
   "execution_count": 39,
   "metadata": {},
   "outputs": [
    {
     "name": "stdout",
     "output_type": "stream",
     "text": [
      "Rotated list ** : [3, 4, 1, 2]\n"
     ]
    },
    {
     "ename": "TypeError",
     "evalue": "can only join an iterable",
     "output_type": "error",
     "traceback": [
      "\u001b[1;31m---------------------------------------------------------------------------\u001b[0m",
      "\u001b[1;31mTypeError\u001b[0m                                 Traceback (most recent call last)",
      "\u001b[1;32m<ipython-input-39-587c5226b713>\u001b[0m in \u001b[0;36m<module>\u001b[1;34m\u001b[0m\n\u001b[0;32m      2\u001b[0m \u001b[0mRun\u001b[0m \u001b[0mthese\u001b[0m \u001b[0mtests\u001b[0m \u001b[0mafter\u001b[0m \u001b[0mdefining\u001b[0m \u001b[0mthe\u001b[0m \u001b[0mfunction\u001b[0m \u001b[0mabove\u001b[0m\u001b[1;33m\u001b[0m\u001b[1;33m\u001b[0m\u001b[0m\n\u001b[0;32m      3\u001b[0m '''\n\u001b[1;32m----> 4\u001b[1;33m \u001b[1;32massert\u001b[0m \u001b[1;33m(\u001b[0m \u001b[1;34m''\u001b[0m\u001b[1;33m.\u001b[0m\u001b[0mjoin\u001b[0m\u001b[1;33m(\u001b[0m\u001b[0mrotate_list\u001b[0m\u001b[1;33m(\u001b[0m \u001b[1;33m[\u001b[0m\u001b[1;36m1\u001b[0m\u001b[1;33m,\u001b[0m\u001b[1;36m2\u001b[0m\u001b[1;33m,\u001b[0m\u001b[1;36m3\u001b[0m\u001b[1;33m,\u001b[0m\u001b[1;36m4\u001b[0m\u001b[1;33m]\u001b[0m\u001b[1;33m,\u001b[0m \u001b[1;36m2\u001b[0m \u001b[1;33m)\u001b[0m\u001b[1;33m)\u001b[0m \u001b[1;33m==\u001b[0m \u001b[1;34m'3412'\u001b[0m \u001b[1;33m)\u001b[0m\u001b[1;33m\u001b[0m\u001b[1;33m\u001b[0m\u001b[0m\n\u001b[0m\u001b[0;32m      5\u001b[0m \u001b[1;32massert\u001b[0m \u001b[1;33m(\u001b[0m \u001b[1;34m''\u001b[0m\u001b[1;33m.\u001b[0m\u001b[0mjoin\u001b[0m\u001b[1;33m(\u001b[0m\u001b[0mrotate_list\u001b[0m\u001b[1;33m(\u001b[0m \u001b[1;33m[\u001b[0m\u001b[1;34m'1'\u001b[0m\u001b[1;33m,\u001b[0m\u001b[1;34m'2'\u001b[0m\u001b[1;33m,\u001b[0m\u001b[1;34m'3'\u001b[0m\u001b[1;33m,\u001b[0m\u001b[1;34m'4'\u001b[0m\u001b[1;33m,\u001b[0m\u001b[1;34m'5'\u001b[0m\u001b[1;33m,\u001b[0m\u001b[1;34m'6'\u001b[0m\u001b[1;33m]\u001b[0m\u001b[1;33m,\u001b[0m \u001b[1;36m3\u001b[0m \u001b[1;33m)\u001b[0m\u001b[1;33m)\u001b[0m \u001b[1;33m==\u001b[0m \u001b[1;34m'456123'\u001b[0m \u001b[1;33m)\u001b[0m\u001b[1;33m\u001b[0m\u001b[1;33m\u001b[0m\u001b[0m\n",
      "\u001b[1;31mTypeError\u001b[0m: can only join an iterable"
     ]
    }
   ],
   "source": [
    "'''\n",
    "Run these tests after defining the function above\n",
    "'''\n",
    "assert ( ''.join(rotate_list( [1,2,3,4], 2 )) == '3412' )\n",
    "assert ( ''.join(rotate_list( ['1','2','3','4','5','6'], 3 )) == '456123' )"
   ]
  },
  {
   "cell_type": "markdown",
   "metadata": {},
   "source": [
    "### 7. String Compression\n",
    "- Compress the string and return only if compression saves space\n",
    "- `str_compression( 'aaabbcbdd' ) returns 'a3b2c1b1d2'`\n",
    "- `str_compression( 'aaabbb' ) returns 'a3b3'`"
   ]
  },
  {
   "cell_type": "code",
   "execution_count": 5,
   "metadata": {},
   "outputs": [],
   "source": [
    "def compress_string( string ):\n",
    "    compressed_str = ''\n",
    "    # Your code here\n",
    "    return compressed_str"
   ]
  },
  {
   "cell_type": "code",
   "execution_count": 6,
   "metadata": {},
   "outputs": [
    {
     "ename": "AssertionError",
     "evalue": "",
     "output_type": "error",
     "traceback": [
      "\u001b[0;31m---------------------------------------------------------------------------\u001b[0m",
      "\u001b[0;31mAssertionError\u001b[0m                            Traceback (most recent call last)",
      "\u001b[0;32m<ipython-input-6-d10668dd99b7>\u001b[0m in \u001b[0;36m<module>\u001b[0;34m\u001b[0m\n\u001b[1;32m      1\u001b[0m \u001b[0;31m# Tests\u001b[0m\u001b[0;34m\u001b[0m\u001b[0;34m\u001b[0m\u001b[0;34m\u001b[0m\u001b[0m\n\u001b[0;32m----> 2\u001b[0;31m \u001b[0;32massert\u001b[0m\u001b[0;34m(\u001b[0m \u001b[0mcompress_string\u001b[0m\u001b[0;34m(\u001b[0m\u001b[0;34m'aabccccca'\u001b[0m\u001b[0;34m)\u001b[0m \u001b[0;34m==\u001b[0m \u001b[0;34m'a2b1c5a1'\u001b[0m \u001b[0;34m)\u001b[0m\u001b[0;34m\u001b[0m\u001b[0;34m\u001b[0m\u001b[0m\n\u001b[0m",
      "\u001b[0;31mAssertionError\u001b[0m: "
     ]
    }
   ],
   "source": [
    "# Tests\n",
    "assert( compress_string('aabccccca') == 'a2b1c5a1' )"
   ]
  },
  {
   "cell_type": "markdown",
   "metadata": {},
   "source": [
    "## LinkedList Problems\n",
    "\n",
    "### Implementation of a LinkedList\n",
    "\n",
    "- The goal of this excercise is to understand how LinkedLists can be implemented in Python"
   ]
  },
  {
   "cell_type": "code",
   "execution_count": 66,
   "metadata": {},
   "outputs": [],
   "source": [
    "\n",
    "class Linked_List_Node:\n",
    "    \n",
    "    # Constructor for LinkedListNode\n",
    "    def __init__(self, value, next_node=None):\n",
    "        '''\n",
    "        Every Node in a LinkedList should have a value and a pointer to the next Node\n",
    "        '''\n",
    "        self.value = value\n",
    "        self.next = next_node\n",
    "        \n",
    "    # Think of this as the toString() function of Python\n",
    "    # When you call print on a Linked_List_Node it will print the value instead of printing the reference\n",
    "    def __repr__(self):\n",
    "        return str( self.value )\n"
   ]
  },
  {
   "cell_type": "markdown",
   "metadata": {},
   "source": [
    "The implementation above is really all you need to create a LinkedList. You can use this class in the following manner. Note that there is no new keyword in Python:"
   ]
  },
  {
   "cell_type": "code",
   "execution_count": 69,
   "metadata": {},
   "outputs": [],
   "source": [
    "root = Linked_List_Node( 11, Linked_List_Node( 22, Linked_List_Node(33) ) )"
   ]
  },
  {
   "cell_type": "markdown",
   "metadata": {},
   "source": [
    "In memory this looks like this:\n",
    "\n",
    "`11 -> 22 -> 23 -> None`"
   ]
  },
  {
   "cell_type": "code",
   "execution_count": 70,
   "metadata": {},
   "outputs": [
    {
     "name": "stdout",
     "output_type": "stream",
     "text": [
      "11\n",
      "22\n",
      "33\n",
      "None\n"
     ]
    }
   ],
   "source": [
    "print(root)\n",
    "print(root.next)\n",
    "print(root.next.next)\n",
    "print(root.next.next.next)"
   ]
  },
  {
   "cell_type": "markdown",
   "metadata": {},
   "source": [
    "Another way to create a list from the above class is to initiate and add node one at a time!!"
   ]
  },
  {
   "cell_type": "code",
   "execution_count": 83,
   "metadata": {},
   "outputs": [],
   "source": [
    "class Node:\n",
    "    def __init__ (self, val, next=None):\n",
    "        self.data = val\n",
    "        self.next_node = next\n",
    "        \n",
    "    def get_next (self):\n",
    "        return self.next_node\n",
    "    \n",
    "    def set_next (self, val):\n",
    "        self.next_node = val\n",
    "        \n",
    "        \n",
    "class L_List_Node:\n",
    "    \n",
    "    # Constructor for LinkedListNode\n",
    "    def __init__(self, value=None):\n",
    "        '''\n",
    "        Every Node in a LinkedList should have a value and a pointer to the next Node\n",
    "        '''\n",
    "        self.head = value\n",
    "        self.tail = value\n",
    "        \n",
    "    def add_node (self, val, next_n=None):\n",
    "        node = Node (val, next_n)\n",
    "        if (self.head == None):\n",
    "            self.head = node\n",
    "            self.tail = node\n",
    "        else: \n",
    "            self.tail.set_next(node)\n",
    "            self.tail=node\n",
    "        \n",
    "    def print_list (self):\n",
    "        itr = self.head\n",
    "        while (itr):\n",
    "            print (itr.data)\n",
    "            itr = itr.get_next ()\n",
    "    \n",
    "    # Think of this as the toString() function of Python\n",
    "    # When you call print on a Linked_List_Node it will print the value instead of printing the reference\n",
    "    def __repr__(self):\n",
    "        return str ( self.value )"
   ]
  },
  {
   "cell_type": "code",
   "execution_count": 84,
   "metadata": {},
   "outputs": [
    {
     "name": "stdout",
     "output_type": "stream",
     "text": [
      "1\n",
      "2\n",
      "3\n"
     ]
    }
   ],
   "source": [
    "\n",
    "myList = L_List_Node ()\n",
    "myList.add_node (1)\n",
    "myList.add_node (2)\n",
    "myList.add_node (3)\n",
    "myList.print_list()\n"
   ]
  },
  {
   "cell_type": "markdown",
   "metadata": {},
   "source": [
    "### 1. Linked_List class\n",
    "- Using the definition of the Linked_List_Node above, finish the Linked_List wrapper class that completes the following functions described below. This wrapper class will allow us to make Linked_Lists from regular lists and will also have a useful print_list method."
   ]
  },
  {
   "cell_type": "code",
   "execution_count": 17,
   "metadata": {},
   "outputs": [],
   "source": [
    "class Node:\n",
    "    def __init__ (self, val, nxt = None):\n",
    "        self.data = val\n",
    "        self.next = nxt\n",
    "        \n",
    "class Linked_List:\n",
    "    # Initialize a LinkedList from a list\n",
    "    def __init__(self, value_list):\n",
    "        '''\n",
    "        Take a regular python list (value_list) and convert it to a Linked_List using the Linked_List_Node class you defined above\n",
    "        Be sure to call set_head with a pointer to the head node of the list\n",
    "        '''\n",
    "        self.head = None\n",
    "        last = None\n",
    "        for (x in value_list):\n",
    "            nd = Node (x)\n",
    "            if (self.head == None):\n",
    "                self.head = nd\n",
    "            else:\n",
    "                last.next = nd\n",
    "                last = nd\n",
    "                \n",
    "        # DONT FORGET TO CALL SET_HEAD WITH YOUR HEAD NODE\n",
    "        # YOUR CODE HERE\n",
    "            \n",
    "    # Helper function to print the Linked_List\n",
    "    def print_list(self):\n",
    "        '''\n",
    "        Define this function to print the Linked_List when invoked in the following format:\n",
    "        1 -> 2 -> 3 -> None\n",
    "        '''\n",
    "        # YOUR CODE HERE\n",
    "        itr = self.head\n",
    "        while (itr):\n",
    "            print (itr.data)\n",
    "            itr = itr.next \n",
    "            \n",
    "        \n",
    "    # Retrive head of the list\n",
    "    def get_head(self):\n",
    "        return self.head\n",
    "    \n",
    "    # Appoint a new head to the list\n",
    "    def set_head(self, new_head):\n",
    "        self.head = new_head"
   ]
  },
  {
   "cell_type": "code",
   "execution_count": null,
   "metadata": {},
   "outputs": [],
   "source": [
    "# Run these tests\n",
    "ll_1 = Linked_List( [1,2,3] )\n",
    "\n",
    "# Checking to see if the Linked_List was constructed properly\n",
    "assert( ll_1.get_head().value == 1 )\n",
    "assert( ll_1.get_head().next.value == 2 )\n",
    "assert( ll_1.get_head().next.next.value == 3 )\n",
    "assert( ll_1.get_head().next.next.next == None )\n",
    "\n",
    "# Manually Verify: \n",
    "ll_1.print_list()\n",
    "\n",
    "# Should print\n",
    "# 1 -> 2 -> 3 -> None"
   ]
  },
  {
   "cell_type": "markdown",
   "metadata": {},
   "source": [
    "### 2. Reverse Linked_List\n",
    "- Define a function that takes in a Linked_List and reverses it in place\n",
    "- Be sure to change the head pointer of the Linked_List to the last node in the original list using `linked_list.set_head(...)`\n",
    "- A Linked_List that looks like this in memory:\n",
    "\n",
    "`1 -> 2 -> 3 -> None` should look like this `3 -> 2 -> 1 -> None`\n"
   ]
  },
  {
   "cell_type": "code",
   "execution_count": 18,
   "metadata": {},
   "outputs": [],
   "source": [
    "def reverse_in_place( linked_list ):\n",
    "    # YOUR CODE HERE\n",
    "    ..."
   ]
  },
  {
   "cell_type": "code",
   "execution_count": null,
   "metadata": {},
   "outputs": [],
   "source": [
    "'''\n",
    "Run this piece of code after you define reverse_in_place\n",
    "'''\n",
    "\n",
    "# Run these tests\n",
    "ll_1 = Linked_List( [1,2,3] )\n",
    "reverse_in_place( ll_1 )\n",
    "\n",
    "# Checking to see if the Linked_List was constructed properly\n",
    "# It will be reversed\n",
    "\n",
    "# Manually Verify: \n",
    "ll_1.print_list()\n",
    "\n",
    "# Should print\n",
    "# 3 -> 2 -> 1 -> None"
   ]
  },
  {
   "cell_type": "markdown",
   "metadata": {},
   "source": [
    "### 3. Delete the kth element in a list\n",
    "- Define a function that deletes the kth element from the start in the Linked_List in place\n",
    "- A Linked_List that looks like this in memory. After delete_k(ll_1, 2 ):\n",
    "\n",
    "    `1 -> 2 -> 3 -> None` should look like this `1 -> 3 -> None`"
   ]
  },
  {
   "cell_type": "code",
   "execution_count": 20,
   "metadata": {},
   "outputs": [],
   "source": [
    "def delete_k( linked_list, k ):\n",
    "    # YOUR CODE HERE/ BE SURE TO CALL SET_HEAD TO THE APPROPRIATE NODE IF YOU DELETE THE START NODE\n",
    "    ...\n",
    "    "
   ]
  },
  {
   "cell_type": "code",
   "execution_count": 21,
   "metadata": {},
   "outputs": [
    {
     "ename": "AttributeError",
     "evalue": "'Linked_List' object has no attribute 'head'",
     "output_type": "error",
     "traceback": [
      "\u001b[0;31m---------------------------------------------------------------------------\u001b[0m",
      "\u001b[0;31mAttributeError\u001b[0m                            Traceback (most recent call last)",
      "\u001b[0;32m<ipython-input-21-3aca33da5f24>\u001b[0m in \u001b[0;36m<module>\u001b[0;34m\u001b[0m\n\u001b[1;32m      9\u001b[0m \u001b[0;31m# Checking to see if the Linked_List was constructed properly\u001b[0m\u001b[0;34m\u001b[0m\u001b[0;34m\u001b[0m\u001b[0;34m\u001b[0m\u001b[0m\n\u001b[1;32m     10\u001b[0m \u001b[0;34m\u001b[0m\u001b[0m\n\u001b[0;32m---> 11\u001b[0;31m \u001b[0;32massert\u001b[0m\u001b[0;34m(\u001b[0m \u001b[0mll_1\u001b[0m\u001b[0;34m.\u001b[0m\u001b[0mget_head\u001b[0m\u001b[0;34m(\u001b[0m\u001b[0;34m)\u001b[0m\u001b[0;34m.\u001b[0m\u001b[0mvalue\u001b[0m \u001b[0;34m==\u001b[0m \u001b[0;36m1\u001b[0m \u001b[0;34m)\u001b[0m\u001b[0;34m\u001b[0m\u001b[0;34m\u001b[0m\u001b[0m\n\u001b[0m\u001b[1;32m     12\u001b[0m \u001b[0;32massert\u001b[0m\u001b[0;34m(\u001b[0m \u001b[0mll_1\u001b[0m\u001b[0;34m.\u001b[0m\u001b[0mget_head\u001b[0m\u001b[0;34m(\u001b[0m\u001b[0;34m)\u001b[0m\u001b[0;34m.\u001b[0m\u001b[0mnext\u001b[0m\u001b[0;34m.\u001b[0m\u001b[0mvalue\u001b[0m \u001b[0;34m==\u001b[0m \u001b[0;36m3\u001b[0m \u001b[0;34m)\u001b[0m\u001b[0;34m\u001b[0m\u001b[0;34m\u001b[0m\u001b[0m\n\u001b[1;32m     13\u001b[0m \u001b[0;32massert\u001b[0m\u001b[0;34m(\u001b[0m \u001b[0mll_1\u001b[0m\u001b[0;34m.\u001b[0m\u001b[0mget_head\u001b[0m\u001b[0;34m(\u001b[0m\u001b[0;34m)\u001b[0m\u001b[0;34m.\u001b[0m\u001b[0mnext\u001b[0m\u001b[0;34m.\u001b[0m\u001b[0mnext\u001b[0m \u001b[0;34m==\u001b[0m \u001b[0;32mNone\u001b[0m \u001b[0;34m)\u001b[0m\u001b[0;34m\u001b[0m\u001b[0;34m\u001b[0m\u001b[0m\n",
      "\u001b[0;32m<ipython-input-17-22bc057208d6>\u001b[0m in \u001b[0;36mget_head\u001b[0;34m(self)\u001b[0m\n\u001b[1;32m     18\u001b[0m     \u001b[0;31m# Retrive head of the list\u001b[0m\u001b[0;34m\u001b[0m\u001b[0;34m\u001b[0m\u001b[0;34m\u001b[0m\u001b[0m\n\u001b[1;32m     19\u001b[0m     \u001b[0;32mdef\u001b[0m \u001b[0mget_head\u001b[0m\u001b[0;34m(\u001b[0m\u001b[0mself\u001b[0m\u001b[0;34m)\u001b[0m\u001b[0;34m:\u001b[0m\u001b[0;34m\u001b[0m\u001b[0;34m\u001b[0m\u001b[0m\n\u001b[0;32m---> 20\u001b[0;31m         \u001b[0;32mreturn\u001b[0m \u001b[0mself\u001b[0m\u001b[0;34m.\u001b[0m\u001b[0mhead\u001b[0m\u001b[0;34m\u001b[0m\u001b[0;34m\u001b[0m\u001b[0m\n\u001b[0m\u001b[1;32m     21\u001b[0m \u001b[0;34m\u001b[0m\u001b[0m\n\u001b[1;32m     22\u001b[0m     \u001b[0;31m# Appoint a new head to the list\u001b[0m\u001b[0;34m\u001b[0m\u001b[0;34m\u001b[0m\u001b[0;34m\u001b[0m\u001b[0m\n",
      "\u001b[0;31mAttributeError\u001b[0m: 'Linked_List' object has no attribute 'head'"
     ]
    }
   ],
   "source": [
    "'''\n",
    "Run this piece of code after you define delete_k\n",
    "'''\n",
    "\n",
    "# Run these tests\n",
    "ll_1 = Linked_List( [1,2,3] )\n",
    "delete_k( ll_1, 2 ) #\n",
    "\n",
    "# Manually Verify: \n",
    "ll_1.print_list()\n",
    "\n",
    "# Should print\n",
    "# 1 -> 3 -> None"
   ]
  },
  {
   "cell_type": "markdown",
   "metadata": {},
   "source": [
    "### 4. Delete the kth from last element in a Linked_List\n",
    "- Define a function that deletes the kth element from the end in the Linked_List in place\n",
    "- A Linked_List that looks like this in memory. After `delete_k_from_last(ll_1, 2 )`:\n",
    "\n",
    "    `1 -> 2 -> 3 -> 4 -> 5 -> None` should look like this `1 -> 2 -> 3 -> 5 -> None` Element 4 is deleted since it is the second from the last element in the list"
   ]
  },
  {
   "cell_type": "code",
   "execution_count": null,
   "metadata": {},
   "outputs": [],
   "source": [
    "def delete_k_from_last( linked_list, k ):\n",
    "    # YOUR CODE HERE/ BE SURE TO CALL SET_HEAD TO THE APPROPRIATE NODE IF YOU DELETE THE START NODE\n",
    "    # DO THIS IN PLACE\n",
    "    ...\n",
    "    "
   ]
  },
  {
   "cell_type": "code",
   "execution_count": null,
   "metadata": {},
   "outputs": [],
   "source": [
    "'''\n",
    "Run this piece of code after you define delete_k_from_last\n",
    "'''\n",
    "\n",
    "# Run these tests\n",
    "ll_1 = Linked_List( [1,2,3,4,5] )\n",
    "delete_k_from_last( ll_1, 2 ) #\n",
    "\n",
    "# Manually Verify: \n",
    "ll_1.print_list()\n",
    "\n",
    "# Should print\n",
    "# 1 -> 2 -> 3 -> 5 -> None"
   ]
  },
  {
   "cell_type": "markdown",
   "metadata": {},
   "source": [
    "### 5. Return the midpoint of a LinkedList\n",
    "- Define a function that returns a pointer to the middle of the Linked_List\n",
    "- If the list is of even length, return pointer to n/2 element\n",
    "- `1 -> 2 -> 3 -> 4 -> 5 -> None` should return a pointer to the Node with the value of 3"
   ]
  },
  {
   "cell_type": "code",
   "execution_count": 22,
   "metadata": {},
   "outputs": [],
   "source": [
    "def middle( linked_list):\n",
    "    # YOUR CODE HERE\n",
    "    ...\n",
    "    # REMEMBER TO RETURN THE MIDDLE NODE"
   ]
  },
  {
   "cell_type": "code",
   "execution_count": 23,
   "metadata": {},
   "outputs": [
    {
     "ename": "AttributeError",
     "evalue": "'NoneType' object has no attribute 'value'",
     "output_type": "error",
     "traceback": [
      "\u001b[0;31m---------------------------------------------------------------------------\u001b[0m",
      "\u001b[0;31mAttributeError\u001b[0m                            Traceback (most recent call last)",
      "\u001b[0;32m<ipython-input-23-ae14aff4cfdb>\u001b[0m in \u001b[0;36m<module>\u001b[0;34m\u001b[0m\n\u001b[1;32m      7\u001b[0m \u001b[0mmiddle_node\u001b[0m \u001b[0;34m=\u001b[0m \u001b[0mmiddle\u001b[0m\u001b[0;34m(\u001b[0m \u001b[0mll_1\u001b[0m\u001b[0;34m)\u001b[0m \u001b[0;31m#\u001b[0m\u001b[0;34m\u001b[0m\u001b[0;34m\u001b[0m\u001b[0m\n\u001b[1;32m      8\u001b[0m \u001b[0;34m\u001b[0m\u001b[0m\n\u001b[0;32m----> 9\u001b[0;31m \u001b[0;32massert\u001b[0m\u001b[0;34m(\u001b[0m \u001b[0mmiddle_node\u001b[0m\u001b[0;34m.\u001b[0m\u001b[0mvalue\u001b[0m \u001b[0;34m==\u001b[0m \u001b[0;36m3\u001b[0m \u001b[0;34m)\u001b[0m\u001b[0;34m\u001b[0m\u001b[0;34m\u001b[0m\u001b[0m\n\u001b[0m",
      "\u001b[0;31mAttributeError\u001b[0m: 'NoneType' object has no attribute 'value'"
     ]
    }
   ],
   "source": [
    "'''\n",
    "Run this piece of code after you define middle\n",
    "'''\n",
    "\n",
    "# Run these tests\n",
    "ll_1 = Linked_List( [1,2,3,4,5] )\n",
    "middle_node = middle( ll_1) #\n",
    "\n",
    "assert( middle_node.value == 3 )"
   ]
  },
  {
   "cell_type": "code",
   "execution_count": 36,
   "metadata": {},
   "outputs": [
    {
     "name": "stdout",
     "output_type": "stream",
     "text": [
      "On branch master\n",
      "Your branch is up to date with 'origin/master'.\n",
      "\n",
      "Changes not staged for commit:\n",
      "  (use \"git add <file>...\" to update what will be committed)\n",
      "  (use \"git checkout -- <file>...\" to discard changes in working directory)\n",
      "\n",
      "\tmodified:   .ipynb_checkpoints/Cracking the Coding Interview Problems-checkpoint.ipynb\n",
      "\tmodified:   Cracking the Coding Interview Problems.ipynb\n",
      "\n",
      "no changes added to commit (use \"git add\" and/or \"git commit -a\")\n"
     ]
    },
    {
     "name": "stderr",
     "output_type": "stream",
     "text": [
      "warning: LF will be replaced by CRLF in .ipynb_checkpoints/Cracking the Coding Interview Problems-checkpoint.ipynb.\n",
      "The file will have its original line endings in your working directory\n",
      "warning: LF will be replaced by CRLF in Cracking the Coding Interview Problems.ipynb.\n",
      "The file will have its original line endings in your working directory\n"
     ]
    },
    {
     "name": "stdout",
     "output_type": "stream",
     "text": [
      "[master 734a252] progress commit\n",
      " Committer: Mohammed Abdul-Razzak <mabdulra@ss8.com>\n",
      "Your name and email address were configured automatically based\n",
      "on your username and hostname. Please check that they are accurate.\n",
      "You can suppress this message by setting them explicitly. Run the\n",
      "following command and follow the instructions in your editor to edit\n",
      "your configuration file:\n",
      "\n",
      "    git config --global --edit\n",
      "\n",
      "After doing this, you may fix the identity used for this commit with:\n",
      "\n",
      "    git commit --amend --reset-author\n",
      "\n",
      " 2 files changed, 193 insertions(+), 42 deletions(-)\n",
      "Branch 'master' set up to track remote branch 'master' from 'origin'.\n"
     ]
    },
    {
     "name": "stderr",
     "output_type": "stream",
     "text": [
      "To https://github.com/mabdulrazzak/Interview_Prep.git\n",
      "   f0774d1..734a252  master -> master\n"
     ]
    }
   ],
   "source": [
    "# Saves and commits the code\n",
    "! git status\n",
    "! git add .\n",
    "! git commit -m \"progress commit\"\n",
    "! git push -u origin master"
   ]
  },
  {
   "cell_type": "code",
   "execution_count": null,
   "metadata": {},
   "outputs": [],
   "source": []
  }
 ],
 "metadata": {
  "kernelspec": {
   "display_name": "Python 3",
   "language": "python",
   "name": "python3"
  },
  "language_info": {
   "codemirror_mode": {
    "name": "ipython",
    "version": 3
   },
   "file_extension": ".py",
   "mimetype": "text/x-python",
   "name": "python",
   "nbconvert_exporter": "python",
   "pygments_lexer": "ipython3",
   "version": "3.7.2"
  }
 },
 "nbformat": 4,
 "nbformat_minor": 2
}
